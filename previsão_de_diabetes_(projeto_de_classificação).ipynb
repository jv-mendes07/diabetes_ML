{
  "cells": [
    {
      "cell_type": "markdown",
      "metadata": {
        "id": "view-in-github",
        "colab_type": "text"
      },
      "source": [
        "<a href=\"https://colab.research.google.com/github/jv-mendes07/diabetes_ML/blob/main/previs%C3%A3o_de_diabetes_(projeto_de_classifica%C3%A7%C3%A3o).ipynb\" target=\"_parent\"><img src=\"https://colab.research.google.com/assets/colab-badge.svg\" alt=\"Open In Colab\"/></a>"
      ]
    },
    {
      "cell_type": "markdown",
      "metadata": {
        "id": "qbvGvhZiWLBk"
      },
      "source": [
        "### Previsão de Diabetes - Projeto de Classificação"
      ]
    },
    {
      "cell_type": "markdown",
      "source": [
        "#### Neste projeto, usarei um conjunto de dados com várias medidas médicas e físicas de pacientes do sexo feminina que foram diagnosticas com diabetes ou não.\n",
        "\n",
        "#### O objetivo de tal projeto é treinar um modelo de classificação que prediga com o máximo de precisão possível se uma paciente têm diabetes ou não, ou seja, resolverei um problema de classificação em tal projeto analítico."
      ],
      "metadata": {
        "id": "BtV4KSmfCarN"
      }
    },
    {
      "cell_type": "code",
      "execution_count": 1636,
      "metadata": {
        "colab": {
          "base_uri": "https://localhost:8080/"
        },
        "id": "5BA_b-QYWDY5",
        "outputId": "1415f0f9-45d0-411b-c29f-d9c274ae026d"
      },
      "outputs": [
        {
          "output_type": "stream",
          "name": "stdout",
          "text": [
            "Drive already mounted at /content/drive; to attempt to forcibly remount, call drive.mount(\"/content/drive\", force_remount=True).\n"
          ]
        }
      ],
      "source": [
        "from google.colab import drive\n",
        "drive.mount('/content/drive')"
      ]
    },
    {
      "cell_type": "markdown",
      "metadata": {
        "id": "uSYQotTLmgRB"
      },
      "source": [
        "### Importação de Bibliotecas"
      ]
    },
    {
      "cell_type": "code",
      "execution_count": 1637,
      "metadata": {
        "id": "PRg01UoaWDzW"
      },
      "outputs": [],
      "source": [
        "# Importação das principais bibliotecas que serão utilizadas:\n",
        "\n",
        "import pandas as pd\n",
        "import numpy as np\n",
        "import matplotlib.pyplot as plt\n",
        "import seaborn as sns"
      ]
    },
    {
      "cell_type": "markdown",
      "metadata": {
        "id": "pscNFY7Ym7pF"
      },
      "source": [
        "### Importação de Dataset"
      ]
    },
    {
      "cell_type": "code",
      "execution_count": 1638,
      "metadata": {
        "id": "hqgRPNUsWVGs"
      },
      "outputs": [],
      "source": [
        "# Importação do dataset:\n",
        "\n",
        "df = pd.read_csv('/content/drive/MyDrive/diabetes.csv')"
      ]
    },
    {
      "cell_type": "markdown",
      "metadata": {
        "id": "56qD_0D3m_Ri"
      },
      "source": [
        "### Tratamento de Dados"
      ]
    },
    {
      "cell_type": "code",
      "execution_count": 1639,
      "metadata": {
        "id": "Bx37iWZuWbCf"
      },
      "outputs": [],
      "source": [
        "# Atribuição da quantidade de linhas e de colunas à variáveis distintas:\n",
        "\n",
        "l, c = df.shape"
      ]
    },
    {
      "cell_type": "code",
      "execution_count": 1640,
      "metadata": {
        "colab": {
          "base_uri": "https://localhost:8080/"
        },
        "id": "SPgdGfUfWcY9",
        "outputId": "31e37150-bbc9-45a1-f147-ca60638c9bb6"
      },
      "outputs": [
        {
          "output_type": "stream",
          "name": "stdout",
          "text": [
            "Quantidade de Linhas: 768\n",
            "Quantidade de Colunas: 9\n"
          ]
        }
      ],
      "source": [
        "# Visualização da quantidade de linhas e da quantidade de colunas:\n",
        "\n",
        "print(f'Quantidade de Linhas: {l}')\n",
        "print(f'Quantidade de Colunas: {c}')"
      ]
    },
    {
      "cell_type": "code",
      "execution_count": 1641,
      "metadata": {
        "colab": {
          "base_uri": "https://localhost:8080/",
          "height": 206
        },
        "id": "tXAv17g0Wh4K",
        "outputId": "b39d14ea-5413-446b-eaf3-09f1dc58bfae"
      },
      "outputs": [
        {
          "output_type": "execute_result",
          "data": {
            "text/plain": [
              "   Pregnancies  Glucose  BloodPressure  SkinThickness  Insulin   BMI  \\\n",
              "0            6      148             72             35        0  33.6   \n",
              "1            1       85             66             29        0  26.6   \n",
              "2            8      183             64              0        0  23.3   \n",
              "3            1       89             66             23       94  28.1   \n",
              "4            0      137             40             35      168  43.1   \n",
              "\n",
              "   DiabetesPedigreeFunction  Age  Outcome  \n",
              "0                     0.627   50        1  \n",
              "1                     0.351   31        0  \n",
              "2                     0.672   32        1  \n",
              "3                     0.167   21        0  \n",
              "4                     2.288   33        1  "
            ],
            "text/html": [
              "\n",
              "  <div id=\"df-c8381b25-3345-4c90-81f2-617450aca48e\">\n",
              "    <div class=\"colab-df-container\">\n",
              "      <div>\n",
              "<style scoped>\n",
              "    .dataframe tbody tr th:only-of-type {\n",
              "        vertical-align: middle;\n",
              "    }\n",
              "\n",
              "    .dataframe tbody tr th {\n",
              "        vertical-align: top;\n",
              "    }\n",
              "\n",
              "    .dataframe thead th {\n",
              "        text-align: right;\n",
              "    }\n",
              "</style>\n",
              "<table border=\"1\" class=\"dataframe\">\n",
              "  <thead>\n",
              "    <tr style=\"text-align: right;\">\n",
              "      <th></th>\n",
              "      <th>Pregnancies</th>\n",
              "      <th>Glucose</th>\n",
              "      <th>BloodPressure</th>\n",
              "      <th>SkinThickness</th>\n",
              "      <th>Insulin</th>\n",
              "      <th>BMI</th>\n",
              "      <th>DiabetesPedigreeFunction</th>\n",
              "      <th>Age</th>\n",
              "      <th>Outcome</th>\n",
              "    </tr>\n",
              "  </thead>\n",
              "  <tbody>\n",
              "    <tr>\n",
              "      <th>0</th>\n",
              "      <td>6</td>\n",
              "      <td>148</td>\n",
              "      <td>72</td>\n",
              "      <td>35</td>\n",
              "      <td>0</td>\n",
              "      <td>33.6</td>\n",
              "      <td>0.627</td>\n",
              "      <td>50</td>\n",
              "      <td>1</td>\n",
              "    </tr>\n",
              "    <tr>\n",
              "      <th>1</th>\n",
              "      <td>1</td>\n",
              "      <td>85</td>\n",
              "      <td>66</td>\n",
              "      <td>29</td>\n",
              "      <td>0</td>\n",
              "      <td>26.6</td>\n",
              "      <td>0.351</td>\n",
              "      <td>31</td>\n",
              "      <td>0</td>\n",
              "    </tr>\n",
              "    <tr>\n",
              "      <th>2</th>\n",
              "      <td>8</td>\n",
              "      <td>183</td>\n",
              "      <td>64</td>\n",
              "      <td>0</td>\n",
              "      <td>0</td>\n",
              "      <td>23.3</td>\n",
              "      <td>0.672</td>\n",
              "      <td>32</td>\n",
              "      <td>1</td>\n",
              "    </tr>\n",
              "    <tr>\n",
              "      <th>3</th>\n",
              "      <td>1</td>\n",
              "      <td>89</td>\n",
              "      <td>66</td>\n",
              "      <td>23</td>\n",
              "      <td>94</td>\n",
              "      <td>28.1</td>\n",
              "      <td>0.167</td>\n",
              "      <td>21</td>\n",
              "      <td>0</td>\n",
              "    </tr>\n",
              "    <tr>\n",
              "      <th>4</th>\n",
              "      <td>0</td>\n",
              "      <td>137</td>\n",
              "      <td>40</td>\n",
              "      <td>35</td>\n",
              "      <td>168</td>\n",
              "      <td>43.1</td>\n",
              "      <td>2.288</td>\n",
              "      <td>33</td>\n",
              "      <td>1</td>\n",
              "    </tr>\n",
              "  </tbody>\n",
              "</table>\n",
              "</div>\n",
              "      <button class=\"colab-df-convert\" onclick=\"convertToInteractive('df-c8381b25-3345-4c90-81f2-617450aca48e')\"\n",
              "              title=\"Convert this dataframe to an interactive table.\"\n",
              "              style=\"display:none;\">\n",
              "        \n",
              "  <svg xmlns=\"http://www.w3.org/2000/svg\" height=\"24px\"viewBox=\"0 0 24 24\"\n",
              "       width=\"24px\">\n",
              "    <path d=\"M0 0h24v24H0V0z\" fill=\"none\"/>\n",
              "    <path d=\"M18.56 5.44l.94 2.06.94-2.06 2.06-.94-2.06-.94-.94-2.06-.94 2.06-2.06.94zm-11 1L8.5 8.5l.94-2.06 2.06-.94-2.06-.94L8.5 2.5l-.94 2.06-2.06.94zm10 10l.94 2.06.94-2.06 2.06-.94-2.06-.94-.94-2.06-.94 2.06-2.06.94z\"/><path d=\"M17.41 7.96l-1.37-1.37c-.4-.4-.92-.59-1.43-.59-.52 0-1.04.2-1.43.59L10.3 9.45l-7.72 7.72c-.78.78-.78 2.05 0 2.83L4 21.41c.39.39.9.59 1.41.59.51 0 1.02-.2 1.41-.59l7.78-7.78 2.81-2.81c.8-.78.8-2.07 0-2.86zM5.41 20L4 18.59l7.72-7.72 1.47 1.35L5.41 20z\"/>\n",
              "  </svg>\n",
              "      </button>\n",
              "      \n",
              "  <style>\n",
              "    .colab-df-container {\n",
              "      display:flex;\n",
              "      flex-wrap:wrap;\n",
              "      gap: 12px;\n",
              "    }\n",
              "\n",
              "    .colab-df-convert {\n",
              "      background-color: #E8F0FE;\n",
              "      border: none;\n",
              "      border-radius: 50%;\n",
              "      cursor: pointer;\n",
              "      display: none;\n",
              "      fill: #1967D2;\n",
              "      height: 32px;\n",
              "      padding: 0 0 0 0;\n",
              "      width: 32px;\n",
              "    }\n",
              "\n",
              "    .colab-df-convert:hover {\n",
              "      background-color: #E2EBFA;\n",
              "      box-shadow: 0px 1px 2px rgba(60, 64, 67, 0.3), 0px 1px 3px 1px rgba(60, 64, 67, 0.15);\n",
              "      fill: #174EA6;\n",
              "    }\n",
              "\n",
              "    [theme=dark] .colab-df-convert {\n",
              "      background-color: #3B4455;\n",
              "      fill: #D2E3FC;\n",
              "    }\n",
              "\n",
              "    [theme=dark] .colab-df-convert:hover {\n",
              "      background-color: #434B5C;\n",
              "      box-shadow: 0px 1px 3px 1px rgba(0, 0, 0, 0.15);\n",
              "      filter: drop-shadow(0px 1px 2px rgba(0, 0, 0, 0.3));\n",
              "      fill: #FFFFFF;\n",
              "    }\n",
              "  </style>\n",
              "\n",
              "      <script>\n",
              "        const buttonEl =\n",
              "          document.querySelector('#df-c8381b25-3345-4c90-81f2-617450aca48e button.colab-df-convert');\n",
              "        buttonEl.style.display =\n",
              "          google.colab.kernel.accessAllowed ? 'block' : 'none';\n",
              "\n",
              "        async function convertToInteractive(key) {\n",
              "          const element = document.querySelector('#df-c8381b25-3345-4c90-81f2-617450aca48e');\n",
              "          const dataTable =\n",
              "            await google.colab.kernel.invokeFunction('convertToInteractive',\n",
              "                                                     [key], {});\n",
              "          if (!dataTable) return;\n",
              "\n",
              "          const docLinkHtml = 'Like what you see? Visit the ' +\n",
              "            '<a target=\"_blank\" href=https://colab.research.google.com/notebooks/data_table.ipynb>data table notebook</a>'\n",
              "            + ' to learn more about interactive tables.';\n",
              "          element.innerHTML = '';\n",
              "          dataTable['output_type'] = 'display_data';\n",
              "          await google.colab.output.renderOutput(dataTable, element);\n",
              "          const docLink = document.createElement('div');\n",
              "          docLink.innerHTML = docLinkHtml;\n",
              "          element.appendChild(docLink);\n",
              "        }\n",
              "      </script>\n",
              "    </div>\n",
              "  </div>\n",
              "  "
            ]
          },
          "metadata": {},
          "execution_count": 1641
        }
      ],
      "source": [
        "# Visualização das cinco primeiras linhas do dataset:\n",
        "\n",
        "df.head()"
      ]
    },
    {
      "cell_type": "code",
      "execution_count": 1642,
      "metadata": {
        "id": "xsLS10PvWkkv"
      },
      "outputs": [],
      "source": [
        "# Formatação textual do nome das colunas, para que todas colunas estejam em minúsculo:\n",
        "\n",
        "df.columns = [x.lower() for x in df.columns]"
      ]
    },
    {
      "cell_type": "code",
      "execution_count": 1643,
      "metadata": {
        "colab": {
          "base_uri": "https://localhost:8080/"
        },
        "id": "0Ow9fKM1Wy2p",
        "outputId": "87f31786-495a-40ea-9497-50bbfb387057"
      },
      "outputs": [
        {
          "output_type": "execute_result",
          "data": {
            "text/plain": [
              "Index(['pregnancies', 'glucose', 'bloodpressure', 'skinthickness', 'insulin',\n",
              "       'bmi', 'diabetespedigreefunction', 'age', 'outcome'],\n",
              "      dtype='object')"
            ]
          },
          "metadata": {},
          "execution_count": 1643
        }
      ],
      "source": [
        "# Nome das colunas:\n",
        "\n",
        "df.columns"
      ]
    },
    {
      "cell_type": "code",
      "execution_count": 1644,
      "metadata": {
        "colab": {
          "base_uri": "https://localhost:8080/"
        },
        "id": "1cw0-nyDW7OL",
        "outputId": "d9e02001-3f5d-49ff-f1d0-28f5fc9ad847"
      },
      "outputs": [
        {
          "output_type": "stream",
          "name": "stdout",
          "text": [
            "<class 'pandas.core.frame.DataFrame'>\n",
            "RangeIndex: 768 entries, 0 to 767\n",
            "Data columns (total 9 columns):\n",
            " #   Column                    Non-Null Count  Dtype  \n",
            "---  ------                    --------------  -----  \n",
            " 0   pregnancies               768 non-null    int64  \n",
            " 1   glucose                   768 non-null    int64  \n",
            " 2   bloodpressure             768 non-null    int64  \n",
            " 3   skinthickness             768 non-null    int64  \n",
            " 4   insulin                   768 non-null    int64  \n",
            " 5   bmi                       768 non-null    float64\n",
            " 6   diabetespedigreefunction  768 non-null    float64\n",
            " 7   age                       768 non-null    int64  \n",
            " 8   outcome                   768 non-null    int64  \n",
            "dtypes: float64(2), int64(7)\n",
            "memory usage: 54.1 KB\n"
          ]
        }
      ],
      "source": [
        "# Informações gerais do dataset:\n",
        "\n",
        "df.info()"
      ]
    },
    {
      "cell_type": "code",
      "execution_count": 1645,
      "metadata": {
        "colab": {
          "base_uri": "https://localhost:8080/"
        },
        "id": "nBDaxyku8FuC",
        "outputId": "623f3e5c-e12f-470c-f940-939cefb7a1bd"
      },
      "outputs": [
        {
          "output_type": "execute_result",
          "data": {
            "text/plain": [
              "pregnancies                 0\n",
              "glucose                     0\n",
              "bloodpressure               0\n",
              "skinthickness               0\n",
              "insulin                     0\n",
              "bmi                         0\n",
              "diabetespedigreefunction    0\n",
              "age                         0\n",
              "outcome                     0\n",
              "dtype: int64"
            ]
          },
          "metadata": {},
          "execution_count": 1645
        }
      ],
      "source": [
        "# Quantidade de dados ausentes:\n",
        "\n",
        "df.isna().sum()"
      ]
    },
    {
      "cell_type": "markdown",
      "metadata": {
        "id": "iCwLatnSXcBi"
      },
      "source": [
        "## Dicionário de Dados\n",
        "\n",
        "* pregnancies - Número de gravidezes\n",
        "* glucose - Nível de glicose no sangue\n",
        "* bloodpressure - Medição da pressão sanguínea\n",
        "* skinthickness - Espessura da pele\n",
        "* insulin - Nível de insulina no sangue\n",
        "* bmi - Indicador de massa corporal\n",
        "* diabetespedigreefunction - Porcentagem de diabetes no sangue\n",
        "* age - Idade\n",
        "* outcome - Resultado de diabetes (1 - Sim; 0 = Não)"
      ]
    },
    {
      "cell_type": "markdown",
      "metadata": {
        "id": "WkH5LJb4YXO2"
      },
      "source": [
        "### Análise Exploratória de Dados (EDA)"
      ]
    },
    {
      "cell_type": "markdown",
      "metadata": {
        "id": "loguMjaEZnsP"
      },
      "source": [
        "#### (1) Qual foi a quantidade de pacientes diagnosticados com diabetes ou não?"
      ]
    },
    {
      "cell_type": "code",
      "execution_count": 1646,
      "metadata": {
        "colab": {
          "base_uri": "https://localhost:8080/"
        },
        "id": "h7ZyVtRRZvnw",
        "outputId": "082c5123-97af-4975-babe-e92ed9ebd00b"
      },
      "outputs": [
        {
          "output_type": "execute_result",
          "data": {
            "text/plain": [
              "0    500\n",
              "1    268\n",
              "Name: outcome, dtype: int64"
            ]
          },
          "metadata": {},
          "execution_count": 1646
        }
      ],
      "source": [
        "# Verificação da quantidade de pacientes com diabetes e sem diabetes:\n",
        "\n",
        "df.outcome.value_counts()"
      ]
    },
    {
      "cell_type": "code",
      "execution_count": 1647,
      "metadata": {
        "colab": {
          "base_uri": "https://localhost:8080/"
        },
        "id": "cOO_mbe2Zx1X",
        "outputId": "6b9e857b-fbf4-4e5f-c066-83cd91db5462"
      },
      "outputs": [
        {
          "output_type": "execute_result",
          "data": {
            "text/plain": [
              "0    65.1\n",
              "1    34.9\n",
              "Name: outcome, dtype: float64"
            ]
          },
          "metadata": {},
          "execution_count": 1647
        }
      ],
      "source": [
        "# Verificação percentual da quantidade de pacientes com diabetes e sem diabetes:\n",
        "\n",
        "(df.outcome.value_counts(normalize = True) * 100).round(2)"
      ]
    },
    {
      "cell_type": "code",
      "execution_count": 1648,
      "metadata": {
        "id": "MAMEekDd4Q_m"
      },
      "outputs": [],
      "source": [
        "# Estilo dos gráficos:\n",
        "\n",
        "sns.set_style('darkgrid')"
      ]
    },
    {
      "cell_type": "code",
      "execution_count": 1649,
      "metadata": {
        "colab": {
          "base_uri": "https://localhost:8080/",
          "height": 336
        },
        "id": "m0D0FZJe3ocn",
        "outputId": "5501e3a4-45c4-42f3-b4fd-2e7ae84985d7"
      },
      "outputs": [
        {
          "output_type": "display_data",
          "data": {
            "text/plain": [
              "<Figure size 864x360 with 1 Axes>"
            ],
            "image/png": "[encoded data removed]"
          },
          "metadata": {}
        }
      ],
      "source": [
        "# Gráfico de barras para visualizar a quantidade de pacientes com diabetes em comparação com a quantidade de pacientes\n",
        "# sem diabetes:\n",
        "\n",
        "plt.figure(figsize = (12, 5))\n",
        "sns.barplot(x = df.outcome.value_counts().index,\n",
        "            y = df.outcome.value_counts().values,\n",
        "            palette = 'Purples_r')\n",
        "plt.xticks(ticks = [0, 1],\n",
        "           labels = ['Sem Diabetes', 'Com Diabetes'],\n",
        "           fontsize = 10, color = 'k')\n",
        "plt.yticks(ticks = np.arange(0, 501, 100), fontsize = 10, color = 'k')\n",
        "plt.title('Diagnóstico de Diabetes', fontsize = 12, color = 'k');"
      ]
    },
    {
      "cell_type": "markdown",
      "metadata": {
        "id": "wUCgg1jBYhWB"
      },
      "source": [
        "#### (2) A quantidade de gravidezes de uma paciente é correlacionada com o fato da paciente ter diabetes ou não?"
      ]
    },
    {
      "cell_type": "code",
      "execution_count": 1650,
      "metadata": {
        "colab": {
          "base_uri": "https://localhost:8080/"
        },
        "id": "mYfBsmYM5wKY",
        "outputId": "5905f926-904d-4ba0-a1ed-01f58f1b96dd"
      },
      "outputs": [
        {
          "output_type": "execute_result",
          "data": {
            "text/plain": [
              "array([ 6,  1,  8,  0,  5,  3, 10,  2,  4,  7,  9, 11, 13, 15, 17, 12, 14])"
            ]
          },
          "metadata": {},
          "execution_count": 1650
        }
      ],
      "source": [
        "# Valores únicos de gravidezes das pacientes:\n",
        "\n",
        "df.pregnancies.unique()"
      ]
    },
    {
      "cell_type": "code",
      "execution_count": 1651,
      "metadata": {
        "colab": {
          "base_uri": "https://localhost:8080/"
        },
        "id": "w4nO8eGa5zHy",
        "outputId": "87fe1c16-c750-4f8a-fa78-628f3d911571"
      },
      "outputs": [
        {
          "output_type": "execute_result",
          "data": {
            "text/plain": [
              "17"
            ]
          },
          "metadata": {},
          "execution_count": 1651
        }
      ],
      "source": [
        "# Quantidade de valores únicos:\n",
        "\n",
        "df.pregnancies.nunique()"
      ]
    },
    {
      "cell_type": "code",
      "execution_count": 1652,
      "metadata": {
        "colab": {
          "base_uri": "https://localhost:8080/"
        },
        "id": "jx5NWEVX5067",
        "outputId": "bcee5aec-9c4d-4d02-c640-41fbd3ab4daf"
      },
      "outputs": [
        {
          "output_type": "execute_result",
          "data": {
            "text/plain": [
              "1     135\n",
              "0     111\n",
              "2     103\n",
              "3      75\n",
              "4      68\n",
              "5      57\n",
              "6      50\n",
              "7      45\n",
              "8      38\n",
              "9      28\n",
              "10     24\n",
              "11     11\n",
              "13     10\n",
              "12      9\n",
              "14      2\n",
              "15      1\n",
              "17      1\n",
              "Name: pregnancies, dtype: int64"
            ]
          },
          "metadata": {},
          "execution_count": 1652
        }
      ],
      "source": [
        "# Quantidade de pacientes por quantidade de gravidezes que tiveram:\n",
        "\n",
        "df.pregnancies.value_counts()"
      ]
    },
    {
      "cell_type": "code",
      "execution_count": 1653,
      "metadata": {
        "colab": {
          "base_uri": "https://localhost:8080/"
        },
        "id": "ovKE1j5Z55kL",
        "outputId": "ed670cf3-fb42-4332-ef03-daa5b3b3e54e"
      },
      "outputs": [
        {
          "output_type": "execute_result",
          "data": {
            "text/plain": [
              "1     18.0\n",
              "0     14.0\n",
              "2     13.0\n",
              "3     10.0\n",
              "4      9.0\n",
              "5      7.0\n",
              "6      7.0\n",
              "7      6.0\n",
              "8      5.0\n",
              "9      4.0\n",
              "10     3.0\n",
              "11     1.0\n",
              "13     1.0\n",
              "12     1.0\n",
              "14     0.0\n",
              "15     0.0\n",
              "17     0.0\n",
              "Name: pregnancies, dtype: float64"
            ]
          },
          "metadata": {},
          "execution_count": 1653
        }
      ],
      "source": [
        "# Porcentagem de pacientes por quantidade de gravidezes que tiveram:\n",
        "\n",
        "df.pregnancies.value_counts(normalize = True).round(2) * 100"
      ]
    },
    {
      "cell_type": "code",
      "execution_count": 1654,
      "metadata": {
        "colab": {
          "base_uri": "https://localhost:8080/"
        },
        "id": "6cL3C4W56LXu",
        "outputId": "1c74039d-cb0e-4e6a-9d43-a2c92f92968b"
      },
      "outputs": [
        {
          "output_type": "execute_result",
          "data": {
            "text/plain": [
              "1    18.0\n",
              "0    32.0\n",
              "2    45.0\n",
              "3    55.0\n",
              "Name: pregnancies, dtype: float64"
            ]
          },
          "metadata": {},
          "execution_count": 1654
        }
      ],
      "source": [
        "# Soma acumulativa da porcentagem de pacientes por quantidade de gravidezes:\n",
        "\n",
        "df.pregnancies.value_counts(normalize = True).round(2).cumsum().loc[:3] * 100"
      ]
    },
    {
      "cell_type": "code",
      "execution_count": 1655,
      "metadata": {
        "colab": {
          "base_uri": "https://localhost:8080/",
          "height": 614
        },
        "id": "7BwJ_Ka-5fX0",
        "outputId": "6e53576a-54ac-44af-df41-bbf6c9348c9a"
      },
      "outputs": [
        {
          "output_type": "execute_result",
          "data": {
            "text/plain": [
              "outcome        0\n",
              "pregnancies     \n",
              "1            106\n",
              "2             84\n",
              "0             73\n",
              "3             48\n",
              "4             45\n",
              "5             36\n",
              "6             34\n",
              "7             20\n",
              "8             16\n",
              "10            14\n",
              "9             10\n",
              "12             5\n",
              "13             5\n",
              "11             4\n",
              "14             0\n",
              "15             0\n",
              "17             0"
            ],
            "text/html": [
              "\n",
              "  <div id=\"df-37d79f3d-3fad-4a32-88b9-61b0c1c77b46\">\n",
              "    <div class=\"colab-df-container\">\n",
              "      <div>\n",
              "<style scoped>\n",
              "    .dataframe tbody tr th:only-of-type {\n",
              "        vertical-align: middle;\n",
              "    }\n",
              "\n",
              "    .dataframe tbody tr th {\n",
              "        vertical-align: top;\n",
              "    }\n",
              "\n",
              "    .dataframe thead th {\n",
              "        text-align: right;\n",
              "    }\n",
              "</style>\n",
              "<table border=\"1\" class=\"dataframe\">\n",
              "  <thead>\n",
              "    <tr style=\"text-align: right;\">\n",
              "      <th>outcome</th>\n",
              "      <th>0</th>\n",
              "    </tr>\n",
              "    <tr>\n",
              "      <th>pregnancies</th>\n",
              "      <th></th>\n",
              "    </tr>\n",
              "  </thead>\n",
              "  <tbody>\n",
              "    <tr>\n",
              "      <th>1</th>\n",
              "      <td>106</td>\n",
              "    </tr>\n",
              "    <tr>\n",
              "      <th>2</th>\n",
              "      <td>84</td>\n",
              "    </tr>\n",
              "    <tr>\n",
              "      <th>0</th>\n",
              "      <td>73</td>\n",
              "    </tr>\n",
              "    <tr>\n",
              "      <th>3</th>\n",
              "      <td>48</td>\n",
              "    </tr>\n",
              "    <tr>\n",
              "      <th>4</th>\n",
              "      <td>45</td>\n",
              "    </tr>\n",
              "    <tr>\n",
              "      <th>5</th>\n",
              "      <td>36</td>\n",
              "    </tr>\n",
              "    <tr>\n",
              "      <th>6</th>\n",
              "      <td>34</td>\n",
              "    </tr>\n",
              "    <tr>\n",
              "      <th>7</th>\n",
              "      <td>20</td>\n",
              "    </tr>\n",
              "    <tr>\n",
              "      <th>8</th>\n",
              "      <td>16</td>\n",
              "    </tr>\n",
              "    <tr>\n",
              "      <th>10</th>\n",
              "      <td>14</td>\n",
              "    </tr>\n",
              "    <tr>\n",
              "      <th>9</th>\n",
              "      <td>10</td>\n",
              "    </tr>\n",
              "    <tr>\n",
              "      <th>12</th>\n",
              "      <td>5</td>\n",
              "    </tr>\n",
              "    <tr>\n",
              "      <th>13</th>\n",
              "      <td>5</td>\n",
              "    </tr>\n",
              "    <tr>\n",
              "      <th>11</th>\n",
              "      <td>4</td>\n",
              "    </tr>\n",
              "    <tr>\n",
              "      <th>14</th>\n",
              "      <td>0</td>\n",
              "    </tr>\n",
              "    <tr>\n",
              "      <th>15</th>\n",
              "      <td>0</td>\n",
              "    </tr>\n",
              "    <tr>\n",
              "      <th>17</th>\n",
              "      <td>0</td>\n",
              "    </tr>\n",
              "  </tbody>\n",
              "</table>\n",
              "</div>\n",
              "      <button class=\"colab-df-convert\" onclick=\"convertToInteractive('df-37d79f3d-3fad-4a32-88b9-61b0c1c77b46')\"\n",
              "              title=\"Convert this dataframe to an interactive table.\"\n",
              "              style=\"display:none;\">\n",
              "        \n",
              "  <svg xmlns=\"http://www.w3.org/2000/svg\" height=\"24px\"viewBox=\"0 0 24 24\"\n",
              "       width=\"24px\">\n",
              "    <path d=\"M0 0h24v24H0V0z\" fill=\"none\"/>\n",
              "    <path d=\"M18.56 5.44l.94 2.06.94-2.06 2.06-.94-2.06-.94-.94-2.06-.94 2.06-2.06.94zm-11 1L8.5 8.5l.94-2.06 2.06-.94-2.06-.94L8.5 2.5l-.94 2.06-2.06.94zm10 10l.94 2.06.94-2.06 2.06-.94-2.06-.94-.94-2.06-.94 2.06-2.06.94z\"/><path d=\"M17.41 7.96l-1.37-1.37c-.4-.4-.92-.59-1.43-.59-.52 0-1.04.2-1.43.59L10.3 9.45l-7.72 7.72c-.78.78-.78 2.05 0 2.83L4 21.41c.39.39.9.59 1.41.59.51 0 1.02-.2 1.41-.59l7.78-7.78 2.81-2.81c.8-.78.8-2.07 0-2.86zM5.41 20L4 18.59l7.72-7.72 1.47 1.35L5.41 20z\"/>\n",
              "  </svg>\n",
              "      </button>\n",
              "      \n",
              "  <style>\n",
              "    .colab-df-container {\n",
              "      display:flex;\n",
              "      flex-wrap:wrap;\n",
              "      gap: 12px;\n",
              "    }\n",
              "\n",
              "    .colab-df-convert {\n",
              "      background-color: #E8F0FE;\n",
              "      border: none;\n",
              "      border-radius: 50%;\n",
              "      cursor: pointer;\n",
              "      display: none;\n",
              "      fill: #1967D2;\n",
              "      height: 32px;\n",
              "      padding: 0 0 0 0;\n",
              "      width: 32px;\n",
              "    }\n",
              "\n",
              "    .colab-df-convert:hover {\n",
              "      background-color: #E2EBFA;\n",
              "      box-shadow: 0px 1px 2px rgba(60, 64, 67, 0.3), 0px 1px 3px 1px rgba(60, 64, 67, 0.15);\n",
              "      fill: #174EA6;\n",
              "    }\n",
              "\n",
              "    [theme=dark] .colab-df-convert {\n",
              "      background-color: #3B4455;\n",
              "      fill: #D2E3FC;\n",
              "    }\n",
              "\n",
              "    [theme=dark] .colab-df-convert:hover {\n",
              "      background-color: #434B5C;\n",
              "      box-shadow: 0px 1px 3px 1px rgba(0, 0, 0, 0.15);\n",
              "      filter: drop-shadow(0px 1px 2px rgba(0, 0, 0, 0.3));\n",
              "      fill: #FFFFFF;\n",
              "    }\n",
              "  </style>\n",
              "\n",
              "      <script>\n",
              "        const buttonEl =\n",
              "          document.querySelector('#df-37d79f3d-3fad-4a32-88b9-61b0c1c77b46 button.colab-df-convert');\n",
              "        buttonEl.style.display =\n",
              "          google.colab.kernel.accessAllowed ? 'block' : 'none';\n",
              "\n",
              "        async function convertToInteractive(key) {\n",
              "          const element = document.querySelector('#df-37d79f3d-3fad-4a32-88b9-61b0c1c77b46');\n",
              "          const dataTable =\n",
              "            await google.colab.kernel.invokeFunction('convertToInteractive',\n",
              "                                                     [key], {});\n",
              "          if (!dataTable) return;\n",
              "\n",
              "          const docLinkHtml = 'Like what you see? Visit the ' +\n",
              "            '<a target=\"_blank\" href=https://colab.research.google.com/notebooks/data_table.ipynb>data table notebook</a>'\n",
              "            + ' to learn more about interactive tables.';\n",
              "          element.innerHTML = '';\n",
              "          dataTable['output_type'] = 'display_data';\n",
              "          await google.colab.output.renderOutput(dataTable, element);\n",
              "          const docLink = document.createElement('div');\n",
              "          docLink.innerHTML = docLinkHtml;\n",
              "          element.appendChild(docLink);\n",
              "        }\n",
              "      </script>\n",
              "    </div>\n",
              "  </div>\n",
              "  "
            ]
          },
          "metadata": {},
          "execution_count": 1655
        }
      ],
      "source": [
        "# Visualização tabular da quantidade de pacientes sem diabetes por quantidades de gravidezes:\n",
        "\n",
        "pd.crosstab(index = df['pregnancies'],\n",
        "            columns = df['outcome'])[[0]].sort_values(by = 0, ascending = False)"
      ]
    },
    {
      "cell_type": "code",
      "execution_count": 1656,
      "metadata": {
        "colab": {
          "base_uri": "https://localhost:8080/",
          "height": 614
        },
        "id": "7FtviutXYcvp",
        "outputId": "27d7bb0e-511d-454b-8b3f-71dfc96d3d22"
      },
      "outputs": [
        {
          "output_type": "execute_result",
          "data": {
            "text/plain": [
              "outcome       1\n",
              "pregnancies    \n",
              "0            38\n",
              "1            29\n",
              "3            27\n",
              "7            25\n",
              "4            23\n",
              "8            22\n",
              "5            21\n",
              "2            19\n",
              "9            18\n",
              "6            16\n",
              "10           10\n",
              "11            7\n",
              "13            5\n",
              "12            4\n",
              "14            2\n",
              "15            1\n",
              "17            1"
            ],
            "text/html": [
              "\n",
              "  <div id=\"df-44d4c9d5-34af-446d-93c2-01d019a082ac\">\n",
              "    <div class=\"colab-df-container\">\n",
              "      <div>\n",
              "<style scoped>\n",
              "    .dataframe tbody tr th:only-of-type {\n",
              "        vertical-align: middle;\n",
              "    }\n",
              "\n",
              "    .dataframe tbody tr th {\n",
              "        vertical-align: top;\n",
              "    }\n",
              "\n",
              "    .dataframe thead th {\n",
              "        text-align: right;\n",
              "    }\n",
              "</style>\n",
              "<table border=\"1\" class=\"dataframe\">\n",
              "  <thead>\n",
              "    <tr style=\"text-align: right;\">\n",
              "      <th>outcome</th>\n",
              "      <th>1</th>\n",
              "    </tr>\n",
              "    <tr>\n",
              "      <th>pregnancies</th>\n",
              "      <th></th>\n",
              "    </tr>\n",
              "  </thead>\n",
              "  <tbody>\n",
              "    <tr>\n",
              "      <th>0</th>\n",
              "      <td>38</td>\n",
              "    </tr>\n",
              "    <tr>\n",
              "      <th>1</th>\n",
              "      <td>29</td>\n",
              "    </tr>\n",
              "    <tr>\n",
              "      <th>3</th>\n",
              "      <td>27</td>\n",
              "    </tr>\n",
              "    <tr>\n",
              "      <th>7</th>\n",
              "      <td>25</td>\n",
              "    </tr>\n",
              "    <tr>\n",
              "      <th>4</th>\n",
              "      <td>23</td>\n",
              "    </tr>\n",
              "    <tr>\n",
              "      <th>8</th>\n",
              "      <td>22</td>\n",
              "    </tr>\n",
              "    <tr>\n",
              "      <th>5</th>\n",
              "      <td>21</td>\n",
              "    </tr>\n",
              "    <tr>\n",
              "      <th>2</th>\n",
              "      <td>19</td>\n",
              "    </tr>\n",
              "    <tr>\n",
              "      <th>9</th>\n",
              "      <td>18</td>\n",
              "    </tr>\n",
              "    <tr>\n",
              "      <th>6</th>\n",
              "      <td>16</td>\n",
              "    </tr>\n",
              "    <tr>\n",
              "      <th>10</th>\n",
              "      <td>10</td>\n",
              "    </tr>\n",
              "    <tr>\n",
              "      <th>11</th>\n",
              "      <td>7</td>\n",
              "    </tr>\n",
              "    <tr>\n",
              "      <th>13</th>\n",
              "      <td>5</td>\n",
              "    </tr>\n",
              "    <tr>\n",
              "      <th>12</th>\n",
              "      <td>4</td>\n",
              "    </tr>\n",
              "    <tr>\n",
              "      <th>14</th>\n",
              "      <td>2</td>\n",
              "    </tr>\n",
              "    <tr>\n",
              "      <th>15</th>\n",
              "      <td>1</td>\n",
              "    </tr>\n",
              "    <tr>\n",
              "      <th>17</th>\n",
              "      <td>1</td>\n",
              "    </tr>\n",
              "  </tbody>\n",
              "</table>\n",
              "</div>\n",
              "      <button class=\"colab-df-convert\" onclick=\"convertToInteractive('df-44d4c9d5-34af-446d-93c2-01d019a082ac')\"\n",
              "              title=\"Convert this dataframe to an interactive table.\"\n",
              "              style=\"display:none;\">\n",
              "        \n",
              "  <svg xmlns=\"http://www.w3.org/2000/svg\" height=\"24px\"viewBox=\"0 0 24 24\"\n",
              "       width=\"24px\">\n",
              "    <path d=\"M0 0h24v24H0V0z\" fill=\"none\"/>\n",
              "    <path d=\"M18.56 5.44l.94 2.06.94-2.06 2.06-.94-2.06-.94-.94-2.06-.94 2.06-2.06.94zm-11 1L8.5 8.5l.94-2.06 2.06-.94-2.06-.94L8.5 2.5l-.94 2.06-2.06.94zm10 10l.94 2.06.94-2.06 2.06-.94-2.06-.94-.94-2.06-.94 2.06-2.06.94z\"/><path d=\"M17.41 7.96l-1.37-1.37c-.4-.4-.92-.59-1.43-.59-.52 0-1.04.2-1.43.59L10.3 9.45l-7.72 7.72c-.78.78-.78 2.05 0 2.83L4 21.41c.39.39.9.59 1.41.59.51 0 1.02-.2 1.41-.59l7.78-7.78 2.81-2.81c.8-.78.8-2.07 0-2.86zM5.41 20L4 18.59l7.72-7.72 1.47 1.35L5.41 20z\"/>\n",
              "  </svg>\n",
              "      </button>\n",
              "      \n",
              "  <style>\n",
              "    .colab-df-container {\n",
              "      display:flex;\n",
              "      flex-wrap:wrap;\n",
              "      gap: 12px;\n",
              "    }\n",
              "\n",
              "    .colab-df-convert {\n",
              "      background-color: #E8F0FE;\n",
              "      border: none;\n",
              "      border-radius: 50%;\n",
              "      cursor: pointer;\n",
              "      display: none;\n",
              "      fill: #1967D2;\n",
              "      height: 32px;\n",
              "      padding: 0 0 0 0;\n",
              "      width: 32px;\n",
              "    }\n",
              "\n",
              "    .colab-df-convert:hover {\n",
              "      background-color: #E2EBFA;\n",
              "      box-shadow: 0px 1px 2px rgba(60, 64, 67, 0.3), 0px 1px 3px 1px rgba(60, 64, 67, 0.15);\n",
              "      fill: #174EA6;\n",
              "    }\n",
              "\n",
              "    [theme=dark] .colab-df-convert {\n",
              "      background-color: #3B4455;\n",
              "      fill: #D2E3FC;\n",
              "    }\n",
              "\n",
              "    [theme=dark] .colab-df-convert:hover {\n",
              "      background-color: #434B5C;\n",
              "      box-shadow: 0px 1px 3px 1px rgba(0, 0, 0, 0.15);\n",
              "      filter: drop-shadow(0px 1px 2px rgba(0, 0, 0, 0.3));\n",
              "      fill: #FFFFFF;\n",
              "    }\n",
              "  </style>\n",
              "\n",
              "      <script>\n",
              "        const buttonEl =\n",
              "          document.querySelector('#df-44d4c9d5-34af-446d-93c2-01d019a082ac button.colab-df-convert');\n",
              "        buttonEl.style.display =\n",
              "          google.colab.kernel.accessAllowed ? 'block' : 'none';\n",
              "\n",
              "        async function convertToInteractive(key) {\n",
              "          const element = document.querySelector('#df-44d4c9d5-34af-446d-93c2-01d019a082ac');\n",
              "          const dataTable =\n",
              "            await google.colab.kernel.invokeFunction('convertToInteractive',\n",
              "                                                     [key], {});\n",
              "          if (!dataTable) return;\n",
              "\n",
              "          const docLinkHtml = 'Like what you see? Visit the ' +\n",
              "            '<a target=\"_blank\" href=https://colab.research.google.com/notebooks/data_table.ipynb>data table notebook</a>'\n",
              "            + ' to learn more about interactive tables.';\n",
              "          element.innerHTML = '';\n",
              "          dataTable['output_type'] = 'display_data';\n",
              "          await google.colab.output.renderOutput(dataTable, element);\n",
              "          const docLink = document.createElement('div');\n",
              "          docLink.innerHTML = docLinkHtml;\n",
              "          element.appendChild(docLink);\n",
              "        }\n",
              "      </script>\n",
              "    </div>\n",
              "  </div>\n",
              "  "
            ]
          },
          "metadata": {},
          "execution_count": 1656
        }
      ],
      "source": [
        "# Visualização tabular da quantidade de pacientes com diabetes por quantidades de gravidezes:\n",
        "\n",
        "pd.crosstab(index = df['pregnancies'],\n",
        "            columns = df['outcome'])[[1]].sort_values(by = 1, ascending = False)"
      ]
    },
    {
      "cell_type": "markdown",
      "metadata": {
        "id": "e0PjNvVM7WBW"
      },
      "source": [
        "### (3) Qual é a relação do nível de glicose no sangue com a diabetes?"
      ]
    },
    {
      "cell_type": "code",
      "execution_count": 1657,
      "metadata": {
        "colab": {
          "base_uri": "https://localhost:8080/"
        },
        "id": "YqGc7eN88MZE",
        "outputId": "64760430-a1a8-452b-ca5d-1923f7d44d5d"
      },
      "outputs": [
        {
          "output_type": "execute_result",
          "data": {
            "text/plain": [
              "array([148,  85, 183,  89, 137, 116,  78, 115, 197, 125, 110, 168, 139,\n",
              "       189, 166, 100, 118, 107, 103, 126,  99, 196, 119, 143, 147,  97,\n",
              "       145, 117, 109, 158,  88,  92, 122, 138, 102,  90, 111, 180, 133,\n",
              "       106, 171, 159, 146,  71, 105, 101, 176, 150,  73, 187,  84,  44,\n",
              "       141, 114,  95, 129,  79,   0,  62, 131, 112, 113,  74,  83, 136,\n",
              "        80, 123,  81, 134, 142, 144,  93, 163, 151,  96, 155,  76, 160,\n",
              "       124, 162, 132, 120, 173, 170, 128, 108, 154,  57, 156, 153, 188,\n",
              "       152, 104,  87,  75, 179, 130, 194, 181, 135, 184, 140, 177, 164,\n",
              "        91, 165,  86, 193, 191, 161, 167,  77, 182, 157, 178,  61,  98,\n",
              "       127,  82,  72, 172,  94, 175, 195,  68, 186, 198, 121,  67, 174,\n",
              "       199,  56, 169, 149,  65, 190])"
            ]
          },
          "metadata": {},
          "execution_count": 1657
        }
      ],
      "source": [
        "# Valores únicos de glicose:\n",
        "\n",
        "df.glucose.unique()"
      ]
    },
    {
      "cell_type": "code",
      "execution_count": 1658,
      "metadata": {
        "colab": {
          "base_uri": "https://localhost:8080/"
        },
        "id": "K8OFLgHb8PXY",
        "outputId": "62dd991f-58e0-4a19-989a-084f1f977ee3"
      },
      "outputs": [
        {
          "output_type": "execute_result",
          "data": {
            "text/plain": [
              "136"
            ]
          },
          "metadata": {},
          "execution_count": 1658
        }
      ],
      "source": [
        "# Quantidade de valores únicos:\n",
        "\n",
        "df.glucose.nunique()"
      ]
    },
    {
      "cell_type": "code",
      "execution_count": 1659,
      "metadata": {
        "colab": {
          "base_uri": "https://localhost:8080/",
          "height": 206
        },
        "id": "F0ABS0_w8RIM",
        "outputId": "9044ea76-ddec-4626-f1c8-51fa89d742b1"
      },
      "outputs": [
        {
          "output_type": "execute_result",
          "data": {
            "text/plain": [
              "     pregnancies  glucose  bloodpressure  skinthickness  insulin   bmi  \\\n",
              "75             1        0             48             20        0  24.7   \n",
              "182            1        0             74             20       23  27.7   \n",
              "342            1        0             68             35        0  32.0   \n",
              "349            5        0             80             32        0  41.0   \n",
              "502            6        0             68             41        0  39.0   \n",
              "\n",
              "     diabetespedigreefunction  age  outcome  \n",
              "75                      0.140   22        0  \n",
              "182                     0.299   21        0  \n",
              "342                     0.389   22        0  \n",
              "349                     0.346   37        1  \n",
              "502                     0.727   41        1  "
            ],
            "text/html": [
              "\n",
              "  <div id=\"df-cc85260a-5a6d-49a0-9c22-16cd79ba702f\">\n",
              "    <div class=\"colab-df-container\">\n",
              "      <div>\n",
              "<style scoped>\n",
              "    .dataframe tbody tr th:only-of-type {\n",
              "        vertical-align: middle;\n",
              "    }\n",
              "\n",
              "    .dataframe tbody tr th {\n",
              "        vertical-align: top;\n",
              "    }\n",
              "\n",
              "    .dataframe thead th {\n",
              "        text-align: right;\n",
              "    }\n",
              "</style>\n",
              "<table border=\"1\" class=\"dataframe\">\n",
              "  <thead>\n",
              "    <tr style=\"text-align: right;\">\n",
              "      <th></th>\n",
              "      <th>pregnancies</th>\n",
              "      <th>glucose</th>\n",
              "      <th>bloodpressure</th>\n",
              "      <th>skinthickness</th>\n",
              "      <th>insulin</th>\n",
              "      <th>bmi</th>\n",
              "      <th>diabetespedigreefunction</th>\n",
              "      <th>age</th>\n",
              "      <th>outcome</th>\n",
              "    </tr>\n",
              "  </thead>\n",
              "  <tbody>\n",
              "    <tr>\n",
              "      <th>75</th>\n",
              "      <td>1</td>\n",
              "      <td>0</td>\n",
              "      <td>48</td>\n",
              "      <td>20</td>\n",
              "      <td>0</td>\n",
              "      <td>24.7</td>\n",
              "      <td>0.140</td>\n",
              "      <td>22</td>\n",
              "      <td>0</td>\n",
              "    </tr>\n",
              "    <tr>\n",
              "      <th>182</th>\n",
              "      <td>1</td>\n",
              "      <td>0</td>\n",
              "      <td>74</td>\n",
              "      <td>20</td>\n",
              "      <td>23</td>\n",
              "      <td>27.7</td>\n",
              "      <td>0.299</td>\n",
              "      <td>21</td>\n",
              "      <td>0</td>\n",
              "    </tr>\n",
              "    <tr>\n",
              "      <th>342</th>\n",
              "      <td>1</td>\n",
              "      <td>0</td>\n",
              "      <td>68</td>\n",
              "      <td>35</td>\n",
              "      <td>0</td>\n",
              "      <td>32.0</td>\n",
              "      <td>0.389</td>\n",
              "      <td>22</td>\n",
              "      <td>0</td>\n",
              "    </tr>\n",
              "    <tr>\n",
              "      <th>349</th>\n",
              "      <td>5</td>\n",
              "      <td>0</td>\n",
              "      <td>80</td>\n",
              "      <td>32</td>\n",
              "      <td>0</td>\n",
              "      <td>41.0</td>\n",
              "      <td>0.346</td>\n",
              "      <td>37</td>\n",
              "      <td>1</td>\n",
              "    </tr>\n",
              "    <tr>\n",
              "      <th>502</th>\n",
              "      <td>6</td>\n",
              "      <td>0</td>\n",
              "      <td>68</td>\n",
              "      <td>41</td>\n",
              "      <td>0</td>\n",
              "      <td>39.0</td>\n",
              "      <td>0.727</td>\n",
              "      <td>41</td>\n",
              "      <td>1</td>\n",
              "    </tr>\n",
              "  </tbody>\n",
              "</table>\n",
              "</div>\n",
              "      <button class=\"colab-df-convert\" onclick=\"convertToInteractive('df-cc85260a-5a6d-49a0-9c22-16cd79ba702f')\"\n",
              "              title=\"Convert this dataframe to an interactive table.\"\n",
              "              style=\"display:none;\">\n",
              "        \n",
              "  <svg xmlns=\"http://www.w3.org/2000/svg\" height=\"24px\"viewBox=\"0 0 24 24\"\n",
              "       width=\"24px\">\n",
              "    <path d=\"M0 0h24v24H0V0z\" fill=\"none\"/>\n",
              "    <path d=\"M18.56 5.44l.94 2.06.94-2.06 2.06-.94-2.06-.94-.94-2.06-.94 2.06-2.06.94zm-11 1L8.5 8.5l.94-2.06 2.06-.94-2.06-.94L8.5 2.5l-.94 2.06-2.06.94zm10 10l.94 2.06.94-2.06 2.06-.94-2.06-.94-.94-2.06-.94 2.06-2.06.94z\"/><path d=\"M17.41 7.96l-1.37-1.37c-.4-.4-.92-.59-1.43-.59-.52 0-1.04.2-1.43.59L10.3 9.45l-7.72 7.72c-.78.78-.78 2.05 0 2.83L4 21.41c.39.39.9.59 1.41.59.51 0 1.02-.2 1.41-.59l7.78-7.78 2.81-2.81c.8-.78.8-2.07 0-2.86zM5.41 20L4 18.59l7.72-7.72 1.47 1.35L5.41 20z\"/>\n",
              "  </svg>\n",
              "      </button>\n",
              "      \n",
              "  <style>\n",
              "    .colab-df-container {\n",
              "      display:flex;\n",
              "      flex-wrap:wrap;\n",
              "      gap: 12px;\n",
              "    }\n",
              "\n",
              "    .colab-df-convert {\n",
              "      background-color: #E8F0FE;\n",
              "      border: none;\n",
              "      border-radius: 50%;\n",
              "      cursor: pointer;\n",
              "      display: none;\n",
              "      fill: #1967D2;\n",
              "      height: 32px;\n",
              "      padding: 0 0 0 0;\n",
              "      width: 32px;\n",
              "    }\n",
              "\n",
              "    .colab-df-convert:hover {\n",
              "      background-color: #E2EBFA;\n",
              "      box-shadow: 0px 1px 2px rgba(60, 64, 67, 0.3), 0px 1px 3px 1px rgba(60, 64, 67, 0.15);\n",
              "      fill: #174EA6;\n",
              "    }\n",
              "\n",
              "    [theme=dark] .colab-df-convert {\n",
              "      background-color: #3B4455;\n",
              "      fill: #D2E3FC;\n",
              "    }\n",
              "\n",
              "    [theme=dark] .colab-df-convert:hover {\n",
              "      background-color: #434B5C;\n",
              "      box-shadow: 0px 1px 3px 1px rgba(0, 0, 0, 0.15);\n",
              "      filter: drop-shadow(0px 1px 2px rgba(0, 0, 0, 0.3));\n",
              "      fill: #FFFFFF;\n",
              "    }\n",
              "  </style>\n",
              "\n",
              "      <script>\n",
              "        const buttonEl =\n",
              "          document.querySelector('#df-cc85260a-5a6d-49a0-9c22-16cd79ba702f button.colab-df-convert');\n",
              "        buttonEl.style.display =\n",
              "          google.colab.kernel.accessAllowed ? 'block' : 'none';\n",
              "\n",
              "        async function convertToInteractive(key) {\n",
              "          const element = document.querySelector('#df-cc85260a-5a6d-49a0-9c22-16cd79ba702f');\n",
              "          const dataTable =\n",
              "            await google.colab.kernel.invokeFunction('convertToInteractive',\n",
              "                                                     [key], {});\n",
              "          if (!dataTable) return;\n",
              "\n",
              "          const docLinkHtml = 'Like what you see? Visit the ' +\n",
              "            '<a target=\"_blank\" href=https://colab.research.google.com/notebooks/data_table.ipynb>data table notebook</a>'\n",
              "            + ' to learn more about interactive tables.';\n",
              "          element.innerHTML = '';\n",
              "          dataTable['output_type'] = 'display_data';\n",
              "          await google.colab.output.renderOutput(dataTable, element);\n",
              "          const docLink = document.createElement('div');\n",
              "          docLink.innerHTML = docLinkHtml;\n",
              "          element.appendChild(docLink);\n",
              "        }\n",
              "      </script>\n",
              "    </div>\n",
              "  </div>\n",
              "  "
            ]
          },
          "metadata": {},
          "execution_count": 1659
        }
      ],
      "source": [
        "# Filtragem das pacientes com glicose registrada em 0:\n",
        "\n",
        "df[df.glucose == 0]"
      ]
    },
    {
      "cell_type": "code",
      "execution_count": 1660,
      "metadata": {
        "colab": {
          "base_uri": "https://localhost:8080/"
        },
        "id": "TL18PxcwNxbb",
        "outputId": "2a9676a2-1e2d-48f6-cafa-d926210e166d"
      },
      "outputs": [
        {
          "output_type": "execute_result",
          "data": {
            "text/plain": [
              "117.0"
            ]
          },
          "metadata": {},
          "execution_count": 1660
        }
      ],
      "source": [
        "# Mediana de glicose das pacientes:\n",
        "\n",
        "df.glucose.median()"
      ]
    },
    {
      "cell_type": "code",
      "execution_count": 1661,
      "metadata": {
        "colab": {
          "base_uri": "https://localhost:8080/"
        },
        "id": "b59OhtWmH0GZ",
        "outputId": "9313e0f2-a7c3-4102-dbb9-d6e5a02858fd"
      },
      "outputs": [
        {
          "output_type": "execute_result",
          "data": {
            "text/plain": [
              "117.0"
            ]
          },
          "metadata": {},
          "execution_count": 1661
        }
      ],
      "source": [
        "# Mediana de glicose das pacientes, sem considerar às pacientes com glicose registradamente igual à 0:\n",
        "\n",
        "df[df.glucose != 0].glucose.median()"
      ]
    },
    {
      "cell_type": "code",
      "execution_count": 1662,
      "metadata": {
        "colab": {
          "base_uri": "https://localhost:8080/"
        },
        "id": "pi3YYZuCK3AT",
        "outputId": "fb3e9e9b-8257-4573-a8fb-4e781fb22555"
      },
      "outputs": [
        {
          "output_type": "execute_result",
          "data": {
            "text/plain": [
              "107.0"
            ]
          },
          "metadata": {},
          "execution_count": 1662
        }
      ],
      "source": [
        "# Mediana de glicose das pacientes sem diabetes, sem considerar às pacientes com glicose registradamente igual à 0:\n",
        "\n",
        "df[(df.glucose != 0) & (df.outcome == 0)].glucose.median()"
      ]
    },
    {
      "cell_type": "code",
      "execution_count": 1663,
      "metadata": {
        "colab": {
          "base_uri": "https://localhost:8080/"
        },
        "id": "8w5dq1uyIQZN",
        "outputId": "36ecf808-8010-4f0e-ebb9-ebc60afea5fa"
      },
      "outputs": [
        {
          "output_type": "execute_result",
          "data": {
            "text/plain": [
              "140.0"
            ]
          },
          "metadata": {},
          "execution_count": 1663
        }
      ],
      "source": [
        "# Mediana de glicose das pacientes sem diabetes, sem considerar às pacientes com glicose registradamente igual à 0:\n",
        "\n",
        "df[(df.glucose != 0) & (df.outcome == 1)].glucose.median()"
      ]
    },
    {
      "cell_type": "code",
      "execution_count": 1664,
      "metadata": {
        "id": "zhNqmCbWH7Tr"
      },
      "outputs": [],
      "source": [
        "# Substituição de glicose igual à zero pela mediana de glicose registrada entre às pacientes:\n",
        "\n",
        "df.glucose = np.where(df.glucose == 0, \n",
        "                      df[df.glucose != 0].glucose.median(), df['glucose'])"
      ]
    },
    {
      "cell_type": "code",
      "execution_count": 1665,
      "metadata": {
        "colab": {
          "base_uri": "https://localhost:8080/"
        },
        "id": "EOGtf9bkqoDI",
        "outputId": "d4ba17b5-eca0-4b90-b733-b0f40ee63386"
      },
      "outputs": [
        {
          "output_type": "execute_result",
          "data": {
            "text/plain": [
              "count    768.000000\n",
              "mean     121.656250\n",
              "std       30.438286\n",
              "min       44.000000\n",
              "25%       99.750000\n",
              "50%      117.000000\n",
              "75%      140.250000\n",
              "max      199.000000\n",
              "Name: glucose, dtype: float64"
            ]
          },
          "metadata": {},
          "execution_count": 1665
        }
      ],
      "source": [
        "# Informações estatísticas sobre a glicose das pacientes:\n",
        "\n",
        "df.glucose.describe()"
      ]
    },
    {
      "cell_type": "code",
      "execution_count": 1666,
      "metadata": {
        "colab": {
          "base_uri": "https://localhost:8080/"
        },
        "id": "nXF_TCkpqeP-",
        "outputId": "c9ce2b16-06b4-40c5-a374-404876d0673a"
      },
      "outputs": [
        {
          "output_type": "execute_result",
          "data": {
            "text/plain": [
              "count    500.000000\n",
              "mean     110.682000\n",
              "std       24.707201\n",
              "min       44.000000\n",
              "25%       93.000000\n",
              "50%      107.500000\n",
              "75%      125.000000\n",
              "max      197.000000\n",
              "Name: glucose, dtype: float64"
            ]
          },
          "metadata": {},
          "execution_count": 1666
        }
      ],
      "source": [
        "# Informações estatísticas sobre a glicose das pacientes sem diabetes:\n",
        "\n",
        "df[df.outcome == 0].glucose.describe()"
      ]
    },
    {
      "cell_type": "code",
      "execution_count": 1667,
      "metadata": {
        "colab": {
          "base_uri": "https://localhost:8080/"
        },
        "id": "5OhInP1jqjMX",
        "outputId": "793c7a8b-ae24-4ba0-a638-c88831b8d8d5"
      },
      "outputs": [
        {
          "output_type": "execute_result",
          "data": {
            "text/plain": [
              "count    268.000000\n",
              "mean     142.130597\n",
              "std       29.568839\n",
              "min       78.000000\n",
              "25%      119.000000\n",
              "50%      140.000000\n",
              "75%      167.000000\n",
              "max      199.000000\n",
              "Name: glucose, dtype: float64"
            ]
          },
          "metadata": {},
          "execution_count": 1667
        }
      ],
      "source": [
        "# Informações estatísticas sobre a glicose das pacientes com diabetes:\n",
        "\n",
        "df[df.outcome == 1].glucose.describe()"
      ]
    },
    {
      "cell_type": "code",
      "execution_count": 1668,
      "metadata": {
        "colab": {
          "base_uri": "https://localhost:8080/"
        },
        "id": "c1tz92_Squ5Q",
        "outputId": "b99cadff-230e-4cf7-d813-96b260822707"
      },
      "outputs": [
        {
          "output_type": "execute_result",
          "data": {
            "text/plain": [
              "117.0"
            ]
          },
          "metadata": {},
          "execution_count": 1668
        }
      ],
      "source": [
        "# Reverificação da glicose das pacientes:\n",
        "\n",
        "df.glucose.median().round(2)"
      ]
    },
    {
      "cell_type": "code",
      "execution_count": 1669,
      "metadata": {
        "colab": {
          "base_uri": "https://localhost:8080/"
        },
        "id": "AZMDbPoXqywo",
        "outputId": "d4e5cead-2da4-47e0-955b-fbad000a8cd0"
      },
      "outputs": [
        {
          "output_type": "execute_result",
          "data": {
            "text/plain": [
              "107.5"
            ]
          },
          "metadata": {},
          "execution_count": 1669
        }
      ],
      "source": [
        "# Glicose das pacientes sem diabetes:\n",
        "\n",
        "df[df.outcome == 0].glucose.median()"
      ]
    },
    {
      "cell_type": "code",
      "execution_count": 1670,
      "metadata": {
        "colab": {
          "base_uri": "https://localhost:8080/"
        },
        "id": "1ZgvIr0Mq1L4",
        "outputId": "04fe621d-84fd-43a1-bdbe-3534f6b7d45d"
      },
      "outputs": [
        {
          "output_type": "execute_result",
          "data": {
            "text/plain": [
              "140.0"
            ]
          },
          "metadata": {},
          "execution_count": 1670
        }
      ],
      "source": [
        "# Glicose das pacientes com diabetes:\n",
        "\n",
        "df[df.outcome == 1].glucose.median()"
      ]
    },
    {
      "cell_type": "code",
      "execution_count": 1671,
      "metadata": {
        "colab": {
          "base_uri": "https://localhost:8080/"
        },
        "id": "Pq7S1dn585J7",
        "outputId": "0e393adb-5d24-4578-d9fb-4793b8633e07"
      },
      "outputs": [
        {
          "output_type": "stream",
          "name": "stdout",
          "text": [
            "Amplitude da Glicose de Indíviduos Com Diabetes: 121.0\n",
            "\n",
            "\n",
            "Amplitude da Glicose de Indíviduos Sem Diabetes: 153.0\n"
          ]
        }
      ],
      "source": [
        "# Amplitude total da glicose das pacientes sem e com diabetes:\n",
        "\n",
        "print(f'Amplitude da Glicose de Indíviduos Com Diabetes: {df.query(\"outcome == 1\").glucose.max() - df.query(\"outcome == 1 & glucose != 0\").glucose.min()}')\n",
        "print('\\n')\n",
        "print(f'Amplitude da Glicose de Indíviduos Sem Diabetes: {df.query(\"outcome == 0\").glucose.max() - df.query(\"outcome == 0 & glucose != 0\").glucose.min()}')"
      ]
    },
    {
      "cell_type": "code",
      "execution_count": 1672,
      "metadata": {
        "colab": {
          "base_uri": "https://localhost:8080/",
          "height": 353
        },
        "id": "NpkFjOaM-VbU",
        "outputId": "5f2c042b-1b4d-4e56-c492-8476758a8cbd"
      },
      "outputs": [
        {
          "output_type": "display_data",
          "data": {
            "text/plain": [
              "<Figure size 864x360 with 1 Axes>"
            ],
            "image/png": "[encoded data removed]"
          },
          "metadata": {}
        }
      ],
      "source": [
        "# Histograma para visualizar a distribuição de frequência das pacientes sem diabetes\n",
        "# em comparação com as pacientes com diabetes:\n",
        "\n",
        "import warnings\n",
        "warnings.filterwarnings('ignore')\n",
        "\n",
        "plt.figure(figsize = (12, 5))\n",
        "\n",
        "sns.distplot(df.query(\"outcome == 0\").glucose, label = 'Sem Diabetes',\n",
        "             kde = False, color = sns.color_palette('Spectral_r')[0])\n",
        "sns.distplot(df.query(\"outcome == 1\").glucose, label = 'Com Diabetes',\n",
        "             kde = False, color = sns.color_palette('Spectral_r')[1])\n",
        "plt.xlabel('Glicose', fontsize = 12, color = 'k')\n",
        "plt.xticks(np.arange(0, 201, 25), fontsize = 10, color = 'k')\n",
        "plt.yticks(np.arange(0, 71, 10), fontsize = 10, color = 'k')\n",
        "plt.title('Distribuição de Níveis de Glicose X Diagnóstico de Diabetes',\n",
        "          fontsize = 12, color = 'k')\n",
        "plt.ylabel('Frequência', fontsize = 10, color = 'k')\n",
        "plt.legend()\n",
        "plt.show()"
      ]
    },
    {
      "cell_type": "markdown",
      "metadata": {
        "id": "bh__suDJnzFb"
      },
      "source": [
        "### (4) Qual é a média e a mediana de pressão sanguínea das pacientes com diabetes em comparação às pacientes sem diabetes?"
      ]
    },
    {
      "cell_type": "code",
      "execution_count": 1673,
      "metadata": {
        "colab": {
          "base_uri": "https://localhost:8080/"
        },
        "id": "mfcFZ120pwQB",
        "outputId": "2975baed-0309-4019-bbc2-f09a011eb870"
      },
      "outputs": [
        {
          "output_type": "execute_result",
          "data": {
            "text/plain": [
              "array([ 72,  66,  64,  40,  74,  50,   0,  70,  96,  92,  80,  60,  84,\n",
              "        30,  88,  90,  94,  76,  82,  75,  58,  78,  68, 110,  56,  62,\n",
              "        85,  86,  48,  44,  65, 108,  55, 122,  54,  52,  98, 104,  95,\n",
              "        46, 102, 100,  61,  24,  38, 106, 114])"
            ]
          },
          "metadata": {},
          "execution_count": 1673
        }
      ],
      "source": [
        "# Valores únicos de pressão sanguínea:\n",
        "\n",
        "df.bloodpressure.unique()"
      ]
    },
    {
      "cell_type": "code",
      "execution_count": 1674,
      "metadata": {
        "colab": {
          "base_uri": "https://localhost:8080/"
        },
        "id": "zhkXZxyHp04b",
        "outputId": "28fcc4e2-4138-4245-f70e-8dc8bdc7b811"
      },
      "outputs": [
        {
          "output_type": "execute_result",
          "data": {
            "text/plain": [
              "47"
            ]
          },
          "metadata": {},
          "execution_count": 1674
        }
      ],
      "source": [
        "# Quantidade de valores únicos:\n",
        "\n",
        "df.bloodpressure.nunique()"
      ]
    },
    {
      "cell_type": "code",
      "execution_count": 1675,
      "metadata": {
        "colab": {
          "base_uri": "https://localhost:8080/"
        },
        "id": "DjSKQXLESL_w",
        "outputId": "40fed49f-a804-4d71-ff0b-58516b0552cc"
      },
      "outputs": [
        {
          "output_type": "execute_result",
          "data": {
            "text/plain": [
              "72.0"
            ]
          },
          "metadata": {},
          "execution_count": 1675
        }
      ],
      "source": [
        "# Mediana da pressão sanguínea das pacientes com uma pressão sanguínea diferente de 0:\n",
        "\n",
        "df[df.bloodpressure != 0].bloodpressure.median()"
      ]
    },
    {
      "cell_type": "code",
      "execution_count": 1676,
      "metadata": {
        "colab": {
          "base_uri": "https://localhost:8080/"
        },
        "id": "MBnq5V-_SSMz",
        "outputId": "5b6cd20b-b4f8-4936-b759-d68c37ac0835"
      },
      "outputs": [
        {
          "output_type": "execute_result",
          "data": {
            "text/plain": [
              "70.0"
            ]
          },
          "metadata": {},
          "execution_count": 1676
        }
      ],
      "source": [
        "# Mediana da pressão sanguínea das pacientes sem diabetes com uma pressão sanguínea diferente de 0:\n",
        "\n",
        "df[(df.bloodpressure != 0) & (df.outcome == 0)].bloodpressure.median()"
      ]
    },
    {
      "cell_type": "code",
      "execution_count": 1677,
      "metadata": {
        "colab": {
          "base_uri": "https://localhost:8080/"
        },
        "id": "is7kqFOuSYcl",
        "outputId": "1a7ec773-7c02-41b2-a703-50768a3dabb5"
      },
      "outputs": [
        {
          "output_type": "execute_result",
          "data": {
            "text/plain": [
              "74.5"
            ]
          },
          "metadata": {},
          "execution_count": 1677
        }
      ],
      "source": [
        "# Mediana da pressão sanguínea das pacientes com diabetes, e com uma pressão sanguínea diferente de 0:\n",
        "\n",
        "df[(df.bloodpressure != 0) & (df.outcome == 1)].bloodpressure.median()"
      ]
    },
    {
      "cell_type": "code",
      "execution_count": 1678,
      "metadata": {
        "id": "3MU-HyJuJKYn"
      },
      "outputs": [],
      "source": [
        "# Substituição de pressão sanguínea igual à 0 pela mediana de pressão sanguínea das pacientes em geral:\n",
        "\n",
        "df.bloodpressure = np.where(df.bloodpressure == 0, \n",
        "                      df[df.bloodpressure != 0].bloodpressure.median(), df['bloodpressure'])"
      ]
    },
    {
      "cell_type": "code",
      "execution_count": 1679,
      "metadata": {
        "colab": {
          "base_uri": "https://localhost:8080/"
        },
        "id": "7FyPb0Dtp3fP",
        "outputId": "6bb60351-66bb-4363-c084-2f21645644d3"
      },
      "outputs": [
        {
          "output_type": "execute_result",
          "data": {
            "text/plain": [
              "count    768.00\n",
              "mean      72.39\n",
              "std       12.10\n",
              "min       24.00\n",
              "25%       64.00\n",
              "50%       72.00\n",
              "75%       80.00\n",
              "max      122.00\n",
              "Name: bloodpressure, dtype: float64"
            ]
          },
          "metadata": {},
          "execution_count": 1679
        }
      ],
      "source": [
        "# Informações estatísticas da pressão sanguínea das pacientes:\n",
        "\n",
        "df.bloodpressure.describe().round(2)"
      ]
    },
    {
      "cell_type": "code",
      "execution_count": 1680,
      "metadata": {
        "colab": {
          "base_uri": "https://localhost:8080/"
        },
        "id": "vGwoRcUkp_eI",
        "outputId": "b3883cfe-0f1c-48a2-96fc-b511b44cbefd"
      },
      "outputs": [
        {
          "output_type": "execute_result",
          "data": {
            "text/plain": [
              "count    500.00\n",
              "mean      70.92\n",
              "std       11.93\n",
              "min       24.00\n",
              "25%       63.50\n",
              "50%       72.00\n",
              "75%       78.00\n",
              "max      122.00\n",
              "Name: bloodpressure, dtype: float64"
            ]
          },
          "metadata": {},
          "execution_count": 1680
        }
      ],
      "source": [
        "# Informações estatísticas da pressão sanguínea das pacientes sem diabetes:\n",
        "\n",
        "df[df.outcome == 0].bloodpressure.describe().round(2)"
      ]
    },
    {
      "cell_type": "code",
      "execution_count": 1681,
      "metadata": {
        "colab": {
          "base_uri": "https://localhost:8080/"
        },
        "id": "BP5t9ztRqLdN",
        "outputId": "2d8bcfa5-418c-4e08-afc1-a8629be2af12"
      },
      "outputs": [
        {
          "output_type": "execute_result",
          "data": {
            "text/plain": [
              "count    268.00\n",
              "mean      75.12\n",
              "std       11.95\n",
              "min       30.00\n",
              "25%       68.00\n",
              "50%       74.00\n",
              "75%       82.00\n",
              "max      114.00\n",
              "Name: bloodpressure, dtype: float64"
            ]
          },
          "metadata": {},
          "execution_count": 1681
        }
      ],
      "source": [
        "# Informações estatísticas da pressão sanguínea das pacientes com diabetes:\n",
        "\n",
        "df[df.outcome == 1].bloodpressure.describe().round(2)"
      ]
    },
    {
      "cell_type": "code",
      "execution_count": 1682,
      "metadata": {
        "colab": {
          "base_uri": "https://localhost:8080/",
          "height": 112
        },
        "id": "OokXN8AJA8s3",
        "outputId": "5f974a75-e8ad-48cf-d03d-5bb8a429fa27"
      },
      "outputs": [
        {
          "output_type": "execute_result",
          "data": {
            "text/plain": [
              "                mean        median          std       \n",
              "outcome            0      1      0     1      0      1\n",
              "bloodpressure  70.92  75.12   72.0  74.0  11.93  11.95"
            ],
            "text/html": [
              "\n",
              "  <div id=\"df-98fa9341-e6cc-4063-abf6-80752692bc75\">\n",
              "    <div class=\"colab-df-container\">\n",
              "      <div>\n",
              "<style scoped>\n",
              "    .dataframe tbody tr th:only-of-type {\n",
              "        vertical-align: middle;\n",
              "    }\n",
              "\n",
              "    .dataframe tbody tr th {\n",
              "        vertical-align: top;\n",
              "    }\n",
              "\n",
              "    .dataframe thead tr th {\n",
              "        text-align: left;\n",
              "    }\n",
              "</style>\n",
              "<table border=\"1\" class=\"dataframe\">\n",
              "  <thead>\n",
              "    <tr>\n",
              "      <th></th>\n",
              "      <th colspan=\"2\" halign=\"left\">mean</th>\n",
              "      <th colspan=\"2\" halign=\"left\">median</th>\n",
              "      <th colspan=\"2\" halign=\"left\">std</th>\n",
              "    </tr>\n",
              "    <tr>\n",
              "      <th>outcome</th>\n",
              "      <th>0</th>\n",
              "      <th>1</th>\n",
              "      <th>0</th>\n",
              "      <th>1</th>\n",
              "      <th>0</th>\n",
              "      <th>1</th>\n",
              "    </tr>\n",
              "  </thead>\n",
              "  <tbody>\n",
              "    <tr>\n",
              "      <th>bloodpressure</th>\n",
              "      <td>70.92</td>\n",
              "      <td>75.12</td>\n",
              "      <td>72.0</td>\n",
              "      <td>74.0</td>\n",
              "      <td>11.93</td>\n",
              "      <td>11.95</td>\n",
              "    </tr>\n",
              "  </tbody>\n",
              "</table>\n",
              "</div>\n",
              "      <button class=\"colab-df-convert\" onclick=\"convertToInteractive('df-98fa9341-e6cc-4063-abf6-80752692bc75')\"\n",
              "              title=\"Convert this dataframe to an interactive table.\"\n",
              "              style=\"display:none;\">\n",
              "        \n",
              "  <svg xmlns=\"http://www.w3.org/2000/svg\" height=\"24px\"viewBox=\"0 0 24 24\"\n",
              "       width=\"24px\">\n",
              "    <path d=\"M0 0h24v24H0V0z\" fill=\"none\"/>\n",
              "    <path d=\"M18.56 5.44l.94 2.06.94-2.06 2.06-.94-2.06-.94-.94-2.06-.94 2.06-2.06.94zm-11 1L8.5 8.5l.94-2.06 2.06-.94-2.06-.94L8.5 2.5l-.94 2.06-2.06.94zm10 10l.94 2.06.94-2.06 2.06-.94-2.06-.94-.94-2.06-.94 2.06-2.06.94z\"/><path d=\"M17.41 7.96l-1.37-1.37c-.4-.4-.92-.59-1.43-.59-.52 0-1.04.2-1.43.59L10.3 9.45l-7.72 7.72c-.78.78-.78 2.05 0 2.83L4 21.41c.39.39.9.59 1.41.59.51 0 1.02-.2 1.41-.59l7.78-7.78 2.81-2.81c.8-.78.8-2.07 0-2.86zM5.41 20L4 18.59l7.72-7.72 1.47 1.35L5.41 20z\"/>\n",
              "  </svg>\n",
              "      </button>\n",
              "      \n",
              "  <style>\n",
              "    .colab-df-container {\n",
              "      display:flex;\n",
              "      flex-wrap:wrap;\n",
              "      gap: 12px;\n",
              "    }\n",
              "\n",
              "    .colab-df-convert {\n",
              "      background-color: #E8F0FE;\n",
              "      border: none;\n",
              "      border-radius: 50%;\n",
              "      cursor: pointer;\n",
              "      display: none;\n",
              "      fill: #1967D2;\n",
              "      height: 32px;\n",
              "      padding: 0 0 0 0;\n",
              "      width: 32px;\n",
              "    }\n",
              "\n",
              "    .colab-df-convert:hover {\n",
              "      background-color: #E2EBFA;\n",
              "      box-shadow: 0px 1px 2px rgba(60, 64, 67, 0.3), 0px 1px 3px 1px rgba(60, 64, 67, 0.15);\n",
              "      fill: #174EA6;\n",
              "    }\n",
              "\n",
              "    [theme=dark] .colab-df-convert {\n",
              "      background-color: #3B4455;\n",
              "      fill: #D2E3FC;\n",
              "    }\n",
              "\n",
              "    [theme=dark] .colab-df-convert:hover {\n",
              "      background-color: #434B5C;\n",
              "      box-shadow: 0px 1px 3px 1px rgba(0, 0, 0, 0.15);\n",
              "      filter: drop-shadow(0px 1px 2px rgba(0, 0, 0, 0.3));\n",
              "      fill: #FFFFFF;\n",
              "    }\n",
              "  </style>\n",
              "\n",
              "      <script>\n",
              "        const buttonEl =\n",
              "          document.querySelector('#df-98fa9341-e6cc-4063-abf6-80752692bc75 button.colab-df-convert');\n",
              "        buttonEl.style.display =\n",
              "          google.colab.kernel.accessAllowed ? 'block' : 'none';\n",
              "\n",
              "        async function convertToInteractive(key) {\n",
              "          const element = document.querySelector('#df-98fa9341-e6cc-4063-abf6-80752692bc75');\n",
              "          const dataTable =\n",
              "            await google.colab.kernel.invokeFunction('convertToInteractive',\n",
              "                                                     [key], {});\n",
              "          if (!dataTable) return;\n",
              "\n",
              "          const docLinkHtml = 'Like what you see? Visit the ' +\n",
              "            '<a target=\"_blank\" href=https://colab.research.google.com/notebooks/data_table.ipynb>data table notebook</a>'\n",
              "            + ' to learn more about interactive tables.';\n",
              "          element.innerHTML = '';\n",
              "          dataTable['output_type'] = 'display_data';\n",
              "          await google.colab.output.renderOutput(dataTable, element);\n",
              "          const docLink = document.createElement('div');\n",
              "          docLink.innerHTML = docLinkHtml;\n",
              "          element.appendChild(docLink);\n",
              "        }\n",
              "      </script>\n",
              "    </div>\n",
              "  </div>\n",
              "  "
            ]
          },
          "metadata": {},
          "execution_count": 1682
        }
      ],
      "source": [
        "# Tabela com a média, mediana e desvio-padrão de pressão sanguínea das pacientes sem diabetes\n",
        "# em comparação com às pacientes com diabetes:\n",
        "\n",
        "pd.pivot_table(data = df, aggfunc = ['mean', 'median', 'std'],\n",
        "               columns = 'outcome',\n",
        "               values = 'bloodpressure').round(2)"
      ]
    },
    {
      "cell_type": "code",
      "execution_count": 1683,
      "metadata": {
        "colab": {
          "base_uri": "https://localhost:8080/",
          "height": 353
        },
        "id": "KmA87K_2ntub",
        "outputId": "f3ca5eb8-f14e-4a73-a7e0-2e5d3f4bc689"
      },
      "outputs": [
        {
          "output_type": "display_data",
          "data": {
            "text/plain": [
              "<Figure size 864x360 with 1 Axes>"
            ],
            "image/png": "[encoded data removed]"
          },
          "metadata": {}
        }
      ],
      "source": [
        "# Histograma com a distribuição de frequência de pressão sanguínea das pacientes sem diabetes em \n",
        "# comparação com às pacientes com diabetes:\n",
        "\n",
        "plt.figure(figsize = (12, 5))\n",
        "\n",
        "sns.distplot(df.query(\"outcome == 0\").bloodpressure, label = 'Sem Diabetes',\n",
        "             kde = False, color = sns.color_palette('Spectral_r')[0])\n",
        "sns.distplot(df.query(\"outcome == 1\").bloodpressure, label = 'Com Diabetes',\n",
        "             kde = False, color = sns.color_palette('Spectral_r')[1])\n",
        "plt.xlabel('Pressão Sanguínea', fontsize = 12, color = 'k')\n",
        "plt.xticks(np.arange(0, 121, 20), fontsize = 10, color = 'k')\n",
        "plt.yticks(np.arange(0, 71, 10), fontsize = 10, color = 'k')\n",
        "plt.title('Distribuição da Pressão Sanguínea X Diagnóstico de Diabetes',\n",
        "        fontsize = 12, color = 'k')\n",
        "plt.ylabel('Frequência', fontsize = 10, color = 'k')\n",
        "plt.legend()\n",
        "plt.show()"
      ]
    },
    {
      "cell_type": "markdown",
      "metadata": {
        "id": "f1B6yhOYpkg8"
      },
      "source": [
        "### (5) Há alguma diferença estatisticamente notável na espessura de pele de pacientes com diabetes em relação aos sem diabetes?"
      ]
    },
    {
      "cell_type": "code",
      "execution_count": 1684,
      "metadata": {
        "colab": {
          "base_uri": "https://localhost:8080/"
        },
        "id": "ucR-L2UFo-dj",
        "outputId": "9a8dd732-81ba-4dba-905d-82fbf1ea8db4"
      },
      "outputs": [
        {
          "output_type": "execute_result",
          "data": {
            "text/plain": [
              "array([35, 29,  0, 23, 32, 45, 19, 47, 38, 30, 41, 33, 26, 15, 36, 11, 31,\n",
              "       37, 42, 25, 18, 24, 39, 27, 21, 34, 10, 60, 13, 20, 22, 28, 54, 40,\n",
              "       51, 56, 14, 17, 50, 44, 12, 46, 16,  7, 52, 43, 48,  8, 49, 63, 99])"
            ]
          },
          "metadata": {},
          "execution_count": 1684
        }
      ],
      "source": [
        "# Valores únicos da espessura da pele:\n",
        "\n",
        "df.skinthickness.unique()"
      ]
    },
    {
      "cell_type": "code",
      "execution_count": 1685,
      "metadata": {
        "colab": {
          "base_uri": "https://localhost:8080/"
        },
        "id": "7ha1pDQDphyk",
        "outputId": "c8333635-e1a5-4701-b1c2-19c7bac38883"
      },
      "outputs": [
        {
          "output_type": "execute_result",
          "data": {
            "text/plain": [
              "51"
            ]
          },
          "metadata": {},
          "execution_count": 1685
        }
      ],
      "source": [
        "# Quantidade de valores únicos da espessura da pele:\n",
        "\n",
        "df.skinthickness.nunique()"
      ]
    },
    {
      "cell_type": "code",
      "execution_count": 1686,
      "metadata": {
        "colab": {
          "base_uri": "https://localhost:8080/"
        },
        "id": "7CsyjA-ZSn5N",
        "outputId": "cd27a076-5691-4ba0-cd9a-68a6c7a89044"
      },
      "outputs": [
        {
          "output_type": "execute_result",
          "data": {
            "text/plain": [
              "29.0"
            ]
          },
          "metadata": {},
          "execution_count": 1686
        }
      ],
      "source": [
        "# Mediana da espessura da pele das pacientes com uma espessura diferente de 0:\n",
        "\n",
        "df[df.skinthickness != 0].skinthickness.median()"
      ]
    },
    {
      "cell_type": "code",
      "execution_count": 1687,
      "metadata": {
        "colab": {
          "base_uri": "https://localhost:8080/"
        },
        "id": "nEuKUDPXSr0v",
        "outputId": "f334de67-0673-4f52-95d2-74830b1e9a45"
      },
      "outputs": [
        {
          "output_type": "execute_result",
          "data": {
            "text/plain": [
              "27.0"
            ]
          },
          "metadata": {},
          "execution_count": 1687
        }
      ],
      "source": [
        "# Mediana da espessura da pele das pacientes sem diabetes com uma espessura diferente de 0:\n",
        "\n",
        "df[(df.skinthickness != 0) & (df.outcome == 0)].skinthickness.median()"
      ]
    },
    {
      "cell_type": "code",
      "execution_count": 1688,
      "metadata": {
        "colab": {
          "base_uri": "https://localhost:8080/"
        },
        "id": "XmoS9ZVMSsP0",
        "outputId": "3e5fc927-b99c-4770-9c49-3e2e38668c85"
      },
      "outputs": [
        {
          "output_type": "execute_result",
          "data": {
            "text/plain": [
              "32.0"
            ]
          },
          "metadata": {},
          "execution_count": 1688
        }
      ],
      "source": [
        "# Mediana da espessura da pele das pacientes com diabetes com uma espessura diferente de 0:\n",
        "\n",
        "df[(df.skinthickness != 0) & (df.outcome == 1)].skinthickness.median()"
      ]
    },
    {
      "cell_type": "code",
      "execution_count": 1689,
      "metadata": {
        "id": "g-LjZPsQJdtJ"
      },
      "outputs": [],
      "source": [
        "# Substituição de espessura da pela igual à 0 pela mediana de espessura da pele das pacientes em geral:\n",
        "\n",
        "df.skinthickness = np.where(df.skinthickness == 0, \n",
        "                      df[df.skinthickness != 0].skinthickness.median(), df['skinthickness'])"
      ]
    },
    {
      "cell_type": "code",
      "execution_count": 1690,
      "metadata": {
        "colab": {
          "base_uri": "https://localhost:8080/"
        },
        "id": "0BJ25P6krGb-",
        "outputId": "c1dfa0cc-fa87-433f-8f76-e05bc716e90e"
      },
      "outputs": [
        {
          "output_type": "execute_result",
          "data": {
            "text/plain": [
              "count    768.00\n",
              "mean      29.11\n",
              "std        8.79\n",
              "min        7.00\n",
              "25%       25.00\n",
              "50%       29.00\n",
              "75%       32.00\n",
              "max       99.00\n",
              "Name: skinthickness, dtype: float64"
            ]
          },
          "metadata": {},
          "execution_count": 1690
        }
      ],
      "source": [
        "# Informações estatísticas sobre a espessura de pele das pacientes:\n",
        "\n",
        "df.skinthickness.describe().round(2)"
      ]
    },
    {
      "cell_type": "code",
      "execution_count": 1691,
      "metadata": {
        "colab": {
          "base_uri": "https://localhost:8080/"
        },
        "id": "gnmZ6w0Nrdry",
        "outputId": "e008c58b-f7fa-44c1-f34e-1b60a1fa684e"
      },
      "outputs": [
        {
          "output_type": "execute_result",
          "data": {
            "text/plain": [
              "29.0"
            ]
          },
          "metadata": {},
          "execution_count": 1691
        }
      ],
      "source": [
        "# Mediana de espessura da pele das pacientes, após tal correção nos dados:\n",
        "\n",
        "df.skinthickness.median().round(2)"
      ]
    },
    {
      "cell_type": "code",
      "execution_count": 1692,
      "metadata": {
        "colab": {
          "base_uri": "https://localhost:8080/",
          "height": 112
        },
        "id": "Otq19WLgrg7H",
        "outputId": "7d5e1815-2d53-4c86-bd99-7a8db8fe7ffb"
      },
      "outputs": [
        {
          "output_type": "execute_result",
          "data": {
            "text/plain": [
              "                mean        median         std      \n",
              "outcome            0      1      0     1     0     1\n",
              "skinthickness  27.73  31.69   29.0  29.0  8.55  8.66"
            ],
            "text/html": [
              "\n",
              "  <div id=\"df-731cc898-2b1c-4894-96e6-377d367dd428\">\n",
              "    <div class=\"colab-df-container\">\n",
              "      <div>\n",
              "<style scoped>\n",
              "    .dataframe tbody tr th:only-of-type {\n",
              "        vertical-align: middle;\n",
              "    }\n",
              "\n",
              "    .dataframe tbody tr th {\n",
              "        vertical-align: top;\n",
              "    }\n",
              "\n",
              "    .dataframe thead tr th {\n",
              "        text-align: left;\n",
              "    }\n",
              "</style>\n",
              "<table border=\"1\" class=\"dataframe\">\n",
              "  <thead>\n",
              "    <tr>\n",
              "      <th></th>\n",
              "      <th colspan=\"2\" halign=\"left\">mean</th>\n",
              "      <th colspan=\"2\" halign=\"left\">median</th>\n",
              "      <th colspan=\"2\" halign=\"left\">std</th>\n",
              "    </tr>\n",
              "    <tr>\n",
              "      <th>outcome</th>\n",
              "      <th>0</th>\n",
              "      <th>1</th>\n",
              "      <th>0</th>\n",
              "      <th>1</th>\n",
              "      <th>0</th>\n",
              "      <th>1</th>\n",
              "    </tr>\n",
              "  </thead>\n",
              "  <tbody>\n",
              "    <tr>\n",
              "      <th>skinthickness</th>\n",
              "      <td>27.73</td>\n",
              "      <td>31.69</td>\n",
              "      <td>29.0</td>\n",
              "      <td>29.0</td>\n",
              "      <td>8.55</td>\n",
              "      <td>8.66</td>\n",
              "    </tr>\n",
              "  </tbody>\n",
              "</table>\n",
              "</div>\n",
              "      <button class=\"colab-df-convert\" onclick=\"convertToInteractive('df-731cc898-2b1c-4894-96e6-377d367dd428')\"\n",
              "              title=\"Convert this dataframe to an interactive table.\"\n",
              "              style=\"display:none;\">\n",
              "        \n",
              "  <svg xmlns=\"http://www.w3.org/2000/svg\" height=\"24px\"viewBox=\"0 0 24 24\"\n",
              "       width=\"24px\">\n",
              "    <path d=\"M0 0h24v24H0V0z\" fill=\"none\"/>\n",
              "    <path d=\"M18.56 5.44l.94 2.06.94-2.06 2.06-.94-2.06-.94-.94-2.06-.94 2.06-2.06.94zm-11 1L8.5 8.5l.94-2.06 2.06-.94-2.06-.94L8.5 2.5l-.94 2.06-2.06.94zm10 10l.94 2.06.94-2.06 2.06-.94-2.06-.94-.94-2.06-.94 2.06-2.06.94z\"/><path d=\"M17.41 7.96l-1.37-1.37c-.4-.4-.92-.59-1.43-.59-.52 0-1.04.2-1.43.59L10.3 9.45l-7.72 7.72c-.78.78-.78 2.05 0 2.83L4 21.41c.39.39.9.59 1.41.59.51 0 1.02-.2 1.41-.59l7.78-7.78 2.81-2.81c.8-.78.8-2.07 0-2.86zM5.41 20L4 18.59l7.72-7.72 1.47 1.35L5.41 20z\"/>\n",
              "  </svg>\n",
              "      </button>\n",
              "      \n",
              "  <style>\n",
              "    .colab-df-container {\n",
              "      display:flex;\n",
              "      flex-wrap:wrap;\n",
              "      gap: 12px;\n",
              "    }\n",
              "\n",
              "    .colab-df-convert {\n",
              "      background-color: #E8F0FE;\n",
              "      border: none;\n",
              "      border-radius: 50%;\n",
              "      cursor: pointer;\n",
              "      display: none;\n",
              "      fill: #1967D2;\n",
              "      height: 32px;\n",
              "      padding: 0 0 0 0;\n",
              "      width: 32px;\n",
              "    }\n",
              "\n",
              "    .colab-df-convert:hover {\n",
              "      background-color: #E2EBFA;\n",
              "      box-shadow: 0px 1px 2px rgba(60, 64, 67, 0.3), 0px 1px 3px 1px rgba(60, 64, 67, 0.15);\n",
              "      fill: #174EA6;\n",
              "    }\n",
              "\n",
              "    [theme=dark] .colab-df-convert {\n",
              "      background-color: #3B4455;\n",
              "      fill: #D2E3FC;\n",
              "    }\n",
              "\n",
              "    [theme=dark] .colab-df-convert:hover {\n",
              "      background-color: #434B5C;\n",
              "      box-shadow: 0px 1px 3px 1px rgba(0, 0, 0, 0.15);\n",
              "      filter: drop-shadow(0px 1px 2px rgba(0, 0, 0, 0.3));\n",
              "      fill: #FFFFFF;\n",
              "    }\n",
              "  </style>\n",
              "\n",
              "      <script>\n",
              "        const buttonEl =\n",
              "          document.querySelector('#df-731cc898-2b1c-4894-96e6-377d367dd428 button.colab-df-convert');\n",
              "        buttonEl.style.display =\n",
              "          google.colab.kernel.accessAllowed ? 'block' : 'none';\n",
              "\n",
              "        async function convertToInteractive(key) {\n",
              "          const element = document.querySelector('#df-731cc898-2b1c-4894-96e6-377d367dd428');\n",
              "          const dataTable =\n",
              "            await google.colab.kernel.invokeFunction('convertToInteractive',\n",
              "                                                     [key], {});\n",
              "          if (!dataTable) return;\n",
              "\n",
              "          const docLinkHtml = 'Like what you see? Visit the ' +\n",
              "            '<a target=\"_blank\" href=https://colab.research.google.com/notebooks/data_table.ipynb>data table notebook</a>'\n",
              "            + ' to learn more about interactive tables.';\n",
              "          element.innerHTML = '';\n",
              "          dataTable['output_type'] = 'display_data';\n",
              "          await google.colab.output.renderOutput(dataTable, element);\n",
              "          const docLink = document.createElement('div');\n",
              "          docLink.innerHTML = docLinkHtml;\n",
              "          element.appendChild(docLink);\n",
              "        }\n",
              "      </script>\n",
              "    </div>\n",
              "  </div>\n",
              "  "
            ]
          },
          "metadata": {},
          "execution_count": 1692
        }
      ],
      "source": [
        "# Tabela com a média, mediana e desvio-padrão da espessura da pele das pacientes sem diabetes\n",
        "# em comparação com às pacientes com diabetes:\n",
        "\n",
        "pd.pivot_table(data = df, aggfunc = ['mean', 'median', 'std'],\n",
        "               columns = 'outcome',\n",
        "               values = 'skinthickness').round(2)"
      ]
    },
    {
      "cell_type": "code",
      "execution_count": 1693,
      "metadata": {
        "colab": {
          "base_uri": "https://localhost:8080/",
          "height": 371
        },
        "id": "zg5vP3dYrplx",
        "outputId": "7a046d38-8d58-4b30-cfb7-acc0f837d594"
      },
      "outputs": [
        {
          "output_type": "display_data",
          "data": {
            "text/plain": [
              "<Figure size 360x360 with 1 Axes>"
            ],
            "image/png": "[encoded data removed]"
          },
          "metadata": {}
        }
      ],
      "source": [
        "# Gráfico catplot para vermos a distribuição da espessura de pele das pacientes sem diabetes\n",
        "# em comparação com às pacientes com diabetes:\n",
        "\n",
        "sns.catplot(data = df,\n",
        "            x = 'outcome',\n",
        "            y = 'skinthickness',\n",
        "            palette = 'Purples')\n",
        "plt.xlabel('')\n",
        "plt.ylabel('Espessura da Pele',\n",
        "           fontsize = 11, color = 'k')\n",
        "plt.yticks(ticks = np.arange(0, 101, 20), fontsize = 10, color = 'k')\n",
        "plt.xticks(ticks = [0, 1],\n",
        "           labels = ['Sem Diabetes', 'Com Diabetes'],\n",
        "           fontsize = 10, color = 'k')\n",
        "plt.title('Espessura da Pele X Diagnóstico de Diabetes',\n",
        "          fontsize = 12, color = 'k')\n",
        "plt.show()"
      ]
    },
    {
      "cell_type": "markdown",
      "metadata": {
        "id": "HYzPw1rOuJFi"
      },
      "source": [
        "### (6) Qual é a relação estatística entre o nível de insulina no sangue e o diagnóstico de diabetes?"
      ]
    },
    {
      "cell_type": "code",
      "execution_count": 1694,
      "metadata": {
        "colab": {
          "base_uri": "https://localhost:8080/"
        },
        "id": "jZefc6RKualR",
        "outputId": "ff55d7b0-d124-4bd7-a11f-5746b2b7be7c"
      },
      "outputs": [
        {
          "output_type": "execute_result",
          "data": {
            "text/plain": [
              "array([  0,  94, 168,  88, 543, 846, 175, 230,  83,  96, 235, 146, 115,\n",
              "       140, 110, 245,  54, 192, 207,  70, 240,  82,  36,  23, 300, 342,\n",
              "       304, 142, 128,  38, 100,  90, 270,  71, 125, 176,  48,  64, 228,\n",
              "        76, 220,  40, 152,  18, 135, 495,  37,  51,  99, 145, 225,  49,\n",
              "        50,  92, 325,  63, 284, 119, 204, 155, 485,  53, 114, 105, 285,\n",
              "       156,  78, 130,  55,  58, 160, 210, 318,  44, 190, 280,  87, 271,\n",
              "       129, 120, 478,  56,  32, 744, 370,  45, 194, 680, 402, 258, 375,\n",
              "       150,  67,  57, 116, 278, 122, 545,  75,  74, 182, 360, 215, 184,\n",
              "        42, 132, 148, 180, 205,  85, 231,  29,  68,  52, 255, 171,  73,\n",
              "       108,  43, 167, 249, 293,  66, 465,  89, 158,  84,  72,  59,  81,\n",
              "       196, 415, 275, 165, 579, 310,  61, 474, 170, 277,  60,  14,  95,\n",
              "       237, 191, 328, 250, 480, 265, 193,  79,  86, 326, 188, 106,  65,\n",
              "       166, 274,  77, 126, 330, 600, 185,  25,  41, 272, 321, 144,  15,\n",
              "       183,  91,  46, 440, 159, 540, 200, 335, 387,  22, 291, 392, 178,\n",
              "       127, 510,  16, 112])"
            ]
          },
          "metadata": {},
          "execution_count": 1694
        }
      ],
      "source": [
        "# Valores únicos de insulina registrada:\n",
        "\n",
        "df.insulin.unique()"
      ]
    },
    {
      "cell_type": "code",
      "execution_count": 1695,
      "metadata": {
        "colab": {
          "base_uri": "https://localhost:8080/"
        },
        "id": "Wm6PkVJBud1B",
        "outputId": "b27ac573-8b23-4456-8d9e-e90d19f5facc"
      },
      "outputs": [
        {
          "output_type": "execute_result",
          "data": {
            "text/plain": [
              "186"
            ]
          },
          "metadata": {},
          "execution_count": 1695
        }
      ],
      "source": [
        "# Quantidade de valores únicos de insulina:\n",
        "\n",
        "df.insulin.nunique()"
      ]
    },
    {
      "cell_type": "code",
      "execution_count": 1696,
      "metadata": {
        "colab": {
          "base_uri": "https://localhost:8080/"
        },
        "id": "KzwR1QFQS71G",
        "outputId": "c7b59bfb-4a6e-4b5d-ace1-8f18c9089486"
      },
      "outputs": [
        {
          "output_type": "execute_result",
          "data": {
            "text/plain": [
              "30.5"
            ]
          },
          "metadata": {},
          "execution_count": 1696
        }
      ],
      "source": [
        "# Mediana da insulina das pacientes:\n",
        "\n",
        "df.insulin.median()"
      ]
    },
    {
      "cell_type": "code",
      "execution_count": 1697,
      "metadata": {
        "colab": {
          "base_uri": "https://localhost:8080/"
        },
        "id": "V203WsH_RpNO",
        "outputId": "c2bd48e4-d345-49e0-f4a5-db3ba105b1e7"
      },
      "outputs": [
        {
          "output_type": "execute_result",
          "data": {
            "text/plain": [
              "102.5"
            ]
          },
          "metadata": {},
          "execution_count": 1697
        }
      ],
      "source": [
        "#  Mediana da insulina das pacientes sem diabetes, com insulina diferente de 0:\n",
        "\n",
        "df[(df['outcome'] == 0) & (df['insulin'] != 0)].insulin.median()"
      ]
    },
    {
      "cell_type": "code",
      "execution_count": 1698,
      "metadata": {
        "colab": {
          "base_uri": "https://localhost:8080/"
        },
        "id": "7FJJRBLNRx3e",
        "outputId": "4dc31bc9-656a-4641-e5a8-fe6e5f8142b0"
      },
      "outputs": [
        {
          "output_type": "execute_result",
          "data": {
            "text/plain": [
              "169.5"
            ]
          },
          "metadata": {},
          "execution_count": 1698
        }
      ],
      "source": [
        "#  Mediana da insulina das pacientes com diabetes, com insulina diferente de 0:\n",
        "\n",
        "df[(df['outcome'] == 1) & (df['insulin'] != 0)].insulin.median()"
      ]
    },
    {
      "cell_type": "code",
      "execution_count": 1699,
      "metadata": {
        "colab": {
          "base_uri": "https://localhost:8080/"
        },
        "id": "ZNbjFLcTU2bq",
        "outputId": "195365c4-50df-4c73-946b-becd53d8178e"
      },
      "outputs": [
        {
          "output_type": "execute_result",
          "data": {
            "text/plain": [
              "0      0\n",
              "1      0\n",
              "2      0\n",
              "5      0\n",
              "7      0\n",
              "      ..\n",
              "761    0\n",
              "762    0\n",
              "764    0\n",
              "766    0\n",
              "767    0\n",
              "Name: insulin, Length: 374, dtype: int64"
            ]
          },
          "metadata": {},
          "execution_count": 1699
        }
      ],
      "source": [
        "# Filtro das pacientes com insulina registrada igual à 0:\n",
        "\n",
        "df[df.insulin == 0].insulin"
      ]
    },
    {
      "cell_type": "code",
      "execution_count": 1700,
      "metadata": {
        "id": "4trIAODBav1H"
      },
      "outputs": [],
      "source": [
        "# Lista para obter os índices das pacientes sem diabetes registradas com insulina igual à 0:\n",
        "\n",
        "l1 = list((df[(df.insulin == 0) & (df.outcome == 0)].insulin.index))"
      ]
    },
    {
      "cell_type": "code",
      "execution_count": 1701,
      "metadata": {
        "colab": {
          "base_uri": "https://localhost:8080/"
        },
        "id": "O2IMQ-docPwP",
        "outputId": "528ad316-2185-45d1-b45a-2568dff4eada"
      },
      "outputs": [
        {
          "output_type": "stream",
          "name": "stdout",
          "text": [
            "[1, 5, 7, 10, 12, 21, 29, 30, 33, 34, 36, 41, 42, 44, 46, 47, 49, 55, 58, 60, 62, 65, 67, 74, 75, 76, 77, 79, 80, 81, 83, 86, 89, 90, 96, 101, 102, 104, 106, 113, 117, 118, 121, 123, 133, 138, 140, 141, 145, 146, 148, 149, 151, 160, 163, 166, 167, 168, 172, 176, 178, 180, 183, 184, 190, 194, 196, 200, 201, 202, 205, 210, 211, 212, 222, 226, 233, 239, 240, 246, 249, 250, 251, 253, 256, 257, 262, 263, 267, 268, 272, 274, 278, 294, 299, 304, 310, 324, 327, 330, 333, 336, 342, 343, 344, 347, 350, 351, 352, 354, 361, 362, 367, 381, 398, 401, 403, 407, 410, 416, 418, 423, 426, 430, 433, 434, 436, 437, 438, 439, 453, 456, 461, 463, 464, 470, 471, 472, 473, 474, 475, 479, 481, 488, 489, 491, 492, 494, 495, 496, 501, 504, 505, 509, 512, 513, 517, 518, 522, 524, 525, 529, 531, 533, 536, 537, 549, 550, 552, 556, 557, 558, 559, 564, 570, 571, 578, 581, 582, 583, 585, 587, 589, 596, 600, 601, 602, 605, 613, 615, 616, 621, 622, 624, 626, 627, 628, 629, 632, 634, 636, 641, 643, 649, 653, 658, 660, 671, 674, 677, 684, 686, 687, 690, 694, 697, 699, 703, 705, 714, 717, 720, 724, 725, 727, 728, 729, 734, 735, 737, 752, 756, 758, 762, 764, 767]\n"
          ]
        }
      ],
      "source": [
        "# Verificação da lista criada:\n",
        "\n",
        "print(l1)"
      ]
    },
    {
      "cell_type": "code",
      "execution_count": 1702,
      "metadata": {
        "id": "Vi4T_JUPc1EZ"
      },
      "outputs": [],
      "source": [
        "# Lista para obter os índices das pacientes com diabetes registradas com insulina igual à 0:\n",
        "\n",
        "l2 = list((df[(df.insulin == 0) & (df.outcome == 1)].insulin.index))"
      ]
    },
    {
      "cell_type": "code",
      "execution_count": 1703,
      "metadata": {
        "colab": {
          "base_uri": "https://localhost:8080/"
        },
        "id": "dbk7WfvYc5pz",
        "outputId": "0abcebdf-de84-4d97-f8bd-53e150ac5466"
      },
      "outputs": [
        {
          "output_type": "stream",
          "name": "stdout",
          "text": [
            "[0, 2, 9, 11, 15, 17, 22, 23, 26, 37, 38, 45, 48, 61, 64, 66, 72, 78, 84, 93, 100, 115, 116, 124, 129, 131, 143, 154, 155, 164, 170, 179, 185, 192, 193, 207, 209, 218, 219, 221, 227, 230, 235, 237, 238, 242, 245, 255, 261, 264, 266, 269, 270, 276, 280, 283, 284, 300, 303, 314, 317, 319, 321, 322, 332, 337, 339, 349, 355, 357, 363, 366, 378, 386, 387, 391, 394, 397, 399, 400, 404, 406, 408, 417, 435, 440, 443, 444, 451, 455, 468, 484, 502, 510, 523, 535, 542, 560, 577, 579, 580, 586, 590, 592, 598, 604, 618, 619, 630, 635, 642, 661, 664, 666, 667, 675, 676, 678, 681, 683, 691, 701, 702, 706, 708, 712, 719, 731, 739, 743, 746, 749, 750, 754, 757, 759, 761, 766]\n"
          ]
        }
      ],
      "source": [
        "# Verificação da segunda lista criada:\n",
        "\n",
        "print(l2)"
      ]
    },
    {
      "cell_type": "code",
      "execution_count": 1704,
      "metadata": {
        "colab": {
          "base_uri": "https://localhost:8080/"
        },
        "id": "lLmgXW_3cjYt",
        "outputId": "7a1624aa-328a-4550-c7a5-d3377902602f"
      },
      "outputs": [
        {
          "output_type": "execute_result",
          "data": {
            "text/plain": [
              "1      0\n",
              "5      0\n",
              "7      0\n",
              "10     0\n",
              "12     0\n",
              "      ..\n",
              "756    0\n",
              "758    0\n",
              "762    0\n",
              "764    0\n",
              "767    0\n",
              "Name: insulin, Length: 236, dtype: int64"
            ]
          },
          "metadata": {},
          "execution_count": 1704
        }
      ],
      "source": [
        "# Filtro da coluna 'insulin' das pacientes sem diabetes com o registro de insulina igual à 0: \n",
        "\n",
        "df.loc[l1, 'insulin']"
      ]
    },
    {
      "cell_type": "code",
      "execution_count": 1705,
      "metadata": {
        "colab": {
          "base_uri": "https://localhost:8080/"
        },
        "id": "ReViLa9gc7EW",
        "outputId": "989d5986-2cf8-4acc-b552-54fb37619403"
      },
      "outputs": [
        {
          "output_type": "execute_result",
          "data": {
            "text/plain": [
              "0      0\n",
              "2      0\n",
              "9      0\n",
              "11     0\n",
              "15     0\n",
              "      ..\n",
              "754    0\n",
              "757    0\n",
              "759    0\n",
              "761    0\n",
              "766    0\n",
              "Name: insulin, Length: 138, dtype: int64"
            ]
          },
          "metadata": {},
          "execution_count": 1705
        }
      ],
      "source": [
        "# Filtro da coluna 'insulin' das pacientes com diabetes com o registro de insulina igual à 0: \n",
        "\n",
        "df.loc[l2, 'insulin']"
      ]
    },
    {
      "cell_type": "code",
      "execution_count": 1706,
      "metadata": {
        "id": "DH5nNBuxbnUE"
      },
      "outputs": [],
      "source": [
        "# List-compreehension para substituir o valor de insulina igual à zero das pacientes sem diabetes\n",
        "# pela mediana de insulina entre todas às pacientes sem diabetes:\n",
        "\n",
        "df.loc[l1, 'insulin'] = [df[(df.insulin != 0) & (df.outcome == 0)].insulin.median() for i in df.loc[l1, 'insulin']]"
      ]
    },
    {
      "cell_type": "code",
      "execution_count": 1707,
      "metadata": {
        "id": "fNbb4HbLczR9"
      },
      "outputs": [],
      "source": [
        "# List-compreehension para substituir o valor de insulina igual à zero das pacientes sem diabetes\n",
        "# pela mediana de insulina entre todas às pacientes sem diabetes:\n",
        "\n",
        "df.loc[l2, 'insulin'] = [df[(df.insulin != 0) & (df.outcome == 1)].insulin.median() for i in df.loc[l2, 'insulin']]"
      ]
    },
    {
      "cell_type": "code",
      "execution_count": 1708,
      "metadata": {
        "colab": {
          "base_uri": "https://localhost:8080/"
        },
        "id": "RxPJoN19Un2G",
        "outputId": "01401b11-f27b-48f2-d661-f17d8e902cb7"
      },
      "outputs": [
        {
          "output_type": "execute_result",
          "data": {
            "text/plain": [
              "102.5    236\n",
              "169.5    138\n",
              "105.0     11\n",
              "130.0      9\n",
              "140.0      9\n",
              "        ... \n",
              "73.0       1\n",
              "171.0      1\n",
              "255.0      1\n",
              "52.0       1\n",
              "112.0      1\n",
              "Name: insulin, Length: 187, dtype: int64"
            ]
          },
          "metadata": {},
          "execution_count": 1708
        }
      ],
      "source": [
        "# Quantidade de pacientes por insulina registrada:\n",
        "\n",
        "df.insulin.value_counts()"
      ]
    },
    {
      "cell_type": "code",
      "execution_count": 1709,
      "metadata": {
        "colab": {
          "base_uri": "https://localhost:8080/"
        },
        "id": "2XpbgFXDr5fO",
        "outputId": "4a376dad-9d71-4929-df55-5855704abc38"
      },
      "outputs": [
        {
          "output_type": "execute_result",
          "data": {
            "text/plain": [
              "count    768.00\n",
              "mean     141.75\n",
              "std       89.10\n",
              "min       14.00\n",
              "25%      102.50\n",
              "50%      102.50\n",
              "75%      169.50\n",
              "max      846.00\n",
              "Name: insulin, dtype: float64"
            ]
          },
          "metadata": {},
          "execution_count": 1709
        }
      ],
      "source": [
        "# Informações estatísticas sobre a insulina registrada nas pacientes:\n",
        "\n",
        "df.insulin.describe().round(2)"
      ]
    },
    {
      "cell_type": "code",
      "execution_count": 1710,
      "metadata": {
        "colab": {
          "base_uri": "https://localhost:8080/"
        },
        "id": "e56LhESlurSo",
        "outputId": "73744e8d-b116-4df4-e190-959d50183f7c"
      },
      "outputs": [
        {
          "output_type": "execute_result",
          "data": {
            "text/plain": [
              "102.5"
            ]
          },
          "metadata": {},
          "execution_count": 1710
        }
      ],
      "source": [
        "# Mediana de insulina das pacientes: \n",
        "\n",
        "df.insulin.median()"
      ]
    },
    {
      "cell_type": "code",
      "execution_count": 1711,
      "metadata": {
        "colab": {
          "base_uri": "https://localhost:8080/"
        },
        "id": "lMHUnPKtwx97",
        "outputId": "962f348d-880a-4843-a9f8-5ad1ea10b1ba"
      },
      "outputs": [
        {
          "output_type": "execute_result",
          "data": {
            "text/plain": [
              "102.5    30.73\n",
              "169.5    17.97\n",
              "105.0     1.43\n",
              "130.0     1.17\n",
              "140.0     1.17\n",
              "120.0     1.04\n",
              "94.0      0.91\n",
              "180.0     0.91\n",
              "100.0     0.91\n",
              "135.0     0.78\n",
              "Name: insulin, dtype: float64"
            ]
          },
          "metadata": {},
          "execution_count": 1711
        }
      ],
      "source": [
        "# Porcentagem de pacientes por quantidade de insulina registrada:\n",
        "\n",
        "(df.insulin.value_counts(normalize = True) * 100).round(2).iloc[:10]"
      ]
    },
    {
      "cell_type": "code",
      "execution_count": 1712,
      "metadata": {
        "colab": {
          "base_uri": "https://localhost:8080/"
        },
        "id": "BCVKCAJPt172",
        "outputId": "2491bd48-5088-47b6-e311-4e5e37b2e896"
      },
      "outputs": [
        {
          "output_type": "execute_result",
          "data": {
            "text/plain": [
              "count    500.00\n",
              "mean     117.17\n",
              "std       75.69\n",
              "min       15.00\n",
              "25%       95.00\n",
              "50%      102.50\n",
              "75%      105.00\n",
              "max      744.00\n",
              "Name: insulin, dtype: float64"
            ]
          },
          "metadata": {},
          "execution_count": 1712
        }
      ],
      "source": [
        "# Informações estatísticas sobre a insulina das pacientes sem diabetes:\n",
        "\n",
        "df.query('outcome == 0').insulin.describe().round(2)"
      ]
    },
    {
      "cell_type": "code",
      "execution_count": 1713,
      "metadata": {
        "colab": {
          "base_uri": "https://localhost:8080/"
        },
        "id": "kjUiE6rSvbn8",
        "outputId": "9623b4fc-139b-433f-8691-60d054a9b155"
      },
      "outputs": [
        {
          "output_type": "execute_result",
          "data": {
            "text/plain": [
              "102.5    236\n",
              "105.0     10\n",
              "140.0      8\n",
              "94.0       7\n",
              "100.0      6\n",
              "120.0      6\n",
              "66.0       5\n",
              "56.0       5\n",
              "49.0       5\n",
              "76.0       5\n",
              "Name: insulin, dtype: int64"
            ]
          },
          "metadata": {},
          "execution_count": 1713
        }
      ],
      "source": [
        "# Quantidade de pacientes sem diabetes por quantidade de insulina registrada:\n",
        "\n",
        "df.query('outcome == 0').insulin.value_counts().iloc[:10]"
      ]
    },
    {
      "cell_type": "code",
      "execution_count": 1714,
      "metadata": {
        "colab": {
          "base_uri": "https://localhost:8080/"
        },
        "id": "OddGli3DwgCZ",
        "outputId": "dddecf3c-9e84-49c0-f1e4-9e7b7117d2d7"
      },
      "outputs": [
        {
          "output_type": "execute_result",
          "data": {
            "text/plain": [
              "102.5    47.2\n",
              "105.0     2.0\n",
              "140.0     1.6\n",
              "94.0      1.4\n",
              "100.0     1.2\n",
              "120.0     1.2\n",
              "66.0      1.0\n",
              "56.0      1.0\n",
              "49.0      1.0\n",
              "76.0      1.0\n",
              "Name: insulin, dtype: float64"
            ]
          },
          "metadata": {},
          "execution_count": 1714
        }
      ],
      "source": [
        "# Porcentagem de pacientes sem diabetes por quantidade de insulina registrada:\n",
        "\n",
        "(df.query('outcome == 0').insulin.value_counts(normalize = True) * 100).round(2).iloc[:10]"
      ]
    },
    {
      "cell_type": "code",
      "execution_count": 1715,
      "metadata": {
        "colab": {
          "base_uri": "https://localhost:8080/"
        },
        "id": "3c4U_Pawum3q",
        "outputId": "3732bd54-943c-4ac4-9a9a-56fe352b5620"
      },
      "outputs": [
        {
          "output_type": "execute_result",
          "data": {
            "text/plain": [
              "102.5"
            ]
          },
          "metadata": {},
          "execution_count": 1715
        }
      ],
      "source": [
        "# Mediana de insulina entre às pacientes sem diabetes:\n",
        "\n",
        "df.query('outcome == 0').insulin.median()"
      ]
    },
    {
      "cell_type": "code",
      "execution_count": 1716,
      "metadata": {
        "colab": {
          "base_uri": "https://localhost:8080/"
        },
        "id": "33nbX6Emuw61",
        "outputId": "1d135d24-21ee-434b-94f7-48ed0bfca867"
      },
      "outputs": [
        {
          "output_type": "execute_result",
          "data": {
            "text/plain": [
              "count    268.00\n",
              "mean     187.62\n",
              "std       94.11\n",
              "min       14.00\n",
              "25%      169.50\n",
              "50%      169.50\n",
              "75%      169.50\n",
              "max      846.00\n",
              "Name: insulin, dtype: float64"
            ]
          },
          "metadata": {},
          "execution_count": 1716
        }
      ],
      "source": [
        "# Informações estatísticas sobre a insulina das pacientes sem diabetes:\n",
        "\n",
        "df.query('outcome == 1').insulin.describe().round(2)"
      ]
    },
    {
      "cell_type": "code",
      "execution_count": 1717,
      "metadata": {
        "colab": {
          "base_uri": "https://localhost:8080/"
        },
        "id": "7tZbSY7Xu00j",
        "outputId": "58026d05-ecce-4cd3-995a-c478e11076a1"
      },
      "outputs": [
        {
          "output_type": "execute_result",
          "data": {
            "text/plain": [
              "169.5"
            ]
          },
          "metadata": {},
          "execution_count": 1717
        }
      ],
      "source": [
        "# Mediana de insulina entre às pacientes sem diabetes:\n",
        "\n",
        "df.query('outcome == 1').insulin.median()"
      ]
    },
    {
      "cell_type": "code",
      "execution_count": 1718,
      "metadata": {
        "colab": {
          "base_uri": "https://localhost:8080/"
        },
        "id": "bLPXc-Oyu4nw",
        "outputId": "5bd482a8-4dbd-4eeb-d5bf-64de63218a4d"
      },
      "outputs": [
        {
          "output_type": "execute_result",
          "data": {
            "text/plain": [
              "169.5    138\n",
              "130.0      6\n",
              "180.0      4\n",
              "175.0      3\n",
              "156.0      3\n",
              "185.0      2\n",
              "194.0      2\n",
              "168.0      2\n",
              "144.0      2\n",
              "210.0      2\n",
              "Name: insulin, dtype: int64"
            ]
          },
          "metadata": {},
          "execution_count": 1718
        }
      ],
      "source": [
        "# Quantidade de pacientes com diabetes por quantidade de insulina registrada:\n",
        "\n",
        "df.query('outcome == 1').insulin.value_counts().iloc[:10]"
      ]
    },
    {
      "cell_type": "code",
      "execution_count": 1719,
      "metadata": {
        "colab": {
          "base_uri": "https://localhost:8080/"
        },
        "id": "tzL86BlEwqiT",
        "outputId": "fd5c9ac5-eb9b-448f-cfbd-1f532c72958d"
      },
      "outputs": [
        {
          "output_type": "execute_result",
          "data": {
            "text/plain": [
              "169.5    51.49\n",
              "130.0     2.24\n",
              "180.0     1.49\n",
              "175.0     1.12\n",
              "156.0     1.12\n",
              "185.0     0.75\n",
              "194.0     0.75\n",
              "168.0     0.75\n",
              "144.0     0.75\n",
              "210.0     0.75\n",
              "Name: insulin, dtype: float64"
            ]
          },
          "metadata": {},
          "execution_count": 1719
        }
      ],
      "source": [
        "# Porcentagem de pacientes sem diabetes por quantidade de insulina registrada:\n",
        "\n",
        "(df.query('outcome == 1').insulin.value_counts(normalize = True) * 100).round(2).iloc[:10]"
      ]
    },
    {
      "cell_type": "code",
      "execution_count": 1720,
      "metadata": {
        "id": "Qacn5W6vdTBw"
      },
      "outputs": [],
      "source": [
        "# Criação de função para calcular o intervalo-interquartil de qualquer coluna, para podermos filtrar dados atípicos no dataset\n",
        "\n",
        "def calculo_iqr(x):\n",
        "  IQR = df[x].quantile(0.75) - df[x].quantile(0.25)\n",
        "  lim_inf = df[x].quantile(0.25) - (IQR * 1.5)\n",
        "  lim_sup = df[x].quantile(0.75) + (IQR * 1.5)\n",
        "  return lim_inf, lim_sup"
      ]
    },
    {
      "cell_type": "code",
      "execution_count": 1721,
      "metadata": {
        "colab": {
          "base_uri": "https://localhost:8080/"
        },
        "id": "9e4iaebXddDQ",
        "outputId": "631f1946-1737-4335-ac5b-f87422be12dd"
      },
      "outputs": [
        {
          "output_type": "execute_result",
          "data": {
            "text/plain": [
              "(2.0, 270.0)"
            ]
          },
          "metadata": {},
          "execution_count": 1721
        }
      ],
      "source": [
        "# Limite inferior e superior da coluna 'insulin' com a função de cálculo de IQR:\n",
        "\n",
        "calculo_iqr('insulin')"
      ]
    },
    {
      "cell_type": "code",
      "execution_count": 1722,
      "metadata": {
        "colab": {
          "base_uri": "https://localhost:8080/",
          "height": 424
        },
        "id": "cjefFtPJeFWj",
        "outputId": "03e629fa-084c-4550-e38a-aa0a2f7ea692"
      },
      "outputs": [
        {
          "output_type": "execute_result",
          "data": {
            "text/plain": [
              "     pregnancies  glucose  bloodpressure  skinthickness  insulin   bmi  \\\n",
              "0              6    148.0           72.0           35.0    169.5  33.6   \n",
              "1              1     85.0           66.0           29.0    102.5  26.6   \n",
              "2              8    183.0           64.0           29.0    169.5  23.3   \n",
              "3              1     89.0           66.0           23.0     94.0  28.1   \n",
              "4              0    137.0           40.0           35.0    168.0  43.1   \n",
              "..           ...      ...            ...            ...      ...   ...   \n",
              "763           10    101.0           76.0           48.0    180.0  32.9   \n",
              "764            2    122.0           70.0           27.0    102.5  36.8   \n",
              "765            5    121.0           72.0           23.0    112.0  26.2   \n",
              "766            1    126.0           60.0           29.0    169.5  30.1   \n",
              "767            1     93.0           70.0           31.0    102.5  30.4   \n",
              "\n",
              "     diabetespedigreefunction  age  outcome  \n",
              "0                       0.627   50        1  \n",
              "1                       0.351   31        0  \n",
              "2                       0.672   32        1  \n",
              "3                       0.167   21        0  \n",
              "4                       2.288   33        1  \n",
              "..                        ...  ...      ...  \n",
              "763                     0.171   63        0  \n",
              "764                     0.340   27        0  \n",
              "765                     0.245   30        0  \n",
              "766                     0.349   47        1  \n",
              "767                     0.315   23        0  \n",
              "\n",
              "[717 rows x 9 columns]"
            ],
            "text/html": [
              "\n",
              "  <div id=\"df-2b004fd6-dc89-4ac5-88ae-1e49f88e8c1e\">\n",
              "    <div class=\"colab-df-container\">\n",
              "      <div>\n",
              "<style scoped>\n",
              "    .dataframe tbody tr th:only-of-type {\n",
              "        vertical-align: middle;\n",
              "    }\n",
              "\n",
              "    .dataframe tbody tr th {\n",
              "        vertical-align: top;\n",
              "    }\n",
              "\n",
              "    .dataframe thead th {\n",
              "        text-align: right;\n",
              "    }\n",
              "</style>\n",
              "<table border=\"1\" class=\"dataframe\">\n",
              "  <thead>\n",
              "    <tr style=\"text-align: right;\">\n",
              "      <th></th>\n",
              "      <th>pregnancies</th>\n",
              "      <th>glucose</th>\n",
              "      <th>bloodpressure</th>\n",
              "      <th>skinthickness</th>\n",
              "      <th>insulin</th>\n",
              "      <th>bmi</th>\n",
              "      <th>diabetespedigreefunction</th>\n",
              "      <th>age</th>\n",
              "      <th>outcome</th>\n",
              "    </tr>\n",
              "  </thead>\n",
              "  <tbody>\n",
              "    <tr>\n",
              "      <th>0</th>\n",
              "      <td>6</td>\n",
              "      <td>148.0</td>\n",
              "      <td>72.0</td>\n",
              "      <td>35.0</td>\n",
              "      <td>169.5</td>\n",
              "      <td>33.6</td>\n",
              "      <td>0.627</td>\n",
              "      <td>50</td>\n",
              "      <td>1</td>\n",
              "    </tr>\n",
              "    <tr>\n",
              "      <th>1</th>\n",
              "      <td>1</td>\n",
              "      <td>85.0</td>\n",
              "      <td>66.0</td>\n",
              "      <td>29.0</td>\n",
              "      <td>102.5</td>\n",
              "      <td>26.6</td>\n",
              "      <td>0.351</td>\n",
              "      <td>31</td>\n",
              "      <td>0</td>\n",
              "    </tr>\n",
              "    <tr>\n",
              "      <th>2</th>\n",
              "      <td>8</td>\n",
              "      <td>183.0</td>\n",
              "      <td>64.0</td>\n",
              "      <td>29.0</td>\n",
              "      <td>169.5</td>\n",
              "      <td>23.3</td>\n",
              "      <td>0.672</td>\n",
              "      <td>32</td>\n",
              "      <td>1</td>\n",
              "    </tr>\n",
              "    <tr>\n",
              "      <th>3</th>\n",
              "      <td>1</td>\n",
              "      <td>89.0</td>\n",
              "      <td>66.0</td>\n",
              "      <td>23.0</td>\n",
              "      <td>94.0</td>\n",
              "      <td>28.1</td>\n",
              "      <td>0.167</td>\n",
              "      <td>21</td>\n",
              "      <td>0</td>\n",
              "    </tr>\n",
              "    <tr>\n",
              "      <th>4</th>\n",
              "      <td>0</td>\n",
              "      <td>137.0</td>\n",
              "      <td>40.0</td>\n",
              "      <td>35.0</td>\n",
              "      <td>168.0</td>\n",
              "      <td>43.1</td>\n",
              "      <td>2.288</td>\n",
              "      <td>33</td>\n",
              "      <td>1</td>\n",
              "    </tr>\n",
              "    <tr>\n",
              "      <th>...</th>\n",
              "      <td>...</td>\n",
              "      <td>...</td>\n",
              "      <td>...</td>\n",
              "      <td>...</td>\n",
              "      <td>...</td>\n",
              "      <td>...</td>\n",
              "      <td>...</td>\n",
              "      <td>...</td>\n",
              "      <td>...</td>\n",
              "    </tr>\n",
              "    <tr>\n",
              "      <th>763</th>\n",
              "      <td>10</td>\n",
              "      <td>101.0</td>\n",
              "      <td>76.0</td>\n",
              "      <td>48.0</td>\n",
              "      <td>180.0</td>\n",
              "      <td>32.9</td>\n",
              "      <td>0.171</td>\n",
              "      <td>63</td>\n",
              "      <td>0</td>\n",
              "    </tr>\n",
              "    <tr>\n",
              "      <th>764</th>\n",
              "      <td>2</td>\n",
              "      <td>122.0</td>\n",
              "      <td>70.0</td>\n",
              "      <td>27.0</td>\n",
              "      <td>102.5</td>\n",
              "      <td>36.8</td>\n",
              "      <td>0.340</td>\n",
              "      <td>27</td>\n",
              "      <td>0</td>\n",
              "    </tr>\n",
              "    <tr>\n",
              "      <th>765</th>\n",
              "      <td>5</td>\n",
              "      <td>121.0</td>\n",
              "      <td>72.0</td>\n",
              "      <td>23.0</td>\n",
              "      <td>112.0</td>\n",
              "      <td>26.2</td>\n",
              "      <td>0.245</td>\n",
              "      <td>30</td>\n",
              "      <td>0</td>\n",
              "    </tr>\n",
              "    <tr>\n",
              "      <th>766</th>\n",
              "      <td>1</td>\n",
              "      <td>126.0</td>\n",
              "      <td>60.0</td>\n",
              "      <td>29.0</td>\n",
              "      <td>169.5</td>\n",
              "      <td>30.1</td>\n",
              "      <td>0.349</td>\n",
              "      <td>47</td>\n",
              "      <td>1</td>\n",
              "    </tr>\n",
              "    <tr>\n",
              "      <th>767</th>\n",
              "      <td>1</td>\n",
              "      <td>93.0</td>\n",
              "      <td>70.0</td>\n",
              "      <td>31.0</td>\n",
              "      <td>102.5</td>\n",
              "      <td>30.4</td>\n",
              "      <td>0.315</td>\n",
              "      <td>23</td>\n",
              "      <td>0</td>\n",
              "    </tr>\n",
              "  </tbody>\n",
              "</table>\n",
              "<p>717 rows × 9 columns</p>\n",
              "</div>\n",
              "      <button class=\"colab-df-convert\" onclick=\"convertToInteractive('df-2b004fd6-dc89-4ac5-88ae-1e49f88e8c1e')\"\n",
              "              title=\"Convert this dataframe to an interactive table.\"\n",
              "              style=\"display:none;\">\n",
              "        \n",
              "  <svg xmlns=\"http://www.w3.org/2000/svg\" height=\"24px\"viewBox=\"0 0 24 24\"\n",
              "       width=\"24px\">\n",
              "    <path d=\"M0 0h24v24H0V0z\" fill=\"none\"/>\n",
              "    <path d=\"M18.56 5.44l.94 2.06.94-2.06 2.06-.94-2.06-.94-.94-2.06-.94 2.06-2.06.94zm-11 1L8.5 8.5l.94-2.06 2.06-.94-2.06-.94L8.5 2.5l-.94 2.06-2.06.94zm10 10l.94 2.06.94-2.06 2.06-.94-2.06-.94-.94-2.06-.94 2.06-2.06.94z\"/><path d=\"M17.41 7.96l-1.37-1.37c-.4-.4-.92-.59-1.43-.59-.52 0-1.04.2-1.43.59L10.3 9.45l-7.72 7.72c-.78.78-.78 2.05 0 2.83L4 21.41c.39.39.9.59 1.41.59.51 0 1.02-.2 1.41-.59l7.78-7.78 2.81-2.81c.8-.78.8-2.07 0-2.86zM5.41 20L4 18.59l7.72-7.72 1.47 1.35L5.41 20z\"/>\n",
              "  </svg>\n",
              "      </button>\n",
              "      \n",
              "  <style>\n",
              "    .colab-df-container {\n",
              "      display:flex;\n",
              "      flex-wrap:wrap;\n",
              "      gap: 12px;\n",
              "    }\n",
              "\n",
              "    .colab-df-convert {\n",
              "      background-color: #E8F0FE;\n",
              "      border: none;\n",
              "      border-radius: 50%;\n",
              "      cursor: pointer;\n",
              "      display: none;\n",
              "      fill: #1967D2;\n",
              "      height: 32px;\n",
              "      padding: 0 0 0 0;\n",
              "      width: 32px;\n",
              "    }\n",
              "\n",
              "    .colab-df-convert:hover {\n",
              "      background-color: #E2EBFA;\n",
              "      box-shadow: 0px 1px 2px rgba(60, 64, 67, 0.3), 0px 1px 3px 1px rgba(60, 64, 67, 0.15);\n",
              "      fill: #174EA6;\n",
              "    }\n",
              "\n",
              "    [theme=dark] .colab-df-convert {\n",
              "      background-color: #3B4455;\n",
              "      fill: #D2E3FC;\n",
              "    }\n",
              "\n",
              "    [theme=dark] .colab-df-convert:hover {\n",
              "      background-color: #434B5C;\n",
              "      box-shadow: 0px 1px 3px 1px rgba(0, 0, 0, 0.15);\n",
              "      filter: drop-shadow(0px 1px 2px rgba(0, 0, 0, 0.3));\n",
              "      fill: #FFFFFF;\n",
              "    }\n",
              "  </style>\n",
              "\n",
              "      <script>\n",
              "        const buttonEl =\n",
              "          document.querySelector('#df-2b004fd6-dc89-4ac5-88ae-1e49f88e8c1e button.colab-df-convert');\n",
              "        buttonEl.style.display =\n",
              "          google.colab.kernel.accessAllowed ? 'block' : 'none';\n",
              "\n",
              "        async function convertToInteractive(key) {\n",
              "          const element = document.querySelector('#df-2b004fd6-dc89-4ac5-88ae-1e49f88e8c1e');\n",
              "          const dataTable =\n",
              "            await google.colab.kernel.invokeFunction('convertToInteractive',\n",
              "                                                     [key], {});\n",
              "          if (!dataTable) return;\n",
              "\n",
              "          const docLinkHtml = 'Like what you see? Visit the ' +\n",
              "            '<a target=\"_blank\" href=https://colab.research.google.com/notebooks/data_table.ipynb>data table notebook</a>'\n",
              "            + ' to learn more about interactive tables.';\n",
              "          element.innerHTML = '';\n",
              "          dataTable['output_type'] = 'display_data';\n",
              "          await google.colab.output.renderOutput(dataTable, element);\n",
              "          const docLink = document.createElement('div');\n",
              "          docLink.innerHTML = docLinkHtml;\n",
              "          element.appendChild(docLink);\n",
              "        }\n",
              "      </script>\n",
              "    </div>\n",
              "  </div>\n",
              "  "
            ]
          },
          "metadata": {},
          "execution_count": 1722
        }
      ],
      "source": [
        "# Filtro de dados acima do limite inferior e abaixo do limite superior de insulina:\n",
        "\n",
        "df[(df['insulin'] >= 2) & (df['insulin'] <= 270)]"
      ]
    },
    {
      "cell_type": "code",
      "execution_count": 1723,
      "metadata": {
        "colab": {
          "base_uri": "https://localhost:8080/",
          "height": 336
        },
        "id": "XM8tbGnAvAri",
        "outputId": "d507d8c4-7f0f-4052-e76b-760f338737af"
      },
      "outputs": [
        {
          "output_type": "display_data",
          "data": {
            "text/plain": [
              "<Figure size 864x360 with 1 Axes>"
            ],
            "image/png": "[encoded data removed]"
          },
          "metadata": {}
        }
      ],
      "source": [
        "# Distribuição de insulina das pacientes sem diabetes em comparação às pacientes com diabetes\n",
        "#, após filtrar os outliers de tal coluna:\n",
        "\n",
        "plt.figure(figsize = (12, 5))\n",
        "sns.boxplot(data = df[(df['insulin'] > 2) & (df['insulin'] < 270)],\n",
        "            x = 'outcome',\n",
        "            y = 'insulin', width = 0.5, palette = 'Spectral_r')\n",
        "plt.xlabel('')\n",
        "plt.ylabel('Insulina',\n",
        "           fontsize = 11, color = 'k')\n",
        "plt.xticks([0, 1], labels = ['Sem Diabetes', 'Com Diabetes'], fontsize = 10, color = 'k')\n",
        "plt.yticks(np.arange(0, 251, 50), fontsize = 10, color = 'k')\n",
        "plt.title('Insulina X Diagnóstico de Diabetes', fontsize = 12, color = 'k');"
      ]
    },
    {
      "cell_type": "markdown",
      "metadata": {
        "id": "ixnY1zP6yk4e"
      },
      "source": [
        "### (7) O índice de massa corporal das pacientes apresenta alguma relação com o fato destas pacientes terem sido diagnosticadas com diabetes ou não?"
      ]
    },
    {
      "cell_type": "code",
      "execution_count": 1724,
      "metadata": {
        "colab": {
          "base_uri": "https://localhost:8080/"
        },
        "id": "4W3vxjMDvUhs",
        "outputId": "1fc4a204-7648-495f-bc0a-cf704dcdd350"
      },
      "outputs": [
        {
          "output_type": "execute_result",
          "data": {
            "text/plain": [
              "array([33.6, 26.6, 23.3, 28.1, 43.1, 25.6, 31. , 35.3, 30.5,  0. , 37.6,\n",
              "       38. , 27.1, 30.1, 25.8, 30. , 45.8, 29.6, 43.3, 34.6, 39.3, 35.4,\n",
              "       39.8, 29. , 36.6, 31.1, 39.4, 23.2, 22.2, 34.1, 36. , 31.6, 24.8,\n",
              "       19.9, 27.6, 24. , 33.2, 32.9, 38.2, 37.1, 34. , 40.2, 22.7, 45.4,\n",
              "       27.4, 42. , 29.7, 28. , 39.1, 19.4, 24.2, 24.4, 33.7, 34.7, 23. ,\n",
              "       37.7, 46.8, 40.5, 41.5, 25. , 25.4, 32.8, 32.5, 42.7, 19.6, 28.9,\n",
              "       28.6, 43.4, 35.1, 32. , 24.7, 32.6, 43.2, 22.4, 29.3, 24.6, 48.8,\n",
              "       32.4, 38.5, 26.5, 19.1, 46.7, 23.8, 33.9, 20.4, 28.7, 49.7, 39. ,\n",
              "       26.1, 22.5, 39.6, 29.5, 34.3, 37.4, 33.3, 31.2, 28.2, 53.2, 34.2,\n",
              "       26.8, 55. , 42.9, 34.5, 27.9, 38.3, 21.1, 33.8, 30.8, 36.9, 39.5,\n",
              "       27.3, 21.9, 40.6, 47.9, 50. , 25.2, 40.9, 37.2, 44.2, 29.9, 31.9,\n",
              "       28.4, 43.5, 32.7, 67.1, 45. , 34.9, 27.7, 35.9, 22.6, 33.1, 30.4,\n",
              "       52.3, 24.3, 22.9, 34.8, 30.9, 40.1, 23.9, 37.5, 35.5, 42.8, 42.6,\n",
              "       41.8, 35.8, 37.8, 28.8, 23.6, 35.7, 36.7, 45.2, 44. , 46.2, 35. ,\n",
              "       43.6, 44.1, 18.4, 29.2, 25.9, 32.1, 36.3, 40. , 25.1, 27.5, 45.6,\n",
              "       27.8, 24.9, 25.3, 37.9, 27. , 26. , 38.7, 20.8, 36.1, 30.7, 32.3,\n",
              "       52.9, 21. , 39.7, 25.5, 26.2, 19.3, 38.1, 23.5, 45.5, 23.1, 39.9,\n",
              "       36.8, 21.8, 41. , 42.2, 34.4, 27.2, 36.5, 29.8, 39.2, 38.4, 36.2,\n",
              "       48.3, 20. , 22.3, 45.7, 23.7, 22.1, 42.1, 42.4, 18.2, 26.4, 45.3,\n",
              "       37. , 24.5, 32.2, 59.4, 21.2, 26.7, 30.2, 46.1, 41.3, 38.8, 35.2,\n",
              "       42.3, 40.7, 46.5, 33.5, 37.3, 30.3, 26.3, 21.7, 36.4, 28.5, 26.9,\n",
              "       38.6, 31.3, 19.5, 20.1, 40.8, 23.4, 28.3, 38.9, 57.3, 35.6, 49.6,\n",
              "       44.6, 24.1, 44.5, 41.2, 49.3, 46.3])"
            ]
          },
          "metadata": {},
          "execution_count": 1724
        }
      ],
      "source": [
        "# Valores únicos de índice de massa corporal:\n",
        "\n",
        "df.bmi.unique()"
      ]
    },
    {
      "cell_type": "code",
      "execution_count": 1725,
      "metadata": {
        "colab": {
          "base_uri": "https://localhost:8080/"
        },
        "id": "U8WVcAqnwbsQ",
        "outputId": "46d9b0e4-55a0-4206-9ad4-b40cfb04b0fd"
      },
      "outputs": [
        {
          "output_type": "execute_result",
          "data": {
            "text/plain": [
              "248"
            ]
          },
          "metadata": {},
          "execution_count": 1725
        }
      ],
      "source": [
        "# Quantidade de valores únicos:\n",
        "\n",
        "df.bmi.nunique()"
      ]
    },
    {
      "cell_type": "code",
      "execution_count": 1726,
      "metadata": {
        "colab": {
          "base_uri": "https://localhost:8080/",
          "height": 394
        },
        "id": "KinEIMjKfNl5",
        "outputId": "5a2c84f0-c406-422f-a13b-ed836c9bc047"
      },
      "outputs": [
        {
          "output_type": "execute_result",
          "data": {
            "text/plain": [
              "     pregnancies  glucose  bloodpressure  skinthickness  insulin  bmi  \\\n",
              "9              8    125.0           96.0           29.0    169.5  0.0   \n",
              "49             7    105.0           72.0           29.0    102.5  0.0   \n",
              "60             2     84.0           72.0           29.0    102.5  0.0   \n",
              "81             2     74.0           72.0           29.0    102.5  0.0   \n",
              "145            0    102.0           75.0           23.0    102.5  0.0   \n",
              "371            0    118.0           64.0           23.0     89.0  0.0   \n",
              "426            0     94.0           72.0           29.0    102.5  0.0   \n",
              "494            3     80.0           72.0           29.0    102.5  0.0   \n",
              "522            6    114.0           72.0           29.0    102.5  0.0   \n",
              "684            5    136.0           82.0           29.0    102.5  0.0   \n",
              "706           10    115.0           72.0           29.0    169.5  0.0   \n",
              "\n",
              "     diabetespedigreefunction  age  outcome  \n",
              "9                       0.232   54        1  \n",
              "49                      0.305   24        0  \n",
              "60                      0.304   21        0  \n",
              "81                      0.102   22        0  \n",
              "145                     0.572   21        0  \n",
              "371                     1.731   21        0  \n",
              "426                     0.256   25        0  \n",
              "494                     0.174   22        0  \n",
              "522                     0.189   26        0  \n",
              "684                     0.640   69        0  \n",
              "706                     0.261   30        1  "
            ],
            "text/html": [
              "\n",
              "  <div id=\"df-78c75ee7-dab0-4147-95ad-58901ffbfefe\">\n",
              "    <div class=\"colab-df-container\">\n",
              "      <div>\n",
              "<style scoped>\n",
              "    .dataframe tbody tr th:only-of-type {\n",
              "        vertical-align: middle;\n",
              "    }\n",
              "\n",
              "    .dataframe tbody tr th {\n",
              "        vertical-align: top;\n",
              "    }\n",
              "\n",
              "    .dataframe thead th {\n",
              "        text-align: right;\n",
              "    }\n",
              "</style>\n",
              "<table border=\"1\" class=\"dataframe\">\n",
              "  <thead>\n",
              "    <tr style=\"text-align: right;\">\n",
              "      <th></th>\n",
              "      <th>pregnancies</th>\n",
              "      <th>glucose</th>\n",
              "      <th>bloodpressure</th>\n",
              "      <th>skinthickness</th>\n",
              "      <th>insulin</th>\n",
              "      <th>bmi</th>\n",
              "      <th>diabetespedigreefunction</th>\n",
              "      <th>age</th>\n",
              "      <th>outcome</th>\n",
              "    </tr>\n",
              "  </thead>\n",
              "  <tbody>\n",
              "    <tr>\n",
              "      <th>9</th>\n",
              "      <td>8</td>\n",
              "      <td>125.0</td>\n",
              "      <td>96.0</td>\n",
              "      <td>29.0</td>\n",
              "      <td>169.5</td>\n",
              "      <td>0.0</td>\n",
              "      <td>0.232</td>\n",
              "      <td>54</td>\n",
              "      <td>1</td>\n",
              "    </tr>\n",
              "    <tr>\n",
              "      <th>49</th>\n",
              "      <td>7</td>\n",
              "      <td>105.0</td>\n",
              "      <td>72.0</td>\n",
              "      <td>29.0</td>\n",
              "      <td>102.5</td>\n",
              "      <td>0.0</td>\n",
              "      <td>0.305</td>\n",
              "      <td>24</td>\n",
              "      <td>0</td>\n",
              "    </tr>\n",
              "    <tr>\n",
              "      <th>60</th>\n",
              "      <td>2</td>\n",
              "      <td>84.0</td>\n",
              "      <td>72.0</td>\n",
              "      <td>29.0</td>\n",
              "      <td>102.5</td>\n",
              "      <td>0.0</td>\n",
              "      <td>0.304</td>\n",
              "      <td>21</td>\n",
              "      <td>0</td>\n",
              "    </tr>\n",
              "    <tr>\n",
              "      <th>81</th>\n",
              "      <td>2</td>\n",
              "      <td>74.0</td>\n",
              "      <td>72.0</td>\n",
              "      <td>29.0</td>\n",
              "      <td>102.5</td>\n",
              "      <td>0.0</td>\n",
              "      <td>0.102</td>\n",
              "      <td>22</td>\n",
              "      <td>0</td>\n",
              "    </tr>\n",
              "    <tr>\n",
              "      <th>145</th>\n",
              "      <td>0</td>\n",
              "      <td>102.0</td>\n",
              "      <td>75.0</td>\n",
              "      <td>23.0</td>\n",
              "      <td>102.5</td>\n",
              "      <td>0.0</td>\n",
              "      <td>0.572</td>\n",
              "      <td>21</td>\n",
              "      <td>0</td>\n",
              "    </tr>\n",
              "    <tr>\n",
              "      <th>371</th>\n",
              "      <td>0</td>\n",
              "      <td>118.0</td>\n",
              "      <td>64.0</td>\n",
              "      <td>23.0</td>\n",
              "      <td>89.0</td>\n",
              "      <td>0.0</td>\n",
              "      <td>1.731</td>\n",
              "      <td>21</td>\n",
              "      <td>0</td>\n",
              "    </tr>\n",
              "    <tr>\n",
              "      <th>426</th>\n",
              "      <td>0</td>\n",
              "      <td>94.0</td>\n",
              "      <td>72.0</td>\n",
              "      <td>29.0</td>\n",
              "      <td>102.5</td>\n",
              "      <td>0.0</td>\n",
              "      <td>0.256</td>\n",
              "      <td>25</td>\n",
              "      <td>0</td>\n",
              "    </tr>\n",
              "    <tr>\n",
              "      <th>494</th>\n",
              "      <td>3</td>\n",
              "      <td>80.0</td>\n",
              "      <td>72.0</td>\n",
              "      <td>29.0</td>\n",
              "      <td>102.5</td>\n",
              "      <td>0.0</td>\n",
              "      <td>0.174</td>\n",
              "      <td>22</td>\n",
              "      <td>0</td>\n",
              "    </tr>\n",
              "    <tr>\n",
              "      <th>522</th>\n",
              "      <td>6</td>\n",
              "      <td>114.0</td>\n",
              "      <td>72.0</td>\n",
              "      <td>29.0</td>\n",
              "      <td>102.5</td>\n",
              "      <td>0.0</td>\n",
              "      <td>0.189</td>\n",
              "      <td>26</td>\n",
              "      <td>0</td>\n",
              "    </tr>\n",
              "    <tr>\n",
              "      <th>684</th>\n",
              "      <td>5</td>\n",
              "      <td>136.0</td>\n",
              "      <td>82.0</td>\n",
              "      <td>29.0</td>\n",
              "      <td>102.5</td>\n",
              "      <td>0.0</td>\n",
              "      <td>0.640</td>\n",
              "      <td>69</td>\n",
              "      <td>0</td>\n",
              "    </tr>\n",
              "    <tr>\n",
              "      <th>706</th>\n",
              "      <td>10</td>\n",
              "      <td>115.0</td>\n",
              "      <td>72.0</td>\n",
              "      <td>29.0</td>\n",
              "      <td>169.5</td>\n",
              "      <td>0.0</td>\n",
              "      <td>0.261</td>\n",
              "      <td>30</td>\n",
              "      <td>1</td>\n",
              "    </tr>\n",
              "  </tbody>\n",
              "</table>\n",
              "</div>\n",
              "      <button class=\"colab-df-convert\" onclick=\"convertToInteractive('df-78c75ee7-dab0-4147-95ad-58901ffbfefe')\"\n",
              "              title=\"Convert this dataframe to an interactive table.\"\n",
              "              style=\"display:none;\">\n",
              "        \n",
              "  <svg xmlns=\"http://www.w3.org/2000/svg\" height=\"24px\"viewBox=\"0 0 24 24\"\n",
              "       width=\"24px\">\n",
              "    <path d=\"M0 0h24v24H0V0z\" fill=\"none\"/>\n",
              "    <path d=\"M18.56 5.44l.94 2.06.94-2.06 2.06-.94-2.06-.94-.94-2.06-.94 2.06-2.06.94zm-11 1L8.5 8.5l.94-2.06 2.06-.94-2.06-.94L8.5 2.5l-.94 2.06-2.06.94zm10 10l.94 2.06.94-2.06 2.06-.94-2.06-.94-.94-2.06-.94 2.06-2.06.94z\"/><path d=\"M17.41 7.96l-1.37-1.37c-.4-.4-.92-.59-1.43-.59-.52 0-1.04.2-1.43.59L10.3 9.45l-7.72 7.72c-.78.78-.78 2.05 0 2.83L4 21.41c.39.39.9.59 1.41.59.51 0 1.02-.2 1.41-.59l7.78-7.78 2.81-2.81c.8-.78.8-2.07 0-2.86zM5.41 20L4 18.59l7.72-7.72 1.47 1.35L5.41 20z\"/>\n",
              "  </svg>\n",
              "      </button>\n",
              "      \n",
              "  <style>\n",
              "    .colab-df-container {\n",
              "      display:flex;\n",
              "      flex-wrap:wrap;\n",
              "      gap: 12px;\n",
              "    }\n",
              "\n",
              "    .colab-df-convert {\n",
              "      background-color: #E8F0FE;\n",
              "      border: none;\n",
              "      border-radius: 50%;\n",
              "      cursor: pointer;\n",
              "      display: none;\n",
              "      fill: #1967D2;\n",
              "      height: 32px;\n",
              "      padding: 0 0 0 0;\n",
              "      width: 32px;\n",
              "    }\n",
              "\n",
              "    .colab-df-convert:hover {\n",
              "      background-color: #E2EBFA;\n",
              "      box-shadow: 0px 1px 2px rgba(60, 64, 67, 0.3), 0px 1px 3px 1px rgba(60, 64, 67, 0.15);\n",
              "      fill: #174EA6;\n",
              "    }\n",
              "\n",
              "    [theme=dark] .colab-df-convert {\n",
              "      background-color: #3B4455;\n",
              "      fill: #D2E3FC;\n",
              "    }\n",
              "\n",
              "    [theme=dark] .colab-df-convert:hover {\n",
              "      background-color: #434B5C;\n",
              "      box-shadow: 0px 1px 3px 1px rgba(0, 0, 0, 0.15);\n",
              "      filter: drop-shadow(0px 1px 2px rgba(0, 0, 0, 0.3));\n",
              "      fill: #FFFFFF;\n",
              "    }\n",
              "  </style>\n",
              "\n",
              "      <script>\n",
              "        const buttonEl =\n",
              "          document.querySelector('#df-78c75ee7-dab0-4147-95ad-58901ffbfefe button.colab-df-convert');\n",
              "        buttonEl.style.display =\n",
              "          google.colab.kernel.accessAllowed ? 'block' : 'none';\n",
              "\n",
              "        async function convertToInteractive(key) {\n",
              "          const element = document.querySelector('#df-78c75ee7-dab0-4147-95ad-58901ffbfefe');\n",
              "          const dataTable =\n",
              "            await google.colab.kernel.invokeFunction('convertToInteractive',\n",
              "                                                     [key], {});\n",
              "          if (!dataTable) return;\n",
              "\n",
              "          const docLinkHtml = 'Like what you see? Visit the ' +\n",
              "            '<a target=\"_blank\" href=https://colab.research.google.com/notebooks/data_table.ipynb>data table notebook</a>'\n",
              "            + ' to learn more about interactive tables.';\n",
              "          element.innerHTML = '';\n",
              "          dataTable['output_type'] = 'display_data';\n",
              "          await google.colab.output.renderOutput(dataTable, element);\n",
              "          const docLink = document.createElement('div');\n",
              "          docLink.innerHTML = docLinkHtml;\n",
              "          element.appendChild(docLink);\n",
              "        }\n",
              "      </script>\n",
              "    </div>\n",
              "  </div>\n",
              "  "
            ]
          },
          "metadata": {},
          "execution_count": 1726
        }
      ],
      "source": [
        "# Filtragem de pacientes com índice de massa corporal igual à 0:\n",
        "\n",
        "df.query('bmi == 0')"
      ]
    },
    {
      "cell_type": "code",
      "execution_count": 1727,
      "metadata": {
        "colab": {
          "base_uri": "https://localhost:8080/"
        },
        "id": "rjJIhtdgy2ew",
        "outputId": "d19b06d2-219c-4676-b4a2-91fc67f775e9"
      },
      "outputs": [
        {
          "output_type": "execute_result",
          "data": {
            "text/plain": [
              "count    768.00\n",
              "mean      31.99\n",
              "std        7.88\n",
              "min        0.00\n",
              "25%       27.30\n",
              "50%       32.00\n",
              "75%       36.60\n",
              "max       67.10\n",
              "Name: bmi, dtype: float64"
            ]
          },
          "metadata": {},
          "execution_count": 1727
        }
      ],
      "source": [
        "# Informações estatísticas sobre o índice de massa corporal das pacientes:\n",
        "\n",
        "df.bmi.describe().round(2)"
      ]
    },
    {
      "cell_type": "code",
      "execution_count": 1728,
      "metadata": {
        "colab": {
          "base_uri": "https://localhost:8080/"
        },
        "id": "RbmfAlnSF44Q",
        "outputId": "2e15b4af-d8e8-493d-b726-44146cf87353"
      },
      "outputs": [
        {
          "output_type": "execute_result",
          "data": {
            "text/plain": [
              "32.0"
            ]
          },
          "metadata": {},
          "execution_count": 1728
        }
      ],
      "source": [
        "# Mediana do índice de massa corporal das pacientes:\n",
        "\n",
        "df.bmi.median()"
      ]
    },
    {
      "cell_type": "code",
      "execution_count": 1729,
      "metadata": {
        "colab": {
          "base_uri": "https://localhost:8080/"
        },
        "id": "MxyVVhzpF7y_",
        "outputId": "44b98ef1-d5a3-4a45-c06d-6d8492fa6718"
      },
      "outputs": [
        {
          "output_type": "execute_result",
          "data": {
            "text/plain": [
              "count    491.00\n",
              "mean      30.86\n",
              "std        6.56\n",
              "min       18.20\n",
              "25%       25.60\n",
              "50%       30.10\n",
              "75%       35.30\n",
              "max       57.30\n",
              "Name: bmi, dtype: float64"
            ]
          },
          "metadata": {},
          "execution_count": 1729
        }
      ],
      "source": [
        "# Informações estatísticas sobre o índice de massa corporal diferente de 0 das pacientes sem diabetes:\n",
        "\n",
        "df[(df['outcome'] == 0) & (df['bmi'] != 0)].bmi.describe().round(2)"
      ]
    },
    {
      "cell_type": "code",
      "execution_count": 1730,
      "metadata": {
        "colab": {
          "base_uri": "https://localhost:8080/"
        },
        "id": "GPOwrRdlHOXF",
        "outputId": "4b7ef051-7e8f-4a12-c7bc-fca0eac9538d"
      },
      "outputs": [
        {
          "output_type": "execute_result",
          "data": {
            "text/plain": [
              "30.1"
            ]
          },
          "metadata": {},
          "execution_count": 1730
        }
      ],
      "source": [
        "# Mediana do índice de massa corporal diferente de 0 das pacientes com diabetes:\n",
        "\n",
        "df[(df['outcome'] == 0) & (df['bmi'] != 0)].bmi.median()"
      ]
    },
    {
      "cell_type": "code",
      "execution_count": 1731,
      "metadata": {
        "colab": {
          "base_uri": "https://localhost:8080/"
        },
        "id": "f14EeW1AHEPk",
        "outputId": "c4718c6a-80a6-407d-df34-e29be14834fe"
      },
      "outputs": [
        {
          "output_type": "execute_result",
          "data": {
            "text/plain": [
              "count    266.00\n",
              "mean      35.41\n",
              "std        6.61\n",
              "min       22.90\n",
              "25%       30.90\n",
              "50%       34.30\n",
              "75%       38.92\n",
              "max       67.10\n",
              "Name: bmi, dtype: float64"
            ]
          },
          "metadata": {},
          "execution_count": 1731
        }
      ],
      "source": [
        "# Informações estatísticas sobre o índice de massa corporal diferente de 0 das pacientes com diabetes:\n",
        "\n",
        "df[(df['outcome'] == 1) & (df['bmi'] != 0)].bmi.describe().round(2)"
      ]
    },
    {
      "cell_type": "code",
      "execution_count": 1732,
      "metadata": {
        "colab": {
          "base_uri": "https://localhost:8080/"
        },
        "id": "53Kvkqc8HNfL",
        "outputId": "62e49499-3ddd-4f3a-a026-b970a2867a0e"
      },
      "outputs": [
        {
          "output_type": "execute_result",
          "data": {
            "text/plain": [
              "34.3"
            ]
          },
          "metadata": {},
          "execution_count": 1732
        }
      ],
      "source": [
        "# Mediana do índice de massa corporal diferente de 0 das pacientes com diabetes:\n",
        "\n",
        "df[(df['outcome'] == 1) & (df['bmi'] != 0)].bmi.median()"
      ]
    },
    {
      "cell_type": "code",
      "execution_count": 1733,
      "metadata": {
        "id": "8AKu0DMEfvdJ"
      },
      "outputs": [],
      "source": [
        "# Lista para obter os índices das pacientes sem diabetes registradas com índice de massa corporal igual à 0:\n",
        "\n",
        "l3 = list((df[(df.bmi == 0) & (df.outcome == 0)].bmi.index))"
      ]
    },
    {
      "cell_type": "code",
      "execution_count": 1734,
      "metadata": {
        "id": "OL3r2mmFf8Pv"
      },
      "outputs": [],
      "source": [
        "# Lista para obter os índices das pacientes com diabetes registradas com índice de massa corporal igual à 0:\n",
        "\n",
        "l4 = list((df[(df.bmi == 0) & (df.outcome == 1)].bmi.index))"
      ]
    },
    {
      "cell_type": "code",
      "execution_count": 1735,
      "metadata": {
        "id": "OBTbK3LXfomS"
      },
      "outputs": [],
      "source": [
        "# List-compreehension para substituir o valor de índice de massa corporal igual à zero das pacientes sem diabetes\n",
        "# pela mediana de índice de massa corporal entre todas às pacientes sem diabetes:\n",
        "\n",
        "df.loc[l3, 'bmi'] = [df[(df.bmi != 0) & (df.outcome == 0)].bmi.median() for i in df.loc[l3, 'bmi']]"
      ]
    },
    {
      "cell_type": "code",
      "execution_count": 1736,
      "metadata": {
        "id": "OEqwk8aof7Yl"
      },
      "outputs": [],
      "source": [
        "# List-compreehension para substituir o valor de índice de massa corporal igual à zero das pacientes sem diabetes\n",
        "# pela mediana de índice de massa corporal entre todas às pacientes com diabetes:\n",
        "\n",
        "df.loc[l4, 'bmi'] = [df[(df.bmi != 0) & (df.outcome == 1)].bmi.median() for i in df.loc[l4, 'bmi']]"
      ]
    },
    {
      "cell_type": "code",
      "execution_count": 1737,
      "metadata": {
        "colab": {
          "base_uri": "https://localhost:8080/",
          "height": 373
        },
        "id": "88S30DLwHV34",
        "outputId": "fd4de490-1e6b-4149-cb81-2746f50d0836"
      },
      "outputs": [
        {
          "output_type": "display_data",
          "data": {
            "text/plain": [
              "<Figure size 360x360 with 1 Axes>"
            ],
            "image/png": "[encoded data removed]"
          },
          "metadata": {}
        }
      ],
      "source": [
        "# Gráfico catplot para vermos a distribuição do índice de massa corporal das pacientes sem diabetes\n",
        "# em comparação com às pacientes com diabetes:\n",
        "\n",
        "sns.catplot(data = df,\n",
        "            x = 'outcome',\n",
        "            y = 'bmi',\n",
        "            palette = 'Purples')\n",
        "plt.xlabel('')\n",
        "plt.ylabel('Índice de Massa Corporal',\n",
        "           fontsize = 11, color = 'k')\n",
        "plt.yticks(ticks = np.arange(0, 61, 10), fontsize = 10, color = 'k')\n",
        "plt.xticks(ticks = [0, 1],\n",
        "           labels = ['Sem Diabetes', 'Com Diabetes'],\n",
        "           fontsize = 10, color = 'k')\n",
        "plt.title('Índice de Massa Corporal X Diagnóstico de Diabetes',\n",
        "          fontsize = 12, color = 'k')\n",
        "plt.show()"
      ]
    },
    {
      "cell_type": "code",
      "execution_count": 1738,
      "metadata": {
        "colab": {
          "base_uri": "https://localhost:8080/",
          "height": 112
        },
        "id": "SHorrGrzHjVZ",
        "outputId": "ca86e1fd-d921-4fd8-ff9b-3a5e9c035a40"
      },
      "outputs": [
        {
          "output_type": "execute_result",
          "data": {
            "text/plain": [
              "          mean       median        std      \n",
              "outcome      0     1      0     1    0     1\n",
              "bmi      30.85  35.4   30.1  34.3  6.5  6.59"
            ],
            "text/html": [
              "\n",
              "  <div id=\"df-00973ac2-9aa3-4079-96ce-0728f8b024e2\">\n",
              "    <div class=\"colab-df-container\">\n",
              "      <div>\n",
              "<style scoped>\n",
              "    .dataframe tbody tr th:only-of-type {\n",
              "        vertical-align: middle;\n",
              "    }\n",
              "\n",
              "    .dataframe tbody tr th {\n",
              "        vertical-align: top;\n",
              "    }\n",
              "\n",
              "    .dataframe thead tr th {\n",
              "        text-align: left;\n",
              "    }\n",
              "</style>\n",
              "<table border=\"1\" class=\"dataframe\">\n",
              "  <thead>\n",
              "    <tr>\n",
              "      <th></th>\n",
              "      <th colspan=\"2\" halign=\"left\">mean</th>\n",
              "      <th colspan=\"2\" halign=\"left\">median</th>\n",
              "      <th colspan=\"2\" halign=\"left\">std</th>\n",
              "    </tr>\n",
              "    <tr>\n",
              "      <th>outcome</th>\n",
              "      <th>0</th>\n",
              "      <th>1</th>\n",
              "      <th>0</th>\n",
              "      <th>1</th>\n",
              "      <th>0</th>\n",
              "      <th>1</th>\n",
              "    </tr>\n",
              "  </thead>\n",
              "  <tbody>\n",
              "    <tr>\n",
              "      <th>bmi</th>\n",
              "      <td>30.85</td>\n",
              "      <td>35.4</td>\n",
              "      <td>30.1</td>\n",
              "      <td>34.3</td>\n",
              "      <td>6.5</td>\n",
              "      <td>6.59</td>\n",
              "    </tr>\n",
              "  </tbody>\n",
              "</table>\n",
              "</div>\n",
              "      <button class=\"colab-df-convert\" onclick=\"convertToInteractive('df-00973ac2-9aa3-4079-96ce-0728f8b024e2')\"\n",
              "              title=\"Convert this dataframe to an interactive table.\"\n",
              "              style=\"display:none;\">\n",
              "        \n",
              "  <svg xmlns=\"http://www.w3.org/2000/svg\" height=\"24px\"viewBox=\"0 0 24 24\"\n",
              "       width=\"24px\">\n",
              "    <path d=\"M0 0h24v24H0V0z\" fill=\"none\"/>\n",
              "    <path d=\"M18.56 5.44l.94 2.06.94-2.06 2.06-.94-2.06-.94-.94-2.06-.94 2.06-2.06.94zm-11 1L8.5 8.5l.94-2.06 2.06-.94-2.06-.94L8.5 2.5l-.94 2.06-2.06.94zm10 10l.94 2.06.94-2.06 2.06-.94-2.06-.94-.94-2.06-.94 2.06-2.06.94z\"/><path d=\"M17.41 7.96l-1.37-1.37c-.4-.4-.92-.59-1.43-.59-.52 0-1.04.2-1.43.59L10.3 9.45l-7.72 7.72c-.78.78-.78 2.05 0 2.83L4 21.41c.39.39.9.59 1.41.59.51 0 1.02-.2 1.41-.59l7.78-7.78 2.81-2.81c.8-.78.8-2.07 0-2.86zM5.41 20L4 18.59l7.72-7.72 1.47 1.35L5.41 20z\"/>\n",
              "  </svg>\n",
              "      </button>\n",
              "      \n",
              "  <style>\n",
              "    .colab-df-container {\n",
              "      display:flex;\n",
              "      flex-wrap:wrap;\n",
              "      gap: 12px;\n",
              "    }\n",
              "\n",
              "    .colab-df-convert {\n",
              "      background-color: #E8F0FE;\n",
              "      border: none;\n",
              "      border-radius: 50%;\n",
              "      cursor: pointer;\n",
              "      display: none;\n",
              "      fill: #1967D2;\n",
              "      height: 32px;\n",
              "      padding: 0 0 0 0;\n",
              "      width: 32px;\n",
              "    }\n",
              "\n",
              "    .colab-df-convert:hover {\n",
              "      background-color: #E2EBFA;\n",
              "      box-shadow: 0px 1px 2px rgba(60, 64, 67, 0.3), 0px 1px 3px 1px rgba(60, 64, 67, 0.15);\n",
              "      fill: #174EA6;\n",
              "    }\n",
              "\n",
              "    [theme=dark] .colab-df-convert {\n",
              "      background-color: #3B4455;\n",
              "      fill: #D2E3FC;\n",
              "    }\n",
              "\n",
              "    [theme=dark] .colab-df-convert:hover {\n",
              "      background-color: #434B5C;\n",
              "      box-shadow: 0px 1px 3px 1px rgba(0, 0, 0, 0.15);\n",
              "      filter: drop-shadow(0px 1px 2px rgba(0, 0, 0, 0.3));\n",
              "      fill: #FFFFFF;\n",
              "    }\n",
              "  </style>\n",
              "\n",
              "      <script>\n",
              "        const buttonEl =\n",
              "          document.querySelector('#df-00973ac2-9aa3-4079-96ce-0728f8b024e2 button.colab-df-convert');\n",
              "        buttonEl.style.display =\n",
              "          google.colab.kernel.accessAllowed ? 'block' : 'none';\n",
              "\n",
              "        async function convertToInteractive(key) {\n",
              "          const element = document.querySelector('#df-00973ac2-9aa3-4079-96ce-0728f8b024e2');\n",
              "          const dataTable =\n",
              "            await google.colab.kernel.invokeFunction('convertToInteractive',\n",
              "                                                     [key], {});\n",
              "          if (!dataTable) return;\n",
              "\n",
              "          const docLinkHtml = 'Like what you see? Visit the ' +\n",
              "            '<a target=\"_blank\" href=https://colab.research.google.com/notebooks/data_table.ipynb>data table notebook</a>'\n",
              "            + ' to learn more about interactive tables.';\n",
              "          element.innerHTML = '';\n",
              "          dataTable['output_type'] = 'display_data';\n",
              "          await google.colab.output.renderOutput(dataTable, element);\n",
              "          const docLink = document.createElement('div');\n",
              "          docLink.innerHTML = docLinkHtml;\n",
              "          element.appendChild(docLink);\n",
              "        }\n",
              "      </script>\n",
              "    </div>\n",
              "  </div>\n",
              "  "
            ]
          },
          "metadata": {},
          "execution_count": 1738
        }
      ],
      "source": [
        "# Tabela com a média, mediana e desvio-padrão do índice de massa corporal das pacientes sem diabetes\n",
        "# em comparação com às pacientes com diabetes:\n",
        "\n",
        "pd.pivot_table(data = df, aggfunc = ['mean', 'median', 'std'],\n",
        "               columns = 'outcome',\n",
        "               values = 'bmi').round(2)"
      ]
    },
    {
      "cell_type": "markdown",
      "metadata": {
        "id": "Zp5EjJzrg4Fr"
      },
      "source": [
        "### (8) A porcentagem de diabetes é drasticamente maior nas pacientes com diabetes em comparação às pacientes sem diabetes?"
      ]
    },
    {
      "cell_type": "code",
      "execution_count": 1739,
      "metadata": {
        "colab": {
          "base_uri": "https://localhost:8080/"
        },
        "id": "IsvfFXWFhDLB",
        "outputId": "3f7511ad-f5fe-4c6b-d1cf-821412b6ad82"
      },
      "outputs": [
        {
          "output_type": "execute_result",
          "data": {
            "text/plain": [
              "array([0.627, 0.351, 0.672, 0.167, 2.288, 0.201, 0.248, 0.134, 0.158,\n",
              "       0.232, 0.191, 0.537, 1.441, 0.398, 0.587, 0.484, 0.551, 0.254,\n",
              "       0.183, 0.529, 0.704, 0.388, 0.451, 0.263, 0.205, 0.257, 0.487,\n",
              "       0.245, 0.337, 0.546, 0.851, 0.267, 0.188, 0.512, 0.966, 0.42 ,\n",
              "       0.665, 0.503, 1.39 , 0.271, 0.696, 0.235, 0.721, 0.294, 1.893,\n",
              "       0.564, 0.586, 0.344, 0.305, 0.491, 0.526, 0.342, 0.467, 0.718,\n",
              "       0.962, 1.781, 0.173, 0.304, 0.27 , 0.699, 0.258, 0.203, 0.855,\n",
              "       0.845, 0.334, 0.189, 0.867, 0.411, 0.583, 0.231, 0.396, 0.14 ,\n",
              "       0.391, 0.37 , 0.307, 0.102, 0.767, 0.237, 0.227, 0.698, 0.178,\n",
              "       0.324, 0.153, 0.165, 0.443, 0.261, 0.277, 0.761, 0.255, 0.13 ,\n",
              "       0.323, 0.356, 0.325, 1.222, 0.179, 0.262, 0.283, 0.93 , 0.801,\n",
              "       0.207, 0.287, 0.336, 0.247, 0.199, 0.543, 0.192, 0.588, 0.539,\n",
              "       0.22 , 0.654, 0.223, 0.759, 0.26 , 0.404, 0.186, 0.278, 0.496,\n",
              "       0.452, 0.403, 0.741, 0.361, 1.114, 0.457, 0.647, 0.088, 0.597,\n",
              "       0.532, 0.703, 0.159, 0.268, 0.286, 0.318, 0.272, 0.572, 0.096,\n",
              "       1.4  , 0.218, 0.085, 0.399, 0.432, 1.189, 0.687, 0.137, 0.637,\n",
              "       0.833, 0.229, 0.817, 0.204, 0.368, 0.743, 0.722, 0.256, 0.709,\n",
              "       0.471, 0.495, 0.18 , 0.542, 0.773, 0.678, 0.719, 0.382, 0.319,\n",
              "       0.19 , 0.956, 0.084, 0.725, 0.299, 0.244, 0.745, 0.615, 1.321,\n",
              "       0.64 , 0.142, 0.374, 0.383, 0.578, 0.136, 0.395, 0.187, 0.905,\n",
              "       0.15 , 0.874, 0.236, 0.787, 0.407, 0.605, 0.151, 0.289, 0.355,\n",
              "       0.29 , 0.375, 0.164, 0.431, 0.742, 0.514, 0.464, 1.224, 1.072,\n",
              "       0.805, 0.209, 0.666, 0.101, 0.198, 0.652, 2.329, 0.089, 0.645,\n",
              "       0.238, 0.394, 0.293, 0.479, 0.686, 0.831, 0.582, 0.446, 0.402,\n",
              "       1.318, 0.329, 1.213, 0.427, 0.282, 0.143, 0.38 , 0.284, 0.249,\n",
              "       0.926, 0.557, 0.092, 0.655, 1.353, 0.612, 0.2  , 0.226, 0.997,\n",
              "       0.933, 1.101, 0.078, 0.24 , 1.136, 0.128, 0.422, 0.251, 0.677,\n",
              "       0.296, 0.454, 0.744, 0.881, 0.28 , 0.259, 0.619, 0.808, 0.34 ,\n",
              "       0.434, 0.757, 0.613, 0.692, 0.52 , 0.412, 0.84 , 0.839, 0.156,\n",
              "       0.215, 0.326, 1.391, 0.875, 0.313, 0.433, 0.626, 1.127, 0.315,\n",
              "       0.345, 0.129, 0.527, 0.197, 0.731, 0.148, 0.123, 0.127, 0.122,\n",
              "       1.476, 0.166, 0.932, 0.343, 0.893, 0.331, 0.472, 0.673, 0.389,\n",
              "       0.485, 0.349, 0.279, 0.346, 0.252, 0.243, 0.58 , 0.559, 0.302,\n",
              "       0.569, 0.378, 0.385, 0.499, 0.306, 0.234, 2.137, 1.731, 0.545,\n",
              "       0.225, 0.816, 0.528, 0.509, 1.021, 0.821, 0.947, 1.268, 0.221,\n",
              "       0.66 , 0.239, 0.949, 0.444, 0.463, 0.803, 1.6  , 0.944, 0.196,\n",
              "       0.241, 0.161, 0.135, 0.376, 1.191, 0.702, 0.674, 1.076, 0.534,\n",
              "       1.095, 0.554, 0.624, 0.219, 0.507, 0.561, 0.421, 0.516, 0.264,\n",
              "       0.328, 0.233, 0.108, 1.138, 0.147, 0.727, 0.435, 0.497, 0.23 ,\n",
              "       0.955, 2.42 , 0.658, 0.33 , 0.51 , 0.285, 0.415, 0.381, 0.832,\n",
              "       0.498, 0.212, 0.364, 1.001, 0.46 , 0.733, 0.416, 0.705, 1.022,\n",
              "       0.269, 0.6  , 0.571, 0.607, 0.17 , 0.21 , 0.126, 0.711, 0.466,\n",
              "       0.162, 0.419, 0.63 , 0.365, 0.536, 1.159, 0.629, 0.292, 0.145,\n",
              "       1.144, 0.174, 0.547, 0.163, 0.738, 0.314, 0.968, 0.409, 0.297,\n",
              "       0.525, 0.154, 0.771, 0.107, 0.493, 0.717, 0.917, 0.501, 1.251,\n",
              "       0.735, 0.804, 0.661, 0.549, 0.825, 0.423, 1.034, 0.16 , 0.341,\n",
              "       0.68 , 0.591, 0.3  , 0.121, 0.502, 0.401, 0.601, 0.748, 0.338,\n",
              "       0.43 , 0.892, 0.813, 0.693, 0.575, 0.371, 0.206, 0.417, 1.154,\n",
              "       0.925, 0.175, 1.699, 0.682, 0.194, 0.4  , 0.1  , 1.258, 0.482,\n",
              "       0.138, 0.593, 0.878, 0.157, 1.282, 0.141, 0.246, 1.698, 1.461,\n",
              "       0.347, 0.362, 0.393, 0.144, 0.732, 0.115, 0.465, 0.649, 0.871,\n",
              "       0.149, 0.695, 0.303, 0.61 , 0.73 , 0.447, 0.455, 0.133, 0.155,\n",
              "       1.162, 1.292, 0.182, 1.394, 0.217, 0.631, 0.88 , 0.614, 0.332,\n",
              "       0.366, 0.181, 0.828, 0.335, 0.856, 0.886, 0.439, 0.253, 0.598,\n",
              "       0.904, 0.483, 0.565, 0.118, 0.177, 0.176, 0.295, 0.441, 0.352,\n",
              "       0.826, 0.97 , 0.595, 0.317, 0.265, 0.646, 0.426, 0.56 , 0.515,\n",
              "       0.453, 0.785, 0.734, 1.174, 0.488, 0.358, 1.096, 0.408, 1.182,\n",
              "       0.222, 1.057, 0.766, 0.171])"
            ]
          },
          "metadata": {},
          "execution_count": 1739
        }
      ],
      "source": [
        "# Valores únicos da porcentagem de diabetes das pacientes:\n",
        "\n",
        "df.diabetespedigreefunction.unique()"
      ]
    },
    {
      "cell_type": "code",
      "execution_count": 1740,
      "metadata": {
        "colab": {
          "base_uri": "https://localhost:8080/"
        },
        "id": "45hsfuNvhEig",
        "outputId": "4e3f167a-9e5b-474f-8632-3f051d711fde"
      },
      "outputs": [
        {
          "output_type": "execute_result",
          "data": {
            "text/plain": [
              "517"
            ]
          },
          "metadata": {},
          "execution_count": 1740
        }
      ],
      "source": [
        "# Quantidade de valores únicos da coluna:\n",
        "\n",
        "df.diabetespedigreefunction.nunique()"
      ]
    },
    {
      "cell_type": "code",
      "execution_count": 1741,
      "metadata": {
        "colab": {
          "base_uri": "https://localhost:8080/",
          "height": 49
        },
        "id": "ckrbwqtAhLK0",
        "outputId": "73905743-5fce-4c3f-c992-cd2a60b51da9"
      },
      "outputs": [
        {
          "output_type": "execute_result",
          "data": {
            "text/plain": [
              "Empty DataFrame\n",
              "Columns: [pregnancies, glucose, bloodpressure, skinthickness, insulin, bmi, diabetespedigreefunction, age, outcome]\n",
              "Index: []"
            ],
            "text/html": [
              "\n",
              "  <div id=\"df-616dcc56-84ed-419f-935f-35fb28e713e3\">\n",
              "    <div class=\"colab-df-container\">\n",
              "      <div>\n",
              "<style scoped>\n",
              "    .dataframe tbody tr th:only-of-type {\n",
              "        vertical-align: middle;\n",
              "    }\n",
              "\n",
              "    .dataframe tbody tr th {\n",
              "        vertical-align: top;\n",
              "    }\n",
              "\n",
              "    .dataframe thead th {\n",
              "        text-align: right;\n",
              "    }\n",
              "</style>\n",
              "<table border=\"1\" class=\"dataframe\">\n",
              "  <thead>\n",
              "    <tr style=\"text-align: right;\">\n",
              "      <th></th>\n",
              "      <th>pregnancies</th>\n",
              "      <th>glucose</th>\n",
              "      <th>bloodpressure</th>\n",
              "      <th>skinthickness</th>\n",
              "      <th>insulin</th>\n",
              "      <th>bmi</th>\n",
              "      <th>diabetespedigreefunction</th>\n",
              "      <th>age</th>\n",
              "      <th>outcome</th>\n",
              "    </tr>\n",
              "  </thead>\n",
              "  <tbody>\n",
              "  </tbody>\n",
              "</table>\n",
              "</div>\n",
              "      <button class=\"colab-df-convert\" onclick=\"convertToInteractive('df-616dcc56-84ed-419f-935f-35fb28e713e3')\"\n",
              "              title=\"Convert this dataframe to an interactive table.\"\n",
              "              style=\"display:none;\">\n",
              "        \n",
              "  <svg xmlns=\"http://www.w3.org/2000/svg\" height=\"24px\"viewBox=\"0 0 24 24\"\n",
              "       width=\"24px\">\n",
              "    <path d=\"M0 0h24v24H0V0z\" fill=\"none\"/>\n",
              "    <path d=\"M18.56 5.44l.94 2.06.94-2.06 2.06-.94-2.06-.94-.94-2.06-.94 2.06-2.06.94zm-11 1L8.5 8.5l.94-2.06 2.06-.94-2.06-.94L8.5 2.5l-.94 2.06-2.06.94zm10 10l.94 2.06.94-2.06 2.06-.94-2.06-.94-.94-2.06-.94 2.06-2.06.94z\"/><path d=\"M17.41 7.96l-1.37-1.37c-.4-.4-.92-.59-1.43-.59-.52 0-1.04.2-1.43.59L10.3 9.45l-7.72 7.72c-.78.78-.78 2.05 0 2.83L4 21.41c.39.39.9.59 1.41.59.51 0 1.02-.2 1.41-.59l7.78-7.78 2.81-2.81c.8-.78.8-2.07 0-2.86zM5.41 20L4 18.59l7.72-7.72 1.47 1.35L5.41 20z\"/>\n",
              "  </svg>\n",
              "      </button>\n",
              "      \n",
              "  <style>\n",
              "    .colab-df-container {\n",
              "      display:flex;\n",
              "      flex-wrap:wrap;\n",
              "      gap: 12px;\n",
              "    }\n",
              "\n",
              "    .colab-df-convert {\n",
              "      background-color: #E8F0FE;\n",
              "      border: none;\n",
              "      border-radius: 50%;\n",
              "      cursor: pointer;\n",
              "      display: none;\n",
              "      fill: #1967D2;\n",
              "      height: 32px;\n",
              "      padding: 0 0 0 0;\n",
              "      width: 32px;\n",
              "    }\n",
              "\n",
              "    .colab-df-convert:hover {\n",
              "      background-color: #E2EBFA;\n",
              "      box-shadow: 0px 1px 2px rgba(60, 64, 67, 0.3), 0px 1px 3px 1px rgba(60, 64, 67, 0.15);\n",
              "      fill: #174EA6;\n",
              "    }\n",
              "\n",
              "    [theme=dark] .colab-df-convert {\n",
              "      background-color: #3B4455;\n",
              "      fill: #D2E3FC;\n",
              "    }\n",
              "\n",
              "    [theme=dark] .colab-df-convert:hover {\n",
              "      background-color: #434B5C;\n",
              "      box-shadow: 0px 1px 3px 1px rgba(0, 0, 0, 0.15);\n",
              "      filter: drop-shadow(0px 1px 2px rgba(0, 0, 0, 0.3));\n",
              "      fill: #FFFFFF;\n",
              "    }\n",
              "  </style>\n",
              "\n",
              "      <script>\n",
              "        const buttonEl =\n",
              "          document.querySelector('#df-616dcc56-84ed-419f-935f-35fb28e713e3 button.colab-df-convert');\n",
              "        buttonEl.style.display =\n",
              "          google.colab.kernel.accessAllowed ? 'block' : 'none';\n",
              "\n",
              "        async function convertToInteractive(key) {\n",
              "          const element = document.querySelector('#df-616dcc56-84ed-419f-935f-35fb28e713e3');\n",
              "          const dataTable =\n",
              "            await google.colab.kernel.invokeFunction('convertToInteractive',\n",
              "                                                     [key], {});\n",
              "          if (!dataTable) return;\n",
              "\n",
              "          const docLinkHtml = 'Like what you see? Visit the ' +\n",
              "            '<a target=\"_blank\" href=https://colab.research.google.com/notebooks/data_table.ipynb>data table notebook</a>'\n",
              "            + ' to learn more about interactive tables.';\n",
              "          element.innerHTML = '';\n",
              "          dataTable['output_type'] = 'display_data';\n",
              "          await google.colab.output.renderOutput(dataTable, element);\n",
              "          const docLink = document.createElement('div');\n",
              "          docLink.innerHTML = docLinkHtml;\n",
              "          element.appendChild(docLink);\n",
              "        }\n",
              "      </script>\n",
              "    </div>\n",
              "  </div>\n",
              "  "
            ]
          },
          "metadata": {},
          "execution_count": 1741
        }
      ],
      "source": [
        "# Filtragem das pacientes com porcentagem de diabetes igual à 0:\n",
        "\n",
        "df[df['diabetespedigreefunction'] == 0.0]"
      ]
    },
    {
      "cell_type": "code",
      "execution_count": 1742,
      "metadata": {
        "colab": {
          "base_uri": "https://localhost:8080/"
        },
        "id": "hhcEWqEshOQM",
        "outputId": "e2162762-822f-4e00-d7ac-9d15699a9e2b"
      },
      "outputs": [
        {
          "output_type": "execute_result",
          "data": {
            "text/plain": [
              "count    768.00\n",
              "mean       0.47\n",
              "std        0.33\n",
              "min        0.08\n",
              "25%        0.24\n",
              "50%        0.37\n",
              "75%        0.63\n",
              "max        2.42\n",
              "Name: diabetespedigreefunction, dtype: float64"
            ]
          },
          "metadata": {},
          "execution_count": 1742
        }
      ],
      "source": [
        "# Informações estatísticas sobre a porcentagem de diabetes das pacientes:\n",
        "\n",
        "df.diabetespedigreefunction.describe().round(2)"
      ]
    },
    {
      "cell_type": "code",
      "execution_count": 1743,
      "metadata": {
        "colab": {
          "base_uri": "https://localhost:8080/"
        },
        "id": "1FLcuFsOhRc3",
        "outputId": "821ad0c0-3856-4732-f768-d0371c9d1cb1"
      },
      "outputs": [
        {
          "output_type": "execute_result",
          "data": {
            "text/plain": [
              "0.37"
            ]
          },
          "metadata": {},
          "execution_count": 1743
        }
      ],
      "source": [
        "# Mediana da porcentagem de diabetes das pacientes:\n",
        "\n",
        "df.diabetespedigreefunction.median().round(2)"
      ]
    },
    {
      "cell_type": "code",
      "execution_count": 1744,
      "metadata": {
        "colab": {
          "base_uri": "https://localhost:8080/"
        },
        "id": "nW76s-EyhUPT",
        "outputId": "078df49d-82f1-4267-e3ca-04a66c9ce317"
      },
      "outputs": [
        {
          "output_type": "execute_result",
          "data": {
            "text/plain": [
              "count    500.00\n",
              "mean       0.43\n",
              "std        0.30\n",
              "min        0.08\n",
              "25%        0.23\n",
              "50%        0.34\n",
              "75%        0.56\n",
              "max        2.33\n",
              "Name: diabetespedigreefunction, dtype: float64"
            ]
          },
          "metadata": {},
          "execution_count": 1744
        }
      ],
      "source": [
        "# Informações estatísticas sobre a porcentagem de diabetes das pacientes sem diabetes:\n",
        "\n",
        "df[df['outcome'] == 0].diabetespedigreefunction.describe().round(2)"
      ]
    },
    {
      "cell_type": "code",
      "execution_count": 1745,
      "metadata": {
        "colab": {
          "base_uri": "https://localhost:8080/"
        },
        "id": "WIBUsq8QhfrO",
        "outputId": "474905c7-9897-4385-8fec-cb3536fa48bc"
      },
      "outputs": [
        {
          "output_type": "execute_result",
          "data": {
            "text/plain": [
              "0.34"
            ]
          },
          "metadata": {},
          "execution_count": 1745
        }
      ],
      "source": [
        "# Mediana da porcentagem de diabetes das pacientes sem diabetes:\n",
        "\n",
        "df[df['outcome'] == 0].diabetespedigreefunction.median().round(2)"
      ]
    },
    {
      "cell_type": "code",
      "execution_count": 1746,
      "metadata": {
        "colab": {
          "base_uri": "https://localhost:8080/"
        },
        "id": "jlOu5IB1hcRI",
        "outputId": "9e1cf1fd-791a-464a-f7d4-6a88cbaac4df"
      },
      "outputs": [
        {
          "output_type": "execute_result",
          "data": {
            "text/plain": [
              "count    268.00\n",
              "mean       0.55\n",
              "std        0.37\n",
              "min        0.09\n",
              "25%        0.26\n",
              "50%        0.45\n",
              "75%        0.73\n",
              "max        2.42\n",
              "Name: diabetespedigreefunction, dtype: float64"
            ]
          },
          "metadata": {},
          "execution_count": 1746
        }
      ],
      "source": [
        "# Informações estatísticas sobre a porcentagem de diabetes das pacientes com diabetes:\n",
        "\n",
        "df[df['outcome'] == 1].diabetespedigreefunction.describe().round(2)"
      ]
    },
    {
      "cell_type": "code",
      "execution_count": 1747,
      "metadata": {
        "colab": {
          "base_uri": "https://localhost:8080/"
        },
        "id": "aZHYJQNDhe3_",
        "outputId": "17ff6f10-82c8-4d4c-f3d3-76b1306a71f3"
      },
      "outputs": [
        {
          "output_type": "execute_result",
          "data": {
            "text/plain": [
              "0.45"
            ]
          },
          "metadata": {},
          "execution_count": 1747
        }
      ],
      "source": [
        "# Mediana da porcentagem de diabetes das pacientes com diabetes:\n",
        "\n",
        "df[df['outcome'] == 1].diabetespedigreefunction.median().round(2)"
      ]
    },
    {
      "cell_type": "code",
      "execution_count": 1748,
      "metadata": {
        "colab": {
          "base_uri": "https://localhost:8080/",
          "height": 112
        },
        "id": "3-hwGm-chkrH",
        "outputId": "b249e26e-ee3a-4b6d-a1e1-6ca34c2fc572"
      },
      "outputs": [
        {
          "output_type": "execute_result",
          "data": {
            "text/plain": [
              "                          mean       median        std      \n",
              "outcome                      0     1      0     1    0     1\n",
              "diabetespedigreefunction  0.43  0.55   0.34  0.45  0.3  0.37"
            ],
            "text/html": [
              "\n",
              "  <div id=\"df-6a0a8115-c1c2-45a8-acd1-cb9add49f93d\">\n",
              "    <div class=\"colab-df-container\">\n",
              "      <div>\n",
              "<style scoped>\n",
              "    .dataframe tbody tr th:only-of-type {\n",
              "        vertical-align: middle;\n",
              "    }\n",
              "\n",
              "    .dataframe tbody tr th {\n",
              "        vertical-align: top;\n",
              "    }\n",
              "\n",
              "    .dataframe thead tr th {\n",
              "        text-align: left;\n",
              "    }\n",
              "</style>\n",
              "<table border=\"1\" class=\"dataframe\">\n",
              "  <thead>\n",
              "    <tr>\n",
              "      <th></th>\n",
              "      <th colspan=\"2\" halign=\"left\">mean</th>\n",
              "      <th colspan=\"2\" halign=\"left\">median</th>\n",
              "      <th colspan=\"2\" halign=\"left\">std</th>\n",
              "    </tr>\n",
              "    <tr>\n",
              "      <th>outcome</th>\n",
              "      <th>0</th>\n",
              "      <th>1</th>\n",
              "      <th>0</th>\n",
              "      <th>1</th>\n",
              "      <th>0</th>\n",
              "      <th>1</th>\n",
              "    </tr>\n",
              "  </thead>\n",
              "  <tbody>\n",
              "    <tr>\n",
              "      <th>diabetespedigreefunction</th>\n",
              "      <td>0.43</td>\n",
              "      <td>0.55</td>\n",
              "      <td>0.34</td>\n",
              "      <td>0.45</td>\n",
              "      <td>0.3</td>\n",
              "      <td>0.37</td>\n",
              "    </tr>\n",
              "  </tbody>\n",
              "</table>\n",
              "</div>\n",
              "      <button class=\"colab-df-convert\" onclick=\"convertToInteractive('df-6a0a8115-c1c2-45a8-acd1-cb9add49f93d')\"\n",
              "              title=\"Convert this dataframe to an interactive table.\"\n",
              "              style=\"display:none;\">\n",
              "        \n",
              "  <svg xmlns=\"http://www.w3.org/2000/svg\" height=\"24px\"viewBox=\"0 0 24 24\"\n",
              "       width=\"24px\">\n",
              "    <path d=\"M0 0h24v24H0V0z\" fill=\"none\"/>\n",
              "    <path d=\"M18.56 5.44l.94 2.06.94-2.06 2.06-.94-2.06-.94-.94-2.06-.94 2.06-2.06.94zm-11 1L8.5 8.5l.94-2.06 2.06-.94-2.06-.94L8.5 2.5l-.94 2.06-2.06.94zm10 10l.94 2.06.94-2.06 2.06-.94-2.06-.94-.94-2.06-.94 2.06-2.06.94z\"/><path d=\"M17.41 7.96l-1.37-1.37c-.4-.4-.92-.59-1.43-.59-.52 0-1.04.2-1.43.59L10.3 9.45l-7.72 7.72c-.78.78-.78 2.05 0 2.83L4 21.41c.39.39.9.59 1.41.59.51 0 1.02-.2 1.41-.59l7.78-7.78 2.81-2.81c.8-.78.8-2.07 0-2.86zM5.41 20L4 18.59l7.72-7.72 1.47 1.35L5.41 20z\"/>\n",
              "  </svg>\n",
              "      </button>\n",
              "      \n",
              "  <style>\n",
              "    .colab-df-container {\n",
              "      display:flex;\n",
              "      flex-wrap:wrap;\n",
              "      gap: 12px;\n",
              "    }\n",
              "\n",
              "    .colab-df-convert {\n",
              "      background-color: #E8F0FE;\n",
              "      border: none;\n",
              "      border-radius: 50%;\n",
              "      cursor: pointer;\n",
              "      display: none;\n",
              "      fill: #1967D2;\n",
              "      height: 32px;\n",
              "      padding: 0 0 0 0;\n",
              "      width: 32px;\n",
              "    }\n",
              "\n",
              "    .colab-df-convert:hover {\n",
              "      background-color: #E2EBFA;\n",
              "      box-shadow: 0px 1px 2px rgba(60, 64, 67, 0.3), 0px 1px 3px 1px rgba(60, 64, 67, 0.15);\n",
              "      fill: #174EA6;\n",
              "    }\n",
              "\n",
              "    [theme=dark] .colab-df-convert {\n",
              "      background-color: #3B4455;\n",
              "      fill: #D2E3FC;\n",
              "    }\n",
              "\n",
              "    [theme=dark] .colab-df-convert:hover {\n",
              "      background-color: #434B5C;\n",
              "      box-shadow: 0px 1px 3px 1px rgba(0, 0, 0, 0.15);\n",
              "      filter: drop-shadow(0px 1px 2px rgba(0, 0, 0, 0.3));\n",
              "      fill: #FFFFFF;\n",
              "    }\n",
              "  </style>\n",
              "\n",
              "      <script>\n",
              "        const buttonEl =\n",
              "          document.querySelector('#df-6a0a8115-c1c2-45a8-acd1-cb9add49f93d button.colab-df-convert');\n",
              "        buttonEl.style.display =\n",
              "          google.colab.kernel.accessAllowed ? 'block' : 'none';\n",
              "\n",
              "        async function convertToInteractive(key) {\n",
              "          const element = document.querySelector('#df-6a0a8115-c1c2-45a8-acd1-cb9add49f93d');\n",
              "          const dataTable =\n",
              "            await google.colab.kernel.invokeFunction('convertToInteractive',\n",
              "                                                     [key], {});\n",
              "          if (!dataTable) return;\n",
              "\n",
              "          const docLinkHtml = 'Like what you see? Visit the ' +\n",
              "            '<a target=\"_blank\" href=https://colab.research.google.com/notebooks/data_table.ipynb>data table notebook</a>'\n",
              "            + ' to learn more about interactive tables.';\n",
              "          element.innerHTML = '';\n",
              "          dataTable['output_type'] = 'display_data';\n",
              "          await google.colab.output.renderOutput(dataTable, element);\n",
              "          const docLink = document.createElement('div');\n",
              "          docLink.innerHTML = docLinkHtml;\n",
              "          element.appendChild(docLink);\n",
              "        }\n",
              "      </script>\n",
              "    </div>\n",
              "  </div>\n",
              "  "
            ]
          },
          "metadata": {},
          "execution_count": 1748
        }
      ],
      "source": [
        "# Tabela com a média, mediana e desvio-padrão da porcentagem de diabetes das pacientes sem diabetes\n",
        "# em comparação com às pacientes com diabetes:\n",
        "\n",
        "pd.pivot_table(data = df, aggfunc = ['mean', 'median', 'std'],\n",
        "               columns = 'outcome',\n",
        "               values = 'diabetespedigreefunction').round(2)"
      ]
    },
    {
      "cell_type": "code",
      "execution_count": 1749,
      "metadata": {
        "colab": {
          "base_uri": "https://localhost:8080/",
          "height": 336
        },
        "id": "NE-Gm1E8huKV",
        "outputId": "2aab551c-3790-4141-ed4d-0e64aaa0ee33"
      },
      "outputs": [
        {
          "output_type": "display_data",
          "data": {
            "text/plain": [
              "<Figure size 864x360 with 1 Axes>"
            ],
            "image/png": "[encoded data removed]"
          },
          "metadata": {}
        }
      ],
      "source": [
        "# Distribuição da porcentagem de diabetes das pacientes sem e com diabetes:\n",
        "\n",
        "plt.figure(figsize = (12, 5))\n",
        "sns.boxplot(data = df,\n",
        "            x = 'outcome',\n",
        "            y = 'diabetespedigreefunction', width = 0.5, palette = 'Spectral_r')\n",
        "plt.xlabel('')\n",
        "plt.ylabel('% de Diabetes',\n",
        "           fontsize = 11, color = 'k')\n",
        "plt.xticks([0, 1], labels = ['Sem Diabetes', 'Com Diabetes'], fontsize = 10, color = 'k')\n",
        "plt.yticks(np.arange(0.0, 2.51, 0.5), fontsize = 10, color = 'k')\n",
        "plt.title('% de Diabetes X Diagnóstico de Diabetes', fontsize = 12, color = 'k');"
      ]
    },
    {
      "cell_type": "markdown",
      "metadata": {
        "id": "ZBUCO6MOisMQ"
      },
      "source": [
        "### (9) Há alguma correlação vísivel entre a idade da paciente e o fato da paciente ter diabetes ou não?"
      ]
    },
    {
      "cell_type": "code",
      "execution_count": 1750,
      "metadata": {
        "colab": {
          "base_uri": "https://localhost:8080/"
        },
        "id": "gfW0soulibtr",
        "outputId": "fa9adf82-99b5-4180-93c7-f9455de584b1"
      },
      "outputs": [
        {
          "output_type": "execute_result",
          "data": {
            "text/plain": [
              "array([50, 31, 32, 21, 33, 30, 26, 29, 53, 54, 34, 57, 59, 51, 27, 41, 43,\n",
              "       22, 38, 60, 28, 45, 35, 46, 56, 37, 48, 40, 25, 24, 58, 42, 44, 39,\n",
              "       36, 23, 61, 69, 62, 55, 65, 47, 52, 66, 49, 63, 67, 72, 81, 64, 70,\n",
              "       68])"
            ]
          },
          "metadata": {},
          "execution_count": 1750
        }
      ],
      "source": [
        "# Valores únicos de idades das pacientes:\n",
        "\n",
        "df.age.unique()"
      ]
    },
    {
      "cell_type": "code",
      "execution_count": 1751,
      "metadata": {
        "colab": {
          "base_uri": "https://localhost:8080/"
        },
        "id": "U9tjoWxhi2Xy",
        "outputId": "9a09f620-15e7-4dbe-9374-2fc6679f955c"
      },
      "outputs": [
        {
          "output_type": "execute_result",
          "data": {
            "text/plain": [
              "52"
            ]
          },
          "metadata": {},
          "execution_count": 1751
        }
      ],
      "source": [
        "# Quantidade de valores únicos da coluna:\n",
        "\n",
        "df.age.nunique()"
      ]
    },
    {
      "cell_type": "code",
      "execution_count": 1752,
      "metadata": {
        "colab": {
          "base_uri": "https://localhost:8080/"
        },
        "id": "TssorXpwi5Ec",
        "outputId": "d7718cec-d2d7-4942-ae7a-7e4fcb78ef28"
      },
      "outputs": [
        {
          "output_type": "execute_result",
          "data": {
            "text/plain": [
              "count    768.00\n",
              "mean      33.24\n",
              "std       11.76\n",
              "min       21.00\n",
              "25%       24.00\n",
              "50%       29.00\n",
              "75%       41.00\n",
              "max       81.00\n",
              "Name: age, dtype: float64"
            ]
          },
          "metadata": {},
          "execution_count": 1752
        }
      ],
      "source": [
        "# Informações estatísticas da idade das pacientes:\n",
        "\n",
        "df.age.describe().round(2)"
      ]
    },
    {
      "cell_type": "code",
      "execution_count": 1753,
      "metadata": {
        "colab": {
          "base_uri": "https://localhost:8080/"
        },
        "id": "QPoN6TZwjKVk",
        "outputId": "48397a03-0821-45df-c749-cc99e4efe0ac"
      },
      "outputs": [
        {
          "output_type": "execute_result",
          "data": {
            "text/plain": [
              "29.0"
            ]
          },
          "metadata": {},
          "execution_count": 1753
        }
      ],
      "source": [
        "# Mediana da idade das pacientes:\n",
        "\n",
        "df.age.median().round(2)"
      ]
    },
    {
      "cell_type": "code",
      "execution_count": 1754,
      "metadata": {
        "colab": {
          "base_uri": "https://localhost:8080/"
        },
        "id": "bXcVGO8si9s6",
        "outputId": "a9d876e2-5396-4cca-f3a7-c2e857931a4d"
      },
      "outputs": [
        {
          "output_type": "execute_result",
          "data": {
            "text/plain": [
              "count    500.00\n",
              "mean      31.19\n",
              "std       11.67\n",
              "min       21.00\n",
              "25%       23.00\n",
              "50%       27.00\n",
              "75%       37.00\n",
              "max       81.00\n",
              "Name: age, dtype: float64"
            ]
          },
          "metadata": {},
          "execution_count": 1754
        }
      ],
      "source": [
        "# Informações estatística da idade das pacientes sem diabetes:\n",
        "\n",
        "df[df['outcome'] == 0].age.describe().round(2)"
      ]
    },
    {
      "cell_type": "code",
      "execution_count": 1755,
      "metadata": {
        "colab": {
          "base_uri": "https://localhost:8080/"
        },
        "id": "w8kEBi5fjGdh",
        "outputId": "d1951c03-dc76-4b45-9431-6819c26201fe"
      },
      "outputs": [
        {
          "output_type": "execute_result",
          "data": {
            "text/plain": [
              "27.0"
            ]
          },
          "metadata": {},
          "execution_count": 1755
        }
      ],
      "source": [
        "# Mediana da idade das pacientes sem diabetes:\n",
        "\n",
        "df[df['outcome'] == 0].age.median().round(2)"
      ]
    },
    {
      "cell_type": "code",
      "execution_count": 1756,
      "metadata": {
        "colab": {
          "base_uri": "https://localhost:8080/"
        },
        "id": "ARbS5vjojPbk",
        "outputId": "401fd208-4233-436a-ebfd-3745edf2ada4"
      },
      "outputs": [
        {
          "output_type": "execute_result",
          "data": {
            "text/plain": [
              "count    268.00\n",
              "mean      37.07\n",
              "std       10.97\n",
              "min       21.00\n",
              "25%       28.00\n",
              "50%       36.00\n",
              "75%       44.00\n",
              "max       70.00\n",
              "Name: age, dtype: float64"
            ]
          },
          "metadata": {},
          "execution_count": 1756
        }
      ],
      "source": [
        "# Informações estatística da idade das pacientes com diabetes:\n",
        "\n",
        "df[df['outcome'] == 1].age.describe().round(2)"
      ]
    },
    {
      "cell_type": "code",
      "execution_count": 1757,
      "metadata": {
        "colab": {
          "base_uri": "https://localhost:8080/"
        },
        "id": "LzwuLAGNjRZx",
        "outputId": "e3e09c5e-5c63-40d0-e962-1d4096ad6423"
      },
      "outputs": [
        {
          "output_type": "execute_result",
          "data": {
            "text/plain": [
              "36.0"
            ]
          },
          "metadata": {},
          "execution_count": 1757
        }
      ],
      "source": [
        "# Mediana da idade das pacientes com diabetes:\n",
        "\n",
        "df[df['outcome'] == 1].age.median().round(2)"
      ]
    },
    {
      "cell_type": "code",
      "execution_count": 1758,
      "metadata": {
        "colab": {
          "base_uri": "https://localhost:8080/",
          "height": 353
        },
        "id": "f-J3m0yXjWGR",
        "outputId": "94ee91c4-252a-4e2d-8791-cb07e467337c"
      },
      "outputs": [
        {
          "output_type": "display_data",
          "data": {
            "text/plain": [
              "<Figure size 864x360 with 1 Axes>"
            ],
            "image/png": "[encoded data removed]"
          },
          "metadata": {}
        }
      ],
      "source": [
        "# Histograma com a distribuição de frequência de idade das pacientes sem e com diabetes diagnosticadas:\n",
        "\n",
        "plt.figure(figsize = (12, 5))\n",
        "\n",
        "sns.distplot(df.query(\"outcome == 0\").age, label = 'Sem Diabetes',\n",
        "             kde = False, color = sns.color_palette('Spectral_r')[0])\n",
        "sns.distplot(df.query(\"outcome == 1\").age, label = 'Com Diabetes',\n",
        "             kde = False, color = sns.color_palette('Spectral_r')[1])\n",
        "plt.xlabel('Idade', fontsize = 12, color = 'k')\n",
        "plt.xticks(np.arange(20, 81, 10), fontsize = 10, color = 'k')\n",
        "plt.yticks(np.arange(0, 176, 25), fontsize = 10, color = 'k')\n",
        "plt.title('Distribuição da Idade das Pacientes X Diagnóstico de Diabetes',\n",
        "        fontsize = 12, color = 'k')\n",
        "plt.ylabel('Frequência', fontsize = 10, color = 'k')\n",
        "plt.legend()\n",
        "plt.show()"
      ]
    },
    {
      "cell_type": "code",
      "execution_count": 1759,
      "metadata": {
        "colab": {
          "base_uri": "https://localhost:8080/",
          "height": 112
        },
        "id": "JDavjgObjnSu",
        "outputId": "72713305-b671-482a-c023-af55bb683fe6"
      },
      "outputs": [
        {
          "output_type": "execute_result",
          "data": {
            "text/plain": [
              "          mean        median        std       \n",
              "outcome      0      1      0   1      0      1\n",
              "age      31.19  37.07     27  36  11.67  10.97"
            ],
            "text/html": [
              "\n",
              "  <div id=\"df-48cd7868-a24c-4c17-b9f9-1fd44a9fc695\">\n",
              "    <div class=\"colab-df-container\">\n",
              "      <div>\n",
              "<style scoped>\n",
              "    .dataframe tbody tr th:only-of-type {\n",
              "        vertical-align: middle;\n",
              "    }\n",
              "\n",
              "    .dataframe tbody tr th {\n",
              "        vertical-align: top;\n",
              "    }\n",
              "\n",
              "    .dataframe thead tr th {\n",
              "        text-align: left;\n",
              "    }\n",
              "</style>\n",
              "<table border=\"1\" class=\"dataframe\">\n",
              "  <thead>\n",
              "    <tr>\n",
              "      <th></th>\n",
              "      <th colspan=\"2\" halign=\"left\">mean</th>\n",
              "      <th colspan=\"2\" halign=\"left\">median</th>\n",
              "      <th colspan=\"2\" halign=\"left\">std</th>\n",
              "    </tr>\n",
              "    <tr>\n",
              "      <th>outcome</th>\n",
              "      <th>0</th>\n",
              "      <th>1</th>\n",
              "      <th>0</th>\n",
              "      <th>1</th>\n",
              "      <th>0</th>\n",
              "      <th>1</th>\n",
              "    </tr>\n",
              "  </thead>\n",
              "  <tbody>\n",
              "    <tr>\n",
              "      <th>age</th>\n",
              "      <td>31.19</td>\n",
              "      <td>37.07</td>\n",
              "      <td>27</td>\n",
              "      <td>36</td>\n",
              "      <td>11.67</td>\n",
              "      <td>10.97</td>\n",
              "    </tr>\n",
              "  </tbody>\n",
              "</table>\n",
              "</div>\n",
              "      <button class=\"colab-df-convert\" onclick=\"convertToInteractive('df-48cd7868-a24c-4c17-b9f9-1fd44a9fc695')\"\n",
              "              title=\"Convert this dataframe to an interactive table.\"\n",
              "              style=\"display:none;\">\n",
              "        \n",
              "  <svg xmlns=\"http://www.w3.org/2000/svg\" height=\"24px\"viewBox=\"0 0 24 24\"\n",
              "       width=\"24px\">\n",
              "    <path d=\"M0 0h24v24H0V0z\" fill=\"none\"/>\n",
              "    <path d=\"M18.56 5.44l.94 2.06.94-2.06 2.06-.94-2.06-.94-.94-2.06-.94 2.06-2.06.94zm-11 1L8.5 8.5l.94-2.06 2.06-.94-2.06-.94L8.5 2.5l-.94 2.06-2.06.94zm10 10l.94 2.06.94-2.06 2.06-.94-2.06-.94-.94-2.06-.94 2.06-2.06.94z\"/><path d=\"M17.41 7.96l-1.37-1.37c-.4-.4-.92-.59-1.43-.59-.52 0-1.04.2-1.43.59L10.3 9.45l-7.72 7.72c-.78.78-.78 2.05 0 2.83L4 21.41c.39.39.9.59 1.41.59.51 0 1.02-.2 1.41-.59l7.78-7.78 2.81-2.81c.8-.78.8-2.07 0-2.86zM5.41 20L4 18.59l7.72-7.72 1.47 1.35L5.41 20z\"/>\n",
              "  </svg>\n",
              "      </button>\n",
              "      \n",
              "  <style>\n",
              "    .colab-df-container {\n",
              "      display:flex;\n",
              "      flex-wrap:wrap;\n",
              "      gap: 12px;\n",
              "    }\n",
              "\n",
              "    .colab-df-convert {\n",
              "      background-color: #E8F0FE;\n",
              "      border: none;\n",
              "      border-radius: 50%;\n",
              "      cursor: pointer;\n",
              "      display: none;\n",
              "      fill: #1967D2;\n",
              "      height: 32px;\n",
              "      padding: 0 0 0 0;\n",
              "      width: 32px;\n",
              "    }\n",
              "\n",
              "    .colab-df-convert:hover {\n",
              "      background-color: #E2EBFA;\n",
              "      box-shadow: 0px 1px 2px rgba(60, 64, 67, 0.3), 0px 1px 3px 1px rgba(60, 64, 67, 0.15);\n",
              "      fill: #174EA6;\n",
              "    }\n",
              "\n",
              "    [theme=dark] .colab-df-convert {\n",
              "      background-color: #3B4455;\n",
              "      fill: #D2E3FC;\n",
              "    }\n",
              "\n",
              "    [theme=dark] .colab-df-convert:hover {\n",
              "      background-color: #434B5C;\n",
              "      box-shadow: 0px 1px 3px 1px rgba(0, 0, 0, 0.15);\n",
              "      filter: drop-shadow(0px 1px 2px rgba(0, 0, 0, 0.3));\n",
              "      fill: #FFFFFF;\n",
              "    }\n",
              "  </style>\n",
              "\n",
              "      <script>\n",
              "        const buttonEl =\n",
              "          document.querySelector('#df-48cd7868-a24c-4c17-b9f9-1fd44a9fc695 button.colab-df-convert');\n",
              "        buttonEl.style.display =\n",
              "          google.colab.kernel.accessAllowed ? 'block' : 'none';\n",
              "\n",
              "        async function convertToInteractive(key) {\n",
              "          const element = document.querySelector('#df-48cd7868-a24c-4c17-b9f9-1fd44a9fc695');\n",
              "          const dataTable =\n",
              "            await google.colab.kernel.invokeFunction('convertToInteractive',\n",
              "                                                     [key], {});\n",
              "          if (!dataTable) return;\n",
              "\n",
              "          const docLinkHtml = 'Like what you see? Visit the ' +\n",
              "            '<a target=\"_blank\" href=https://colab.research.google.com/notebooks/data_table.ipynb>data table notebook</a>'\n",
              "            + ' to learn more about interactive tables.';\n",
              "          element.innerHTML = '';\n",
              "          dataTable['output_type'] = 'display_data';\n",
              "          await google.colab.output.renderOutput(dataTable, element);\n",
              "          const docLink = document.createElement('div');\n",
              "          docLink.innerHTML = docLinkHtml;\n",
              "          element.appendChild(docLink);\n",
              "        }\n",
              "      </script>\n",
              "    </div>\n",
              "  </div>\n",
              "  "
            ]
          },
          "metadata": {},
          "execution_count": 1759
        }
      ],
      "source": [
        "# Tabela com a média, mediana e desvio-padrão da idade das pacientes sem diabetes\n",
        "# em comparação com às pacientes com diabetes:\n",
        "\n",
        "pd.pivot_table(data = df, aggfunc = ['mean', 'median', 'std'],\n",
        "               columns = 'outcome',\n",
        "               values = 'age').round(2)"
      ]
    },
    {
      "cell_type": "markdown",
      "metadata": {
        "id": "sXS7arE3kQtz"
      },
      "source": [
        "### Separação - Dados de Treino X Dados de Teste"
      ]
    },
    {
      "cell_type": "code",
      "execution_count": 1760,
      "metadata": {
        "id": "08o3_YfAkcVa"
      },
      "outputs": [],
      "source": [
        "# Importação do método para separar o conjunto de dados em dados de treino e dados de teste:\n",
        "\n",
        "from sklearn.model_selection import train_test_split"
      ]
    },
    {
      "cell_type": "code",
      "source": [
        "df.columns"
      ],
      "metadata": {
        "colab": {
          "base_uri": "https://localhost:8080/"
        },
        "id": "5O25pQlBTKxS",
        "outputId": "d6fdb31a-c6b1-4b68-c968-f0e7b5856e73"
      },
      "execution_count": 1761,
      "outputs": [
        {
          "output_type": "execute_result",
          "data": {
            "text/plain": [
              "Index(['pregnancies', 'glucose', 'bloodpressure', 'skinthickness', 'insulin',\n",
              "       'bmi', 'diabetespedigreefunction', 'age', 'outcome'],\n",
              "      dtype='object')"
            ]
          },
          "metadata": {},
          "execution_count": 1761
        }
      ]
    },
    {
      "cell_type": "code",
      "execution_count": 1762,
      "metadata": {
        "id": "gF9kmCdXkh8R"
      },
      "outputs": [],
      "source": [
        "# Atribuição de todas variáveis independentes e preditoras à variável X:\n",
        "\n",
        "X = df[['pregnancies', 'glucose', 'insulin',\n",
        "       'bmi', 'diabetespedigreefunction', 'age']]"
      ]
    },
    {
      "cell_type": "code",
      "source": [
        "X"
      ],
      "metadata": {
        "colab": {
          "base_uri": "https://localhost:8080/",
          "height": 424
        },
        "id": "oZ6_iimSQ5ai",
        "outputId": "d5cc923d-dcf6-4655-9ef4-44e7e61c3ed3"
      },
      "execution_count": 1763,
      "outputs": [
        {
          "output_type": "execute_result",
          "data": {
            "text/plain": [
              "     pregnancies  glucose  insulin   bmi  diabetespedigreefunction  age\n",
              "0              6    148.0    169.5  33.6                     0.627   50\n",
              "1              1     85.0    102.5  26.6                     0.351   31\n",
              "2              8    183.0    169.5  23.3                     0.672   32\n",
              "3              1     89.0     94.0  28.1                     0.167   21\n",
              "4              0    137.0    168.0  43.1                     2.288   33\n",
              "..           ...      ...      ...   ...                       ...  ...\n",
              "763           10    101.0    180.0  32.9                     0.171   63\n",
              "764            2    122.0    102.5  36.8                     0.340   27\n",
              "765            5    121.0    112.0  26.2                     0.245   30\n",
              "766            1    126.0    169.5  30.1                     0.349   47\n",
              "767            1     93.0    102.5  30.4                     0.315   23\n",
              "\n",
              "[768 rows x 6 columns]"
            ],
            "text/html": [
              "\n",
              "  <div id=\"df-37291658-3edf-4621-a6e8-a8f79864a225\">\n",
              "    <div class=\"colab-df-container\">\n",
              "      <div>\n",
              "<style scoped>\n",
              "    .dataframe tbody tr th:only-of-type {\n",
              "        vertical-align: middle;\n",
              "    }\n",
              "\n",
              "    .dataframe tbody tr th {\n",
              "        vertical-align: top;\n",
              "    }\n",
              "\n",
              "    .dataframe thead th {\n",
              "        text-align: right;\n",
              "    }\n",
              "</style>\n",
              "<table border=\"1\" class=\"dataframe\">\n",
              "  <thead>\n",
              "    <tr style=\"text-align: right;\">\n",
              "      <th></th>\n",
              "      <th>pregnancies</th>\n",
              "      <th>glucose</th>\n",
              "      <th>insulin</th>\n",
              "      <th>bmi</th>\n",
              "      <th>diabetespedigreefunction</th>\n",
              "      <th>age</th>\n",
              "    </tr>\n",
              "  </thead>\n",
              "  <tbody>\n",
              "    <tr>\n",
              "      <th>0</th>\n",
              "      <td>6</td>\n",
              "      <td>148.0</td>\n",
              "      <td>169.5</td>\n",
              "      <td>33.6</td>\n",
              "      <td>0.627</td>\n",
              "      <td>50</td>\n",
              "    </tr>\n",
              "    <tr>\n",
              "      <th>1</th>\n",
              "      <td>1</td>\n",
              "      <td>85.0</td>\n",
              "      <td>102.5</td>\n",
              "      <td>26.6</td>\n",
              "      <td>0.351</td>\n",
              "      <td>31</td>\n",
              "    </tr>\n",
              "    <tr>\n",
              "      <th>2</th>\n",
              "      <td>8</td>\n",
              "      <td>183.0</td>\n",
              "      <td>169.5</td>\n",
              "      <td>23.3</td>\n",
              "      <td>0.672</td>\n",
              "      <td>32</td>\n",
              "    </tr>\n",
              "    <tr>\n",
              "      <th>3</th>\n",
              "      <td>1</td>\n",
              "      <td>89.0</td>\n",
              "      <td>94.0</td>\n",
              "      <td>28.1</td>\n",
              "      <td>0.167</td>\n",
              "      <td>21</td>\n",
              "    </tr>\n",
              "    <tr>\n",
              "      <th>4</th>\n",
              "      <td>0</td>\n",
              "      <td>137.0</td>\n",
              "      <td>168.0</td>\n",
              "      <td>43.1</td>\n",
              "      <td>2.288</td>\n",
              "      <td>33</td>\n",
              "    </tr>\n",
              "    <tr>\n",
              "      <th>...</th>\n",
              "      <td>...</td>\n",
              "      <td>...</td>\n",
              "      <td>...</td>\n",
              "      <td>...</td>\n",
              "      <td>...</td>\n",
              "      <td>...</td>\n",
              "    </tr>\n",
              "    <tr>\n",
              "      <th>763</th>\n",
              "      <td>10</td>\n",
              "      <td>101.0</td>\n",
              "      <td>180.0</td>\n",
              "      <td>32.9</td>\n",
              "      <td>0.171</td>\n",
              "      <td>63</td>\n",
              "    </tr>\n",
              "    <tr>\n",
              "      <th>764</th>\n",
              "      <td>2</td>\n",
              "      <td>122.0</td>\n",
              "      <td>102.5</td>\n",
              "      <td>36.8</td>\n",
              "      <td>0.340</td>\n",
              "      <td>27</td>\n",
              "    </tr>\n",
              "    <tr>\n",
              "      <th>765</th>\n",
              "      <td>5</td>\n",
              "      <td>121.0</td>\n",
              "      <td>112.0</td>\n",
              "      <td>26.2</td>\n",
              "      <td>0.245</td>\n",
              "      <td>30</td>\n",
              "    </tr>\n",
              "    <tr>\n",
              "      <th>766</th>\n",
              "      <td>1</td>\n",
              "      <td>126.0</td>\n",
              "      <td>169.5</td>\n",
              "      <td>30.1</td>\n",
              "      <td>0.349</td>\n",
              "      <td>47</td>\n",
              "    </tr>\n",
              "    <tr>\n",
              "      <th>767</th>\n",
              "      <td>1</td>\n",
              "      <td>93.0</td>\n",
              "      <td>102.5</td>\n",
              "      <td>30.4</td>\n",
              "      <td>0.315</td>\n",
              "      <td>23</td>\n",
              "    </tr>\n",
              "  </tbody>\n",
              "</table>\n",
              "<p>768 rows × 6 columns</p>\n",
              "</div>\n",
              "      <button class=\"colab-df-convert\" onclick=\"convertToInteractive('df-37291658-3edf-4621-a6e8-a8f79864a225')\"\n",
              "              title=\"Convert this dataframe to an interactive table.\"\n",
              "              style=\"display:none;\">\n",
              "        \n",
              "  <svg xmlns=\"http://www.w3.org/2000/svg\" height=\"24px\"viewBox=\"0 0 24 24\"\n",
              "       width=\"24px\">\n",
              "    <path d=\"M0 0h24v24H0V0z\" fill=\"none\"/>\n",
              "    <path d=\"M18.56 5.44l.94 2.06.94-2.06 2.06-.94-2.06-.94-.94-2.06-.94 2.06-2.06.94zm-11 1L8.5 8.5l.94-2.06 2.06-.94-2.06-.94L8.5 2.5l-.94 2.06-2.06.94zm10 10l.94 2.06.94-2.06 2.06-.94-2.06-.94-.94-2.06-.94 2.06-2.06.94z\"/><path d=\"M17.41 7.96l-1.37-1.37c-.4-.4-.92-.59-1.43-.59-.52 0-1.04.2-1.43.59L10.3 9.45l-7.72 7.72c-.78.78-.78 2.05 0 2.83L4 21.41c.39.39.9.59 1.41.59.51 0 1.02-.2 1.41-.59l7.78-7.78 2.81-2.81c.8-.78.8-2.07 0-2.86zM5.41 20L4 18.59l7.72-7.72 1.47 1.35L5.41 20z\"/>\n",
              "  </svg>\n",
              "      </button>\n",
              "      \n",
              "  <style>\n",
              "    .colab-df-container {\n",
              "      display:flex;\n",
              "      flex-wrap:wrap;\n",
              "      gap: 12px;\n",
              "    }\n",
              "\n",
              "    .colab-df-convert {\n",
              "      background-color: #E8F0FE;\n",
              "      border: none;\n",
              "      border-radius: 50%;\n",
              "      cursor: pointer;\n",
              "      display: none;\n",
              "      fill: #1967D2;\n",
              "      height: 32px;\n",
              "      padding: 0 0 0 0;\n",
              "      width: 32px;\n",
              "    }\n",
              "\n",
              "    .colab-df-convert:hover {\n",
              "      background-color: #E2EBFA;\n",
              "      box-shadow: 0px 1px 2px rgba(60, 64, 67, 0.3), 0px 1px 3px 1px rgba(60, 64, 67, 0.15);\n",
              "      fill: #174EA6;\n",
              "    }\n",
              "\n",
              "    [theme=dark] .colab-df-convert {\n",
              "      background-color: #3B4455;\n",
              "      fill: #D2E3FC;\n",
              "    }\n",
              "\n",
              "    [theme=dark] .colab-df-convert:hover {\n",
              "      background-color: #434B5C;\n",
              "      box-shadow: 0px 1px 3px 1px rgba(0, 0, 0, 0.15);\n",
              "      filter: drop-shadow(0px 1px 2px rgba(0, 0, 0, 0.3));\n",
              "      fill: #FFFFFF;\n",
              "    }\n",
              "  </style>\n",
              "\n",
              "      <script>\n",
              "        const buttonEl =\n",
              "          document.querySelector('#df-37291658-3edf-4621-a6e8-a8f79864a225 button.colab-df-convert');\n",
              "        buttonEl.style.display =\n",
              "          google.colab.kernel.accessAllowed ? 'block' : 'none';\n",
              "\n",
              "        async function convertToInteractive(key) {\n",
              "          const element = document.querySelector('#df-37291658-3edf-4621-a6e8-a8f79864a225');\n",
              "          const dataTable =\n",
              "            await google.colab.kernel.invokeFunction('convertToInteractive',\n",
              "                                                     [key], {});\n",
              "          if (!dataTable) return;\n",
              "\n",
              "          const docLinkHtml = 'Like what you see? Visit the ' +\n",
              "            '<a target=\"_blank\" href=https://colab.research.google.com/notebooks/data_table.ipynb>data table notebook</a>'\n",
              "            + ' to learn more about interactive tables.';\n",
              "          element.innerHTML = '';\n",
              "          dataTable['output_type'] = 'display_data';\n",
              "          await google.colab.output.renderOutput(dataTable, element);\n",
              "          const docLink = document.createElement('div');\n",
              "          docLink.innerHTML = docLinkHtml;\n",
              "          element.appendChild(docLink);\n",
              "        }\n",
              "      </script>\n",
              "    </div>\n",
              "  </div>\n",
              "  "
            ]
          },
          "metadata": {},
          "execution_count": 1763
        }
      ]
    },
    {
      "cell_type": "code",
      "execution_count": 1764,
      "metadata": {
        "id": "xYuKlKq_U5PM"
      },
      "outputs": [],
      "source": [
        "# Atribuição da variável dependente ou target à variável y:\n",
        "\n",
        "y = df.iloc[:, -1]"
      ]
    },
    {
      "cell_type": "code",
      "execution_count": 1765,
      "metadata": {
        "colab": {
          "base_uri": "https://localhost:8080/",
          "height": 206
        },
        "id": "w0tJk3N5U9ed",
        "outputId": "1d187047-45ae-46ea-ae74-c7d1c4aeaac1"
      },
      "outputs": [
        {
          "output_type": "execute_result",
          "data": {
            "text/plain": [
              "   pregnancies  glucose  insulin   bmi  diabetespedigreefunction  age\n",
              "0            6    148.0    169.5  33.6                     0.627   50\n",
              "1            1     85.0    102.5  26.6                     0.351   31\n",
              "2            8    183.0    169.5  23.3                     0.672   32\n",
              "3            1     89.0     94.0  28.1                     0.167   21\n",
              "4            0    137.0    168.0  43.1                     2.288   33"
            ],
            "text/html": [
              "\n",
              "  <div id=\"df-394e5f97-14d7-423c-95cf-607b638b135c\">\n",
              "    <div class=\"colab-df-container\">\n",
              "      <div>\n",
              "<style scoped>\n",
              "    .dataframe tbody tr th:only-of-type {\n",
              "        vertical-align: middle;\n",
              "    }\n",
              "\n",
              "    .dataframe tbody tr th {\n",
              "        vertical-align: top;\n",
              "    }\n",
              "\n",
              "    .dataframe thead th {\n",
              "        text-align: right;\n",
              "    }\n",
              "</style>\n",
              "<table border=\"1\" class=\"dataframe\">\n",
              "  <thead>\n",
              "    <tr style=\"text-align: right;\">\n",
              "      <th></th>\n",
              "      <th>pregnancies</th>\n",
              "      <th>glucose</th>\n",
              "      <th>insulin</th>\n",
              "      <th>bmi</th>\n",
              "      <th>diabetespedigreefunction</th>\n",
              "      <th>age</th>\n",
              "    </tr>\n",
              "  </thead>\n",
              "  <tbody>\n",
              "    <tr>\n",
              "      <th>0</th>\n",
              "      <td>6</td>\n",
              "      <td>148.0</td>\n",
              "      <td>169.5</td>\n",
              "      <td>33.6</td>\n",
              "      <td>0.627</td>\n",
              "      <td>50</td>\n",
              "    </tr>\n",
              "    <tr>\n",
              "      <th>1</th>\n",
              "      <td>1</td>\n",
              "      <td>85.0</td>\n",
              "      <td>102.5</td>\n",
              "      <td>26.6</td>\n",
              "      <td>0.351</td>\n",
              "      <td>31</td>\n",
              "    </tr>\n",
              "    <tr>\n",
              "      <th>2</th>\n",
              "      <td>8</td>\n",
              "      <td>183.0</td>\n",
              "      <td>169.5</td>\n",
              "      <td>23.3</td>\n",
              "      <td>0.672</td>\n",
              "      <td>32</td>\n",
              "    </tr>\n",
              "    <tr>\n",
              "      <th>3</th>\n",
              "      <td>1</td>\n",
              "      <td>89.0</td>\n",
              "      <td>94.0</td>\n",
              "      <td>28.1</td>\n",
              "      <td>0.167</td>\n",
              "      <td>21</td>\n",
              "    </tr>\n",
              "    <tr>\n",
              "      <th>4</th>\n",
              "      <td>0</td>\n",
              "      <td>137.0</td>\n",
              "      <td>168.0</td>\n",
              "      <td>43.1</td>\n",
              "      <td>2.288</td>\n",
              "      <td>33</td>\n",
              "    </tr>\n",
              "  </tbody>\n",
              "</table>\n",
              "</div>\n",
              "      <button class=\"colab-df-convert\" onclick=\"convertToInteractive('df-394e5f97-14d7-423c-95cf-607b638b135c')\"\n",
              "              title=\"Convert this dataframe to an interactive table.\"\n",
              "              style=\"display:none;\">\n",
              "        \n",
              "  <svg xmlns=\"http://www.w3.org/2000/svg\" height=\"24px\"viewBox=\"0 0 24 24\"\n",
              "       width=\"24px\">\n",
              "    <path d=\"M0 0h24v24H0V0z\" fill=\"none\"/>\n",
              "    <path d=\"M18.56 5.44l.94 2.06.94-2.06 2.06-.94-2.06-.94-.94-2.06-.94 2.06-2.06.94zm-11 1L8.5 8.5l.94-2.06 2.06-.94-2.06-.94L8.5 2.5l-.94 2.06-2.06.94zm10 10l.94 2.06.94-2.06 2.06-.94-2.06-.94-.94-2.06-.94 2.06-2.06.94z\"/><path d=\"M17.41 7.96l-1.37-1.37c-.4-.4-.92-.59-1.43-.59-.52 0-1.04.2-1.43.59L10.3 9.45l-7.72 7.72c-.78.78-.78 2.05 0 2.83L4 21.41c.39.39.9.59 1.41.59.51 0 1.02-.2 1.41-.59l7.78-7.78 2.81-2.81c.8-.78.8-2.07 0-2.86zM5.41 20L4 18.59l7.72-7.72 1.47 1.35L5.41 20z\"/>\n",
              "  </svg>\n",
              "      </button>\n",
              "      \n",
              "  <style>\n",
              "    .colab-df-container {\n",
              "      display:flex;\n",
              "      flex-wrap:wrap;\n",
              "      gap: 12px;\n",
              "    }\n",
              "\n",
              "    .colab-df-convert {\n",
              "      background-color: #E8F0FE;\n",
              "      border: none;\n",
              "      border-radius: 50%;\n",
              "      cursor: pointer;\n",
              "      display: none;\n",
              "      fill: #1967D2;\n",
              "      height: 32px;\n",
              "      padding: 0 0 0 0;\n",
              "      width: 32px;\n",
              "    }\n",
              "\n",
              "    .colab-df-convert:hover {\n",
              "      background-color: #E2EBFA;\n",
              "      box-shadow: 0px 1px 2px rgba(60, 64, 67, 0.3), 0px 1px 3px 1px rgba(60, 64, 67, 0.15);\n",
              "      fill: #174EA6;\n",
              "    }\n",
              "\n",
              "    [theme=dark] .colab-df-convert {\n",
              "      background-color: #3B4455;\n",
              "      fill: #D2E3FC;\n",
              "    }\n",
              "\n",
              "    [theme=dark] .colab-df-convert:hover {\n",
              "      background-color: #434B5C;\n",
              "      box-shadow: 0px 1px 3px 1px rgba(0, 0, 0, 0.15);\n",
              "      filter: drop-shadow(0px 1px 2px rgba(0, 0, 0, 0.3));\n",
              "      fill: #FFFFFF;\n",
              "    }\n",
              "  </style>\n",
              "\n",
              "      <script>\n",
              "        const buttonEl =\n",
              "          document.querySelector('#df-394e5f97-14d7-423c-95cf-607b638b135c button.colab-df-convert');\n",
              "        buttonEl.style.display =\n",
              "          google.colab.kernel.accessAllowed ? 'block' : 'none';\n",
              "\n",
              "        async function convertToInteractive(key) {\n",
              "          const element = document.querySelector('#df-394e5f97-14d7-423c-95cf-607b638b135c');\n",
              "          const dataTable =\n",
              "            await google.colab.kernel.invokeFunction('convertToInteractive',\n",
              "                                                     [key], {});\n",
              "          if (!dataTable) return;\n",
              "\n",
              "          const docLinkHtml = 'Like what you see? Visit the ' +\n",
              "            '<a target=\"_blank\" href=https://colab.research.google.com/notebooks/data_table.ipynb>data table notebook</a>'\n",
              "            + ' to learn more about interactive tables.';\n",
              "          element.innerHTML = '';\n",
              "          dataTable['output_type'] = 'display_data';\n",
              "          await google.colab.output.renderOutput(dataTable, element);\n",
              "          const docLink = document.createElement('div');\n",
              "          docLink.innerHTML = docLinkHtml;\n",
              "          element.appendChild(docLink);\n",
              "        }\n",
              "      </script>\n",
              "    </div>\n",
              "  </div>\n",
              "  "
            ]
          },
          "metadata": {},
          "execution_count": 1765
        }
      ],
      "source": [
        "# Visualização das primeiras linhas da variável X:\n",
        "\n",
        "X.head()"
      ]
    },
    {
      "cell_type": "code",
      "execution_count": 1766,
      "metadata": {
        "colab": {
          "base_uri": "https://localhost:8080/"
        },
        "id": "DGoqPyKHU-_4",
        "outputId": "33b69a5c-9fbf-4619-b6b4-7edf826d265a"
      },
      "outputs": [
        {
          "output_type": "execute_result",
          "data": {
            "text/plain": [
              "0    1\n",
              "1    0\n",
              "2    1\n",
              "3    0\n",
              "4    1\n",
              "Name: outcome, dtype: int64"
            ]
          },
          "metadata": {},
          "execution_count": 1766
        }
      ],
      "source": [
        "# Visualização das primeiras linhas da variável y:\n",
        "\n",
        "y.head()"
      ]
    },
    {
      "cell_type": "code",
      "execution_count": 1767,
      "metadata": {
        "id": "xHwbsct3VAQX"
      },
      "outputs": [],
      "source": [
        "# Separação entre dados de treino e dados de teste:\n",
        "# 20 % para teste e 80 % de dados para treino:\n",
        "\n",
        "X_train, X_test, y_train, y_test = train_test_split(X, y, test_size = 0.2, random_state = 0)"
      ]
    },
    {
      "cell_type": "code",
      "execution_count": 1768,
      "metadata": {
        "colab": {
          "base_uri": "https://localhost:8080/"
        },
        "id": "DD7iHR_HVV5l",
        "outputId": "41e28b78-aeeb-4575-b957-25e9ba88026e"
      },
      "outputs": [
        {
          "output_type": "execute_result",
          "data": {
            "text/plain": [
              "614"
            ]
          },
          "metadata": {},
          "execution_count": 1768
        }
      ],
      "source": [
        "# Quantidade de linhas para treinamento:\n",
        "\n",
        "X_train.shape[0]"
      ]
    },
    {
      "cell_type": "code",
      "execution_count": 1769,
      "metadata": {
        "colab": {
          "base_uri": "https://localhost:8080/"
        },
        "id": "VkWWXbB5VaGd",
        "outputId": "7a57bfd5-3729-4c54-f050-13d010aad57e"
      },
      "outputs": [
        {
          "output_type": "execute_result",
          "data": {
            "text/plain": [
              "154"
            ]
          },
          "metadata": {},
          "execution_count": 1769
        }
      ],
      "source": [
        "# Quantidade de linhas para teste do modelo:\n",
        "\n",
        "X_test.shape[0]"
      ]
    },
    {
      "cell_type": "markdown",
      "metadata": {
        "id": "MJE7bFV2VwSp"
      },
      "source": [
        "### Feature Scaling"
      ]
    },
    {
      "cell_type": "code",
      "execution_count": 1770,
      "metadata": {
        "id": "67u-mqQNVz67"
      },
      "outputs": [],
      "source": [
        "# Importação de método para realizar padronização nos dados:\n",
        "\n",
        "from sklearn.preprocessing import StandardScaler"
      ]
    },
    {
      "cell_type": "code",
      "execution_count": 1771,
      "metadata": {
        "id": "GLg7WcG2V1O3"
      },
      "outputs": [],
      "source": [
        "# Atribuição de tal método de padronização de escala à uma variável:\n",
        "\n",
        "sc = StandardScaler()"
      ]
    },
    {
      "cell_type": "code",
      "execution_count": 1772,
      "metadata": {
        "id": "4P35i_pWV4Kz"
      },
      "outputs": [],
      "source": [
        "# Padronização dos dados de treino:\n",
        "\n",
        "X_train_2 = sc.fit_transform(X_train)"
      ]
    },
    {
      "cell_type": "code",
      "execution_count": 1773,
      "metadata": {
        "id": "mfT5Bbd1V48E"
      },
      "outputs": [],
      "source": [
        "# Padronização dos dados de teste:\n",
        "\n",
        "X_test_2 = sc.transform(X_test)"
      ]
    },
    {
      "cell_type": "markdown",
      "metadata": {
        "id": "-qUVWrs_WCKA"
      },
      "source": [
        "### Treino no modelo de KNN (K-Nearest Neighbors)"
      ]
    },
    {
      "cell_type": "code",
      "execution_count": 1774,
      "metadata": {
        "id": "QloHr6YtWLSQ"
      },
      "outputs": [],
      "source": [
        "# Importação do modelo de KNeighborsClassifier:\n",
        "\n",
        "from sklearn.neighbors import KNeighborsClassifier"
      ]
    },
    {
      "cell_type": "code",
      "execution_count": 1775,
      "metadata": {
        "id": "kHF38RBiWNSE"
      },
      "outputs": [],
      "source": [
        "# KNeighborsClassifier atribuído à uma variável:\n",
        "\n",
        "knn = KNeighborsClassifier(n_neighbors = 5, metric = 'minkowski', p = 2)"
      ]
    },
    {
      "cell_type": "code",
      "execution_count": 1776,
      "metadata": {
        "colab": {
          "base_uri": "https://localhost:8080/"
        },
        "id": "RI_MBLe5WTpl",
        "outputId": "a01ee2ec-34ec-49ca-f540-06d862a60b34"
      },
      "outputs": [
        {
          "output_type": "execute_result",
          "data": {
            "text/plain": [
              "KNeighborsClassifier()"
            ]
          },
          "metadata": {},
          "execution_count": 1776
        }
      ],
      "source": [
        "# Treino de KNeighborsClassifier sobre o conjunto de dados de treino:\n",
        "\n",
        "knn.fit(X_train_2, y_train)"
      ]
    },
    {
      "cell_type": "markdown",
      "metadata": {
        "id": "agHr-t-nWc1U"
      },
      "source": [
        "### Teste de acurácia do modelo de KNN"
      ]
    },
    {
      "cell_type": "code",
      "execution_count": 1777,
      "metadata": {
        "id": "FqLZ_Om5Wfgw"
      },
      "outputs": [],
      "source": [
        "# Importação de métricas para avaliação de acurácia preditiva do modelo treinado:\n",
        "\n",
        "from sklearn.metrics import confusion_matrix, accuracy_score"
      ]
    },
    {
      "cell_type": "code",
      "execution_count": 1778,
      "metadata": {
        "id": "RDm0ge3zWgL5"
      },
      "outputs": [],
      "source": [
        "# Atribuição de dados previstos pelo modelo à uma variável:\n",
        "\n",
        "y_pred = knn.predict(X_test_2)"
      ]
    },
    {
      "cell_type": "code",
      "execution_count": 1779,
      "metadata": {
        "colab": {
          "base_uri": "https://localhost:8080/"
        },
        "id": "_jMS9r-YWlzL",
        "outputId": "a1809efd-b269-4629-fca5-48fcd13ed450"
      },
      "outputs": [
        {
          "output_type": "execute_result",
          "data": {
            "text/plain": [
              "0.81"
            ]
          },
          "metadata": {},
          "execution_count": 1779
        }
      ],
      "source": [
        "# Pontuação de acurácia preditiva do modelo de KNeighborsClassifier:\n",
        "\n",
        "accuracy_score(y_test, y_pred).round(2)"
      ]
    },
    {
      "cell_type": "code",
      "execution_count": 1780,
      "metadata": {
        "id": "fic1Np9mWq_S"
      },
      "outputs": [],
      "source": [
        "# Confusão de matriz do modelo:\n",
        "\n",
        "cm = confusion_matrix(y_test, y_pred)"
      ]
    },
    {
      "cell_type": "code",
      "execution_count": 1781,
      "metadata": {
        "colab": {
          "base_uri": "https://localhost:8080/",
          "height": 320
        },
        "id": "HQyQQSiYWwrk",
        "outputId": "1960b78c-8ae4-41f5-dbba-2c5cd7b53313"
      },
      "outputs": [
        {
          "output_type": "display_data",
          "data": {
            "text/plain": [
              "<Figure size 864x360 with 2 Axes>"
            ],
            "image/png": "[encoded data removed]"
          },
          "metadata": {}
        }
      ],
      "source": [
        "# Confusão de matriz do modelo para vermos quantas previsões realizadas pelo modelo foram corretas ou incorretas:\n",
        "\n",
        "plt.figure(figsize = (12, 5))\n",
        "sns.heatmap(cm, annot = True);"
      ]
    },
    {
      "cell_type": "markdown",
      "metadata": {
        "id": "LzFEabEWXH4E"
      },
      "source": [
        "### Teste no modelo de árvore de decisão"
      ]
    },
    {
      "cell_type": "code",
      "execution_count": 1782,
      "metadata": {
        "id": "MHanLDYAXMLd"
      },
      "outputs": [],
      "source": [
        "# Importação do modelo de árvore de decisão:\n",
        "\n",
        "from sklearn.tree import DecisionTreeClassifier"
      ]
    },
    {
      "cell_type": "code",
      "execution_count": 1783,
      "metadata": {
        "id": "du_b2q1cXNkQ"
      },
      "outputs": [],
      "source": [
        "# Modelo de árvore de decisão atribuído à uma variável:\n",
        "\n",
        "decision_tree = DecisionTreeClassifier(criterion = 'entropy', random_state = 0)"
      ]
    },
    {
      "cell_type": "code",
      "execution_count": 1784,
      "metadata": {
        "colab": {
          "base_uri": "https://localhost:8080/"
        },
        "id": "bAi4WZWCXS0U",
        "outputId": "2bb1016b-abda-400b-e8bd-4565675d0893"
      },
      "outputs": [
        {
          "output_type": "execute_result",
          "data": {
            "text/plain": [
              "DecisionTreeClassifier(criterion='entropy', random_state=0)"
            ]
          },
          "metadata": {},
          "execution_count": 1784
        }
      ],
      "source": [
        "# Treino do modelo de árvore de decisão:\n",
        "\n",
        "decision_tree.fit(X_train_2, y_train)"
      ]
    },
    {
      "cell_type": "markdown",
      "metadata": {
        "id": "C6Cdz8J7XcaU"
      },
      "source": [
        "### Teste de acurácia do modelo de árvore de decisão"
      ]
    },
    {
      "cell_type": "code",
      "execution_count": 1785,
      "metadata": {
        "id": "O_zKGkVpXpJT"
      },
      "outputs": [],
      "source": [
        "# Dados previstos pelo modelo treinado:\n",
        "\n",
        "y_pred_2 = decision_tree.predict(X_test_2)"
      ]
    },
    {
      "cell_type": "code",
      "execution_count": 1786,
      "metadata": {
        "colab": {
          "base_uri": "https://localhost:8080/"
        },
        "id": "xDjOVRRfXspy",
        "outputId": "fc0902a1-28d2-4926-ae82-05cf0ec9c586"
      },
      "outputs": [
        {
          "output_type": "execute_result",
          "data": {
            "text/plain": [
              "0.9"
            ]
          },
          "metadata": {},
          "execution_count": 1786
        }
      ],
      "source": [
        "# Acurácia preditiva do modelo de árvore de decisão:\n",
        "\n",
        "accuracy_score(y_test, y_pred_2).round(2)"
      ]
    },
    {
      "cell_type": "code",
      "execution_count": 1787,
      "metadata": {
        "id": "MtVxH4UhZAWs"
      },
      "outputs": [],
      "source": [
        "# Confusão de matriz do modelo treinado de árvore de decisão:\n",
        "\n",
        "cm = confusion_matrix(y_test, y_pred_2)"
      ]
    },
    {
      "cell_type": "code",
      "execution_count": 1788,
      "metadata": {
        "colab": {
          "base_uri": "https://localhost:8080/",
          "height": 320
        },
        "id": "kmz1Iw6AX-Ax",
        "outputId": "e41ec6d8-1337-49cb-d282-a3d40c0013fb"
      },
      "outputs": [
        {
          "output_type": "display_data",
          "data": {
            "text/plain": [
              "<Figure size 864x360 with 2 Axes>"
            ],
            "image/png": "[encoded data removed]"
          },
          "metadata": {}
        }
      ],
      "source": [
        "# Gráfico da confusão de matriz:\n",
        "\n",
        "plt.figure(figsize = (12, 5))\n",
        "sns.heatmap(cm, annot = True);"
      ]
    },
    {
      "cell_type": "markdown",
      "metadata": {
        "id": "2VVz47CKYDcQ"
      },
      "source": [
        "### Teste de modelo de floresta aleatória"
      ]
    },
    {
      "cell_type": "code",
      "execution_count": 1789,
      "metadata": {
        "id": "DlUUV6_sYNs2"
      },
      "outputs": [],
      "source": [
        "# Importação do modelo de floresta aleatória:\n",
        "\n",
        "from sklearn.ensemble import RandomForestClassifier"
      ]
    },
    {
      "cell_type": "code",
      "execution_count": 1790,
      "metadata": {
        "id": "e63f76cnYOKA"
      },
      "outputs": [],
      "source": [
        "# Atribuição de modelo à uma variável:\n",
        "\n",
        "random_forest_classifier = RandomForestClassifier(random_state = 0,\n",
        "                                                  n_estimators = 10)"
      ]
    },
    {
      "cell_type": "code",
      "execution_count": 1791,
      "metadata": {
        "colab": {
          "base_uri": "https://localhost:8080/"
        },
        "id": "m7KHW3dzYPvN",
        "outputId": "0ff66d3d-2a2d-4a08-fddd-1cc7b033b3a8"
      },
      "outputs": [
        {
          "output_type": "execute_result",
          "data": {
            "text/plain": [
              "RandomForestClassifier(n_estimators=10, random_state=0)"
            ]
          },
          "metadata": {},
          "execution_count": 1791
        }
      ],
      "source": [
        "# Treino do modelo de floresta aleatória:\n",
        "\n",
        "random_forest_classifier.fit(X_train_2, y_train)"
      ]
    },
    {
      "cell_type": "markdown",
      "metadata": {
        "id": "WU9W7iLzYY7k"
      },
      "source": [
        "### Teste de acurácia do modelo de floresta aleatória"
      ]
    },
    {
      "cell_type": "code",
      "execution_count": 1792,
      "metadata": {
        "id": "pIQ3JJwwYbo9"
      },
      "outputs": [],
      "source": [
        "# Dados previstos pelo modelo treinado:\n",
        "\n",
        "y_pred_3 = random_forest_classifier.predict(X_test_2)"
      ]
    },
    {
      "cell_type": "code",
      "execution_count": 1793,
      "metadata": {
        "colab": {
          "base_uri": "https://localhost:8080/"
        },
        "id": "mT0dDbBaYjGA",
        "outputId": "728005f8-dbd3-4798-cfbc-3384293a09b9"
      },
      "outputs": [
        {
          "output_type": "execute_result",
          "data": {
            "text/plain": [
              "0.9"
            ]
          },
          "metadata": {},
          "execution_count": 1793
        }
      ],
      "source": [
        "# Acurácia preditiva do modelo treinado:\n",
        "\n",
        "accuracy_score(y_test, y_pred_3).round(2)"
      ]
    },
    {
      "cell_type": "code",
      "execution_count": 1794,
      "metadata": {
        "id": "MqUjgCjKZPw9"
      },
      "outputs": [],
      "source": [
        "# Confusão de matriz:\n",
        "\n",
        "cm = confusion_matrix(y_test, y_pred_3)"
      ]
    },
    {
      "cell_type": "code",
      "execution_count": 1795,
      "metadata": {
        "colab": {
          "base_uri": "https://localhost:8080/",
          "height": 320
        },
        "id": "nlzr_QKBYl97",
        "outputId": "511bc547-661c-447f-ff0c-084ee279bc38"
      },
      "outputs": [
        {
          "output_type": "display_data",
          "data": {
            "text/plain": [
              "<Figure size 864x360 with 2 Axes>"
            ],
            "image/png": "[encoded data removed]"
          },
          "metadata": {}
        }
      ],
      "source": [
        "# Confusão de matriz do modelo treinado:\n",
        "\n",
        "plt.figure(figsize = (12, 5))\n",
        "sns.heatmap(cm, annot = True);"
      ]
    },
    {
      "cell_type": "markdown",
      "metadata": {
        "id": "nPTbSgG5ZXmn"
      },
      "source": [
        "### Teste de modelo de Naive Bayes"
      ]
    },
    {
      "cell_type": "code",
      "execution_count": 1796,
      "metadata": {
        "id": "G36etEWtZbqM"
      },
      "outputs": [],
      "source": [
        "# Importação do modelo de Naive Bayes:\n",
        "\n",
        "from sklearn.naive_bayes import GaussianNB"
      ]
    },
    {
      "cell_type": "code",
      "execution_count": 1797,
      "metadata": {
        "id": "e2akGDfZZdzn"
      },
      "outputs": [],
      "source": [
        "# Atribuição de modelo à uma variável:\n",
        "\n",
        "naive_bayes = GaussianNB()"
      ]
    },
    {
      "cell_type": "code",
      "execution_count": 1798,
      "metadata": {
        "colab": {
          "base_uri": "https://localhost:8080/"
        },
        "id": "opHqZuFPZhm4",
        "outputId": "8aeac7f0-e7ad-45b0-b511-d786f20ac726"
      },
      "outputs": [
        {
          "output_type": "execute_result",
          "data": {
            "text/plain": [
              "GaussianNB()"
            ]
          },
          "metadata": {},
          "execution_count": 1798
        }
      ],
      "source": [
        "# Treino do modelo sobre o conjunto de dados de treino:\n",
        "\n",
        "naive_bayes.fit(X_train_2, y_train)"
      ]
    },
    {
      "cell_type": "markdown",
      "metadata": {
        "id": "d2nxURjJZnT_"
      },
      "source": [
        "### Teste de acurácia do modelo de Naive Bayes"
      ]
    },
    {
      "cell_type": "code",
      "execution_count": 1799,
      "metadata": {
        "id": "5WBIYX0fZqsj"
      },
      "outputs": [],
      "source": [
        "# Dados previstos pelo modelo treinado sobre os dados de teste:\n",
        "\n",
        "y_pred_4 = naive_bayes.predict(X_test_2)"
      ]
    },
    {
      "cell_type": "code",
      "execution_count": 1800,
      "metadata": {
        "colab": {
          "base_uri": "https://localhost:8080/"
        },
        "id": "otXoz21kZvRu",
        "outputId": "0582b2e2-9ae4-4d97-ffbc-4ff56c45d33e"
      },
      "outputs": [
        {
          "output_type": "execute_result",
          "data": {
            "text/plain": [
              "0.81"
            ]
          },
          "metadata": {},
          "execution_count": 1800
        }
      ],
      "source": [
        "# Acurácia preditiva do modelo treinado:\n",
        "\n",
        "accuracy_score(y_test, y_pred_4).round(2)"
      ]
    },
    {
      "cell_type": "markdown",
      "metadata": {
        "id": "O9w4is3vaVn5"
      },
      "source": [
        "### Teste do modelo de regressão logística"
      ]
    },
    {
      "cell_type": "code",
      "execution_count": 1801,
      "metadata": {
        "id": "14FodB40adKo"
      },
      "outputs": [],
      "source": [
        "# Importação do modelo de regressão logística:\n",
        "\n",
        "from sklearn.linear_model import LogisticRegression"
      ]
    },
    {
      "cell_type": "code",
      "execution_count": 1802,
      "metadata": {
        "id": "-DKVKd0IafTw"
      },
      "outputs": [],
      "source": [
        "# Atribuição do modelo à uma variável:\n",
        "\n",
        "log_reg = LogisticRegression(random_state = 0)"
      ]
    },
    {
      "cell_type": "code",
      "execution_count": 1803,
      "metadata": {
        "colab": {
          "base_uri": "https://localhost:8080/"
        },
        "id": "-kRiOA4FahWB",
        "outputId": "7f863eed-103f-4ae2-ba95-9a018a92f7fd"
      },
      "outputs": [
        {
          "output_type": "execute_result",
          "data": {
            "text/plain": [
              "LogisticRegression(random_state=0)"
            ]
          },
          "metadata": {},
          "execution_count": 1803
        }
      ],
      "source": [
        "# Treino do modelo sobre o conjunto de dados de treino:\n",
        "\n",
        "log_reg.fit(X_train_2, y_train)"
      ]
    },
    {
      "cell_type": "markdown",
      "metadata": {
        "id": "z7Gm4WN-alKh"
      },
      "source": [
        "### Teste de acurácia do modelo de Regressão Logística"
      ]
    },
    {
      "cell_type": "code",
      "execution_count": 1804,
      "metadata": {
        "id": "gNhPYTqtapax"
      },
      "outputs": [],
      "source": [
        "# Dados previstos pelo modelo:\n",
        "\n",
        "y_pred_5 = log_reg.predict(X_test_2)"
      ]
    },
    {
      "cell_type": "code",
      "execution_count": 1805,
      "metadata": {
        "colab": {
          "base_uri": "https://localhost:8080/"
        },
        "id": "vm2AEyZYavRB",
        "outputId": "12d512aa-8b17-411f-ae8b-4034f64a559e"
      },
      "outputs": [
        {
          "output_type": "execute_result",
          "data": {
            "text/plain": [
              "0.81"
            ]
          },
          "metadata": {},
          "execution_count": 1805
        }
      ],
      "source": [
        "# Acurácia preditiva do modelo:\n",
        "\n",
        "accuracy_score(y_test, y_pred_5).round(2)"
      ]
    },
    {
      "cell_type": "markdown",
      "metadata": {
        "id": "A1XskJqFbC7Y"
      },
      "source": [
        "### Teste do modelo de SVM"
      ]
    },
    {
      "cell_type": "code",
      "execution_count": 1806,
      "metadata": {
        "id": "zhUR8tNubILX"
      },
      "outputs": [],
      "source": [
        "# Importação do modelo de SVM:\n",
        "\n",
        "from sklearn.svm import SVC"
      ]
    },
    {
      "cell_type": "code",
      "execution_count": 1807,
      "metadata": {
        "id": "4FUQ58yPbJSz"
      },
      "outputs": [],
      "source": [
        "# Atribuição do modelo de SVM à uma variável:\n",
        "\n",
        "svm = SVC(kernel = 'linear', random_state = 0)"
      ]
    },
    {
      "cell_type": "code",
      "execution_count": 1808,
      "metadata": {
        "colab": {
          "base_uri": "https://localhost:8080/"
        },
        "id": "HOkgv-8AbMeV",
        "outputId": "7a2d3e01-d889-4339-c377-0811ca33c436"
      },
      "outputs": [
        {
          "output_type": "execute_result",
          "data": {
            "text/plain": [
              "SVC(kernel='linear', random_state=0)"
            ]
          },
          "metadata": {},
          "execution_count": 1808
        }
      ],
      "source": [
        "# Treino do modelo de SVM sobre o conjunto de dados de treino:\n",
        "\n",
        "svm.fit(X_train_2, y_train)"
      ]
    },
    {
      "cell_type": "markdown",
      "metadata": {
        "id": "Fjn7uVdBbQqJ"
      },
      "source": [
        "### Teste de acurácia do modelo de SVM"
      ]
    },
    {
      "cell_type": "code",
      "execution_count": 1809,
      "metadata": {
        "id": "-ZAhE8m3bQ8B"
      },
      "outputs": [],
      "source": [
        "# Dados previsto pelo modelo de SVM:\n",
        "\n",
        "y_pred_6 = svm.predict(X_test_2)"
      ]
    },
    {
      "cell_type": "code",
      "execution_count": 1810,
      "metadata": {
        "colab": {
          "base_uri": "https://localhost:8080/"
        },
        "id": "JNmthsJNbVNW",
        "outputId": "9336979c-b473-4421-dec3-8b65a8bcb182"
      },
      "outputs": [
        {
          "output_type": "execute_result",
          "data": {
            "text/plain": [
              "0.81"
            ]
          },
          "metadata": {},
          "execution_count": 1810
        }
      ],
      "source": [
        "# Acurácia preditiva do modelo de SVM:\n",
        "\n",
        "accuracy_score(y_test, y_pred_6).round(2)"
      ]
    },
    {
      "cell_type": "markdown",
      "metadata": {
        "id": "W5KqNcJjbwyZ"
      },
      "source": [
        "### Teste do modelo de Kernel SVM"
      ]
    },
    {
      "cell_type": "code",
      "execution_count": 1811,
      "metadata": {
        "id": "0Hk_ntpjb0yW"
      },
      "outputs": [],
      "source": [
        "# Atribuição do modelo de kernel SVM à uma variável:\n",
        "\n",
        "kernel_svm = SVC(kernel = 'rbf', random_state = 0)"
      ]
    },
    {
      "cell_type": "code",
      "execution_count": 1812,
      "metadata": {
        "colab": {
          "base_uri": "https://localhost:8080/"
        },
        "id": "awftzAmtbzWu",
        "outputId": "f2fe3877-6036-4790-aeab-4c835169233c"
      },
      "outputs": [
        {
          "output_type": "execute_result",
          "data": {
            "text/plain": [
              "SVC(random_state=0)"
            ]
          },
          "metadata": {},
          "execution_count": 1812
        }
      ],
      "source": [
        "# Treino do modelo:\n",
        "\n",
        "kernel_svm.fit(X_train_2, y_train)"
      ]
    },
    {
      "cell_type": "markdown",
      "metadata": {
        "id": "h_wXilVnb8Yc"
      },
      "source": [
        "### Teste de acurácia do modelo de Kernel SVM"
      ]
    },
    {
      "cell_type": "code",
      "execution_count": 1813,
      "metadata": {
        "id": "nz4OwxXob5uk"
      },
      "outputs": [],
      "source": [
        "# Dados previstos pelo modelo:\n",
        "\n",
        "y_pred_7 = kernel_svm.predict(X_test_2)"
      ]
    },
    {
      "cell_type": "code",
      "execution_count": 1814,
      "metadata": {
        "colab": {
          "base_uri": "https://localhost:8080/"
        },
        "id": "Vzlk-0hOcBuC",
        "outputId": "a8a5f096-ebd8-4f00-d84d-bcfd6ee3e4a2"
      },
      "outputs": [
        {
          "output_type": "execute_result",
          "data": {
            "text/plain": [
              "0.84"
            ]
          },
          "metadata": {},
          "execution_count": 1814
        }
      ],
      "source": [
        "# Acurácia preditiva do modelo:\n",
        "\n",
        "accuracy_score(y_test, y_pred_7).round(2)"
      ]
    },
    {
      "cell_type": "markdown",
      "metadata": {
        "id": "r4nFjQtceVUq"
      },
      "source": [
        "### K-Fold Cross Validation"
      ]
    },
    {
      "cell_type": "code",
      "execution_count": 1815,
      "metadata": {
        "id": "kqAxpHZUeYfw"
      },
      "outputs": [],
      "source": [
        "# Importação do método de Validação cruzada, para vermos qual desses modelos em média é o mais preditivamente acurado: \n",
        "\n",
        "from sklearn.model_selection import cross_val_score"
      ]
    },
    {
      "cell_type": "code",
      "execution_count": 1816,
      "metadata": {
        "colab": {
          "base_uri": "https://localhost:8080/"
        },
        "id": "S_2Y9mCGeZoQ",
        "outputId": "bd16d3a2-4a2c-422d-97eb-c9bcf28f9407"
      },
      "outputs": [
        {
          "output_type": "execute_result",
          "data": {
            "text/plain": [
              "0.78"
            ]
          },
          "metadata": {},
          "execution_count": 1816
        }
      ],
      "source": [
        "# Média de pontuação de acurácia do modelo de regressão logística:\n",
        "\n",
        "cross_val_score(LogisticRegression(), X, y).mean().round(2)"
      ]
    },
    {
      "cell_type": "code",
      "execution_count": 1828,
      "metadata": {
        "colab": {
          "base_uri": "https://localhost:8080/"
        },
        "id": "0RGXdc5Gef2o",
        "outputId": "9de8f9f2-2d2b-4e00-acd7-685954fe49c2"
      },
      "outputs": [
        {
          "output_type": "execute_result",
          "data": {
            "text/plain": [
              "0.85"
            ]
          },
          "metadata": {},
          "execution_count": 1828
        }
      ],
      "source": [
        "# Média de pontuação de acurácia do modelo de árvore de decisão:\n",
        "\n",
        "cross_val_score(DecisionTreeClassifier(), X, y).mean().round(2)"
      ]
    },
    {
      "cell_type": "code",
      "execution_count": 1827,
      "metadata": {
        "colab": {
          "base_uri": "https://localhost:8080/"
        },
        "id": "CarkCNNPelut",
        "outputId": "23b877dc-24ea-44f8-883c-755d11b12237"
      },
      "outputs": [
        {
          "output_type": "execute_result",
          "data": {
            "text/plain": [
              "0.89"
            ]
          },
          "metadata": {},
          "execution_count": 1827
        }
      ],
      "source": [
        "# Média de pontuação de acurácia do modelo de floresta aleatória:\n",
        "\n",
        "cross_val_score(RandomForestClassifier(n_estimators = 200, random_state = 0), X, y).mean().round(2)"
      ]
    },
    {
      "cell_type": "code",
      "execution_count": 1819,
      "metadata": {
        "colab": {
          "base_uri": "https://localhost:8080/"
        },
        "id": "vvXUnNwFevFB",
        "outputId": "e0391f87-7d03-4d10-8a0c-a35f6f312369"
      },
      "outputs": [
        {
          "output_type": "execute_result",
          "data": {
            "text/plain": [
              "0.86"
            ]
          },
          "metadata": {},
          "execution_count": 1819
        }
      ],
      "source": [
        "# Média de pontuação de acurácia do modelo de KNeighbors:\n",
        "\n",
        "cross_val_score(KNeighborsClassifier(), X, y).mean().round(2)"
      ]
    },
    {
      "cell_type": "code",
      "execution_count": 1820,
      "metadata": {
        "colab": {
          "base_uri": "https://localhost:8080/"
        },
        "id": "eSM65wLTfKyy",
        "outputId": "60837d42-d907-4ef5-da48-b37fc1022665"
      },
      "outputs": [
        {
          "output_type": "execute_result",
          "data": {
            "text/plain": [
              "0.78"
            ]
          },
          "metadata": {},
          "execution_count": 1820
        }
      ],
      "source": [
        "# Média de pontuação de acurácia do modelo de Naive Bayes:\n",
        "\n",
        "cross_val_score(GaussianNB(), X, y).mean().round(2)"
      ]
    },
    {
      "cell_type": "code",
      "execution_count": 1821,
      "metadata": {
        "colab": {
          "base_uri": "https://localhost:8080/"
        },
        "id": "0fhsnKwnfXWG",
        "outputId": "faf2331a-e5f3-432c-fefb-416c6a7f0944"
      },
      "outputs": [
        {
          "output_type": "execute_result",
          "data": {
            "text/plain": [
              "0.78"
            ]
          },
          "metadata": {},
          "execution_count": 1821
        }
      ],
      "source": [
        "# Média de pontuação de acurácia do modelo de SVM:\n",
        "\n",
        "cross_val_score(SVC(kernel = 'linear', random_state = 0), X, y).mean().round(2)"
      ]
    },
    {
      "cell_type": "code",
      "execution_count": 1822,
      "metadata": {
        "colab": {
          "base_uri": "https://localhost:8080/"
        },
        "id": "RApSEczPfa6P",
        "outputId": "49ced7ed-1d24-4f99-a72c-c185964029a1"
      },
      "outputs": [
        {
          "output_type": "execute_result",
          "data": {
            "text/plain": [
              "0.84"
            ]
          },
          "metadata": {},
          "execution_count": 1822
        }
      ],
      "source": [
        "# Média de pontuação de acurácia do modelo de Kernel SVM:\n",
        "\n",
        "cross_val_score(SVC(kernel = 'rbf', random_state = 0), X, y).mean().round(2)"
      ]
    },
    {
      "cell_type": "markdown",
      "metadata": {
        "id": "3LqztLSxgaWJ"
      },
      "source": [
        "### Hyperparameter Tuning (GridSearch CV)\n",
        "\n",
        "---\n",
        "\n"
      ]
    },
    {
      "cell_type": "code",
      "execution_count": 1823,
      "metadata": {
        "id": "vzfExSFCgdbb"
      },
      "outputs": [],
      "source": [
        "# Importação do método para ajusre de hiperparâmetros:\n",
        "\n",
        "from sklearn.model_selection import GridSearchCV"
      ]
    },
    {
      "cell_type": "code",
      "execution_count": 1824,
      "metadata": {
        "id": "rzdpfE-zgoL6"
      },
      "outputs": [],
      "source": [
        "# Modelos e parâmetros que serão testados em cada modelo:\n",
        "\n",
        "model_params = {\n",
        "    'random_forest': {\n",
        "        'model': RandomForestClassifier(),\n",
        "        'params': {\n",
        "            'n_estimators': [10, 50, 100, 150, 200]\n",
        "        }\n",
        "    },\n",
        "    'decision_tree_classifier': {\n",
        "        'model': DecisionTreeClassifier(),\n",
        "        'params': {'criterion': ['gini', 'entropy']\n",
        "            \n",
        "        }\n",
        "    }\n",
        "}"
      ]
    },
    {
      "cell_type": "code",
      "execution_count": 1825,
      "metadata": {
        "id": "6RDAjsbzhDo1"
      },
      "outputs": [],
      "source": [
        "# Loop para termos uma lista com os melhores modelos com às melhores pontuações de acurácia preditiva,\n",
        "# e com os melhores parâmetros:\n",
        "\n",
        "scores = []\n",
        "\n",
        "for model_name, mp in model_params.items():\n",
        "    clf = GridSearchCV(mp['model'], mp['params'], cv = 5, return_train_score = False)\n",
        "    clf.fit(X, y)\n",
        "    scores.append({\n",
        "        'model': model_name,\n",
        "        'best_score': clf.best_score_,\n",
        "        'best_params': clf.best_params_\n",
        "    })"
      ]
    },
    {
      "cell_type": "code",
      "execution_count": 1829,
      "metadata": {
        "colab": {
          "base_uri": "https://localhost:8080/",
          "height": 112
        },
        "id": "ZNjvpbdIhXXv",
        "outputId": "89c29762-0cc9-4e34-c585-fc2046b6dfa6"
      },
      "outputs": [
        {
          "output_type": "execute_result",
          "data": {
            "text/plain": [
              "                      model  best_score               best_params\n",
              "0             random_forest        0.89     {'n_estimators': 100}\n",
              "1  decision_tree_classifier        0.86  {'criterion': 'entropy'}"
            ],
            "text/html": [
              "\n",
              "  <div id=\"df-aa15689a-e838-4181-af65-48a4e4316fca\">\n",
              "    <div class=\"colab-df-container\">\n",
              "      <div>\n",
              "<style scoped>\n",
              "    .dataframe tbody tr th:only-of-type {\n",
              "        vertical-align: middle;\n",
              "    }\n",
              "\n",
              "    .dataframe tbody tr th {\n",
              "        vertical-align: top;\n",
              "    }\n",
              "\n",
              "    .dataframe thead th {\n",
              "        text-align: right;\n",
              "    }\n",
              "</style>\n",
              "<table border=\"1\" class=\"dataframe\">\n",
              "  <thead>\n",
              "    <tr style=\"text-align: right;\">\n",
              "      <th></th>\n",
              "      <th>model</th>\n",
              "      <th>best_score</th>\n",
              "      <th>best_params</th>\n",
              "    </tr>\n",
              "  </thead>\n",
              "  <tbody>\n",
              "    <tr>\n",
              "      <th>0</th>\n",
              "      <td>random_forest</td>\n",
              "      <td>0.89</td>\n",
              "      <td>{'n_estimators': 100}</td>\n",
              "    </tr>\n",
              "    <tr>\n",
              "      <th>1</th>\n",
              "      <td>decision_tree_classifier</td>\n",
              "      <td>0.86</td>\n",
              "      <td>{'criterion': 'entropy'}</td>\n",
              "    </tr>\n",
              "  </tbody>\n",
              "</table>\n",
              "</div>\n",
              "      <button class=\"colab-df-convert\" onclick=\"convertToInteractive('df-aa15689a-e838-4181-af65-48a4e4316fca')\"\n",
              "              title=\"Convert this dataframe to an interactive table.\"\n",
              "              style=\"display:none;\">\n",
              "        \n",
              "  <svg xmlns=\"http://www.w3.org/2000/svg\" height=\"24px\"viewBox=\"0 0 24 24\"\n",
              "       width=\"24px\">\n",
              "    <path d=\"M0 0h24v24H0V0z\" fill=\"none\"/>\n",
              "    <path d=\"M18.56 5.44l.94 2.06.94-2.06 2.06-.94-2.06-.94-.94-2.06-.94 2.06-2.06.94zm-11 1L8.5 8.5l.94-2.06 2.06-.94-2.06-.94L8.5 2.5l-.94 2.06-2.06.94zm10 10l.94 2.06.94-2.06 2.06-.94-2.06-.94-.94-2.06-.94 2.06-2.06.94z\"/><path d=\"M17.41 7.96l-1.37-1.37c-.4-.4-.92-.59-1.43-.59-.52 0-1.04.2-1.43.59L10.3 9.45l-7.72 7.72c-.78.78-.78 2.05 0 2.83L4 21.41c.39.39.9.59 1.41.59.51 0 1.02-.2 1.41-.59l7.78-7.78 2.81-2.81c.8-.78.8-2.07 0-2.86zM5.41 20L4 18.59l7.72-7.72 1.47 1.35L5.41 20z\"/>\n",
              "  </svg>\n",
              "      </button>\n",
              "      \n",
              "  <style>\n",
              "    .colab-df-container {\n",
              "      display:flex;\n",
              "      flex-wrap:wrap;\n",
              "      gap: 12px;\n",
              "    }\n",
              "\n",
              "    .colab-df-convert {\n",
              "      background-color: #E8F0FE;\n",
              "      border: none;\n",
              "      border-radius: 50%;\n",
              "      cursor: pointer;\n",
              "      display: none;\n",
              "      fill: #1967D2;\n",
              "      height: 32px;\n",
              "      padding: 0 0 0 0;\n",
              "      width: 32px;\n",
              "    }\n",
              "\n",
              "    .colab-df-convert:hover {\n",
              "      background-color: #E2EBFA;\n",
              "      box-shadow: 0px 1px 2px rgba(60, 64, 67, 0.3), 0px 1px 3px 1px rgba(60, 64, 67, 0.15);\n",
              "      fill: #174EA6;\n",
              "    }\n",
              "\n",
              "    [theme=dark] .colab-df-convert {\n",
              "      background-color: #3B4455;\n",
              "      fill: #D2E3FC;\n",
              "    }\n",
              "\n",
              "    [theme=dark] .colab-df-convert:hover {\n",
              "      background-color: #434B5C;\n",
              "      box-shadow: 0px 1px 3px 1px rgba(0, 0, 0, 0.15);\n",
              "      filter: drop-shadow(0px 1px 2px rgba(0, 0, 0, 0.3));\n",
              "      fill: #FFFFFF;\n",
              "    }\n",
              "  </style>\n",
              "\n",
              "      <script>\n",
              "        const buttonEl =\n",
              "          document.querySelector('#df-aa15689a-e838-4181-af65-48a4e4316fca button.colab-df-convert');\n",
              "        buttonEl.style.display =\n",
              "          google.colab.kernel.accessAllowed ? 'block' : 'none';\n",
              "\n",
              "        async function convertToInteractive(key) {\n",
              "          const element = document.querySelector('#df-aa15689a-e838-4181-af65-48a4e4316fca');\n",
              "          const dataTable =\n",
              "            await google.colab.kernel.invokeFunction('convertToInteractive',\n",
              "                                                     [key], {});\n",
              "          if (!dataTable) return;\n",
              "\n",
              "          const docLinkHtml = 'Like what you see? Visit the ' +\n",
              "            '<a target=\"_blank\" href=https://colab.research.google.com/notebooks/data_table.ipynb>data table notebook</a>'\n",
              "            + ' to learn more about interactive tables.';\n",
              "          element.innerHTML = '';\n",
              "          dataTable['output_type'] = 'display_data';\n",
              "          await google.colab.output.renderOutput(dataTable, element);\n",
              "          const docLink = document.createElement('div');\n",
              "          docLink.innerHTML = docLinkHtml;\n",
              "          element.appendChild(docLink);\n",
              "        }\n",
              "      </script>\n",
              "    </div>\n",
              "  </div>\n",
              "  "
            ]
          },
          "metadata": {},
          "execution_count": 1829
        }
      ],
      "source": [
        "# Tabela com os melhores modelos, às melhores pontuações de acurácia preditiva,\n",
        "# e com os melhores parâmetros:\n",
        "\n",
        "pd.DataFrame(scores).round(2)"
      ]
    },
    {
      "cell_type": "markdown",
      "metadata": {
        "id": "tKaGlD85hxr6"
      },
      "source": [
        "### FIM"
      ]
    }
  ],
  "metadata": {
    "colab": {
      "provenance": [],
      "authorship_tag": "ABX9TyNVNOGtANs7vQglangGzcy0",
      "include_colab_link": true
    },
    "kernelspec": {
      "display_name": "Python 3",
      "name": "python3"
    },
    "language_info": {
      "name": "python"
    }
  },
  "nbformat": 4,
  "nbformat_minor": 0
}